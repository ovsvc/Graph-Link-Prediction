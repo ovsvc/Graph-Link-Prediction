{
 "cells": [
  {
   "cell_type": "markdown",
   "metadata": {},
   "source": [
    "Task: Predict whether a user will vote on another user's posting\n",
    "\n",
    "**Considered datasets:**\n",
    "* Network of Users Who Vote on Postings (undirected) - df_edge_list_undirected_users_votes_to_postings_net\n",
    "* Network on Posting Behaviour of Users (undirected) - df_edge_list_undirected_users_postings_to_same_articles\n",
    "* Network of Users Who Reply to Postings (directed) - df_edge_list_directed_users_postings_replies\n",
    "\n",
    "**Additional datasets:**\n",
    "* df_Postings_filtered_net - Probably would need this as well since we can filter out posting by their date\n",
    "* df_Votes_filtered_net "
   ]
  },
  {
   "cell_type": "code",
   "execution_count": 1,
   "metadata": {},
   "outputs": [],
   "source": [
    "import node2vec\n",
    "from node2vec import Node2Vec\n",
    "import pandas as pd\n",
    "import os\n",
    "import networkx as nx\n",
    "import matplotlib.pyplot as plt\n",
    "from pathlib import Path\n",
    "from linkpred import LinkPred\n",
    "from scipy.sparse import coo_matrix\n",
    "from sklearn.decomposition import TruncatedSVD\n",
    "from sklearn.model_selection import train_test_split\n",
    "from sklearn.linear_model import LogisticRegression\n",
    "from sklearn.metrics import accuracy_score, roc_auc_score, roc_curve, auc\n",
    "import numpy as np\n",
    "import random\n",
    "#maybe this one is better but don't import both Node2Vec at the same time!\n",
    "#from torch_geometric.nn import Node2Vec "
   ]
  },
  {
   "cell_type": "code",
   "execution_count": 6,
   "metadata": {},
   "outputs": [],
   "source": [
    "folder_path = \"./data\""
   ]
  },
  {
   "cell_type": "code",
   "execution_count": 7,
   "metadata": {},
   "outputs": [
    {
     "name": "stdout",
     "output_type": "stream",
     "text": [
      "Reading file: df_edge_list_undirected_users_postings_to_same_articles\n",
      "Reading file: df_edge_list_undirected_users_votes_to_postings_net\n",
      "Reading file: df_Postings_filtered_net\n",
      "Reading file: df_edge_list_directed_users_postings_replies\n",
      "Reading file: df_Votes_filtered_net\n",
      "Loaded DataFrames: ['df_edge_list_undirected_users_postings_to_same_articles', 'df_edge_list_undirected_users_votes_to_postings_net', 'df_Postings_filtered_net', 'df_edge_list_directed_users_postings_replies', 'df_Votes_filtered_net']\n"
     ]
    }
   ],
   "source": [
    "# Directory containing your Parquet files\n",
    "relative_path_to_data = folder_path\n",
    "data_directory = os.path.abspath(relative_path_to_data)\n",
    "\n",
    "# Desired file stems to load\n",
    "desired_files = {\n",
    "    \"df_edge_list_undirected_users_votes_to_postings_net\",\n",
    "    \"df_edge_list_undirected_users_postings_to_same_articles\",\n",
    "    \"df_edge_list_directed_users_postings_replies\",\n",
    "    \"df_Postings_filtered_net\",\n",
    "    \"df_Votes_filtered_net\"\n",
    "}\n",
    "\n",
    "# Dictionary to store DataFrames with stem names as keys\n",
    "dataframes = {}\n",
    "\n",
    "# Iterate over all Parquet files in the directory\n",
    "for file_path in Path(data_directory).glob(\"*.parquet\"):\n",
    "\n",
    "    # Extract the file stem (name without extension)\n",
    "    file_stem = file_path.stem\n",
    "    \n",
    "    # Check if the file stem is in the desired list\n",
    "    if file_stem in desired_files:\n",
    "        print(f\"Reading file: {file_stem}\")\n",
    "        \n",
    "        # Read the Parquet file into a DataFrame\n",
    "        df = pd.read_parquet(file_path)\n",
    "        \n",
    "        # Store the DataFrame in the dictionary with the stem as the key\n",
    "        dataframes[file_stem] = df\n",
    "\n",
    "# Access DataFrames by their file stem\n",
    "print(f\"Loaded DataFrames: {list(dataframes.keys())}\")"
   ]
  },
  {
   "cell_type": "code",
   "execution_count": 8,
   "metadata": {},
   "outputs": [
    {
     "name": "stdout",
     "output_type": "stream",
     "text": [
      "Updated DataFrame keys: ['df_edge_list_undirected_users_postings_to_same_articles', 'df_edge_list_undirected_users_votes_to_postings_net', 'df_Postings_filtered_net', 'df_edge_list_directed_users_postings_replies', 'df_Votes_filtered_net']\n",
      "   ID_CommunityIdentity_min  ID_CommunityIdentity_max  \\\n",
      "0                         4                      6293   \n",
      "1                         4                      8008   \n",
      "2                         4                      9525   \n",
      "3                         4                     18764   \n",
      "4                         4                     21088   \n",
      "\n",
      "   count_votes_to_postings_net  \n",
      "0                            1  \n",
      "1                            1  \n",
      "2                            1  \n",
      "3                            1  \n",
      "4                            1  \n"
     ]
    }
   ],
   "source": [
    "# Assign relevant DataFrames to new variable names\n",
    "votes_to_postings = dataframes[\"df_edge_list_undirected_users_votes_to_postings_net\"]\n",
    "postings_to_articles = dataframes[\"df_edge_list_undirected_users_postings_to_same_articles\"]\n",
    "replies = dataframes[\"df_edge_list_directed_users_postings_replies\"]\n",
    "\n",
    "# Additional datasets\n",
    "filtered_postings = dataframes[\"df_Postings_filtered_net\"]\n",
    "filtered_votes = dataframes[\"df_Votes_filtered_net\"]\n",
    "\n",
    "# Verify the updated key names in the dictionary\n",
    "print(\"Updated DataFrame keys:\", list(dataframes.keys()))\n",
    "\n",
    "# Example access\n",
    "print(votes_to_postings.head())  # View the first few rows of one of the DataFrames"
   ]
  },
  {
   "cell_type": "markdown",
   "metadata": {},
   "source": [
    "We decided to experiment with the following dataframes for link prediction:\n",
    "- \"df_edge_list_undirected_users_votes_to_postings_net\""
   ]
  },
  {
   "cell_type": "code",
   "execution_count": 9,
   "metadata": {},
   "outputs": [
    {
     "name": "stdout",
     "output_type": "stream",
     "text": [
      "Undirected Votes DataFrame Info:\n",
      "<class 'pandas.core.frame.DataFrame'>\n",
      "RangeIndex: 5535637 entries, 0 to 5535636\n",
      "Data columns (total 3 columns):\n",
      " #   Column                       Dtype\n",
      "---  ------                       -----\n",
      " 0   ID_CommunityIdentity_min     int64\n",
      " 1   ID_CommunityIdentity_max     int64\n",
      " 2   count_votes_to_postings_net  int64\n",
      "dtypes: int64(3)\n",
      "memory usage: 126.7 MB\n",
      "None \n",
      "\n"
     ]
    }
   ],
   "source": [
    "print(\"Undirected Votes DataFrame Info:\")\n",
    "print(votes_to_postings.info(), \"\\n\")"
   ]
  },
  {
   "cell_type": "code",
   "execution_count": 10,
   "metadata": {},
   "outputs": [
    {
     "name": "stdout",
     "output_type": "stream",
     "text": [
      "Missing Data in Undirected Replies:\n",
      "ID_CommunityIdentity_min       0\n",
      "ID_CommunityIdentity_max       0\n",
      "count_votes_to_postings_net    0\n",
      "dtype: int64 \n",
      "\n"
     ]
    }
   ],
   "source": [
    "print(\"Missing Data in Undirected Replies:\")\n",
    "print(votes_to_postings.isnull().sum(), \"\\n\")"
   ]
  },
  {
   "cell_type": "code",
   "execution_count": 11,
   "metadata": {},
   "outputs": [
    {
     "name": "stdout",
     "output_type": "stream",
     "text": [
      "\n",
      "Preview of DataFrame:\n"
     ]
    },
    {
     "data": {
      "text/html": [
       "<div>\n",
       "<style scoped>\n",
       "    .dataframe tbody tr th:only-of-type {\n",
       "        vertical-align: middle;\n",
       "    }\n",
       "\n",
       "    .dataframe tbody tr th {\n",
       "        vertical-align: top;\n",
       "    }\n",
       "\n",
       "    .dataframe thead th {\n",
       "        text-align: right;\n",
       "    }\n",
       "</style>\n",
       "<table border=\"1\" class=\"dataframe\">\n",
       "  <thead>\n",
       "    <tr style=\"text-align: right;\">\n",
       "      <th></th>\n",
       "      <th>ID_CommunityIdentity_min</th>\n",
       "      <th>ID_CommunityIdentity_max</th>\n",
       "      <th>count_votes_to_postings_net</th>\n",
       "    </tr>\n",
       "  </thead>\n",
       "  <tbody>\n",
       "    <tr>\n",
       "      <th>0</th>\n",
       "      <td>4</td>\n",
       "      <td>6293</td>\n",
       "      <td>1</td>\n",
       "    </tr>\n",
       "    <tr>\n",
       "      <th>1</th>\n",
       "      <td>4</td>\n",
       "      <td>8008</td>\n",
       "      <td>1</td>\n",
       "    </tr>\n",
       "    <tr>\n",
       "      <th>2</th>\n",
       "      <td>4</td>\n",
       "      <td>9525</td>\n",
       "      <td>1</td>\n",
       "    </tr>\n",
       "    <tr>\n",
       "      <th>3</th>\n",
       "      <td>4</td>\n",
       "      <td>18764</td>\n",
       "      <td>1</td>\n",
       "    </tr>\n",
       "    <tr>\n",
       "      <th>4</th>\n",
       "      <td>4</td>\n",
       "      <td>21088</td>\n",
       "      <td>1</td>\n",
       "    </tr>\n",
       "  </tbody>\n",
       "</table>\n",
       "</div>"
      ],
      "text/plain": [
       "   ID_CommunityIdentity_min  ID_CommunityIdentity_max  \\\n",
       "0                         4                      6293   \n",
       "1                         4                      8008   \n",
       "2                         4                      9525   \n",
       "3                         4                     18764   \n",
       "4                         4                     21088   \n",
       "\n",
       "   count_votes_to_postings_net  \n",
       "0                            1  \n",
       "1                            1  \n",
       "2                            1  \n",
       "3                            1  \n",
       "4                            1  "
      ]
     },
     "metadata": {},
     "output_type": "display_data"
    }
   ],
   "source": [
    "print(\"\\nPreview of DataFrame:\")\n",
    "display(votes_to_postings.head())"
   ]
  },
  {
   "cell_type": "markdown",
   "metadata": {},
   "source": [
    "### Link Prediction"
   ]
  },
  {
   "cell_type": "markdown",
   "metadata": {},
   "source": [
    "First we experiment with the directed version"
   ]
  },
  {
   "cell_type": "code",
   "execution_count": 12,
   "metadata": {},
   "outputs": [],
   "source": [
    "# Convert the undirected votes dataset into a graph\n",
    "G_undirected = nx.from_pandas_edgelist(\n",
    "    votes_to_postings,  # Replace with your DataFrame variable\n",
    "    source=\"ID_CommunityIdentity_min\",\n",
    "    target=\"ID_CommunityIdentity_max\",\n",
    "    edge_attr=\"count_votes_to_postings_net\",  # Optional: edge weights\n",
    "    create_using=nx.Graph()  # Ensure an undirected graph\n",
    ")\n"
   ]
  },
  {
   "cell_type": "code",
   "execution_count": 23,
   "metadata": {},
   "outputs": [
    {
     "name": "stdout",
     "output_type": "stream",
     "text": [
      "Graph: 10964 nodes, 529434 edges\n"
     ]
    }
   ],
   "source": [
    "import pickle\n",
    "\n",
    "# Load the graph\n",
    "with open(\"graph.pkl\", \"rb\") as f:\n",
    "    G_undirected = pickle.load(f)\n",
    "\n",
    "# Verify the graph is loaded\n",
    "print(f\"Graph: {graph.number_of_nodes()} nodes, {graph.number_of_edges()} edges\")\n"
   ]
  },
  {
   "cell_type": "code",
   "execution_count": 24,
   "metadata": {},
   "outputs": [
    {
     "data": {
      "text/plain": [
       "False"
      ]
     },
     "execution_count": 24,
     "metadata": {},
     "output_type": "execute_result"
    }
   ],
   "source": [
    "# check if its directed\n",
    "G_undirected.is_directed()\n"
   ]
  },
  {
   "cell_type": "code",
   "execution_count": 25,
   "metadata": {},
   "outputs": [],
   "source": [
    "# create subgraph\n",
    "\n",
    "# Sample a smaller subgraph\n",
    "subgraph = G_undirected.subgraph(list(G_undirected.nodes)[:1000])  # Adjust size \n",
    "\n",
    "# G_directed = subgraph # comment it out when using the full graph\n"
   ]
  },
  {
   "cell_type": "code",
   "execution_count": 26,
   "metadata": {},
   "outputs": [
    {
     "data": {
      "text/plain": [
       "1000"
      ]
     },
     "execution_count": 26,
     "metadata": {},
     "output_type": "execute_result"
    }
   ],
   "source": [
    "#check number of nodes\n",
    "subgraph.number_of_nodes()"
   ]
  },
  {
   "cell_type": "code",
   "execution_count": 27,
   "metadata": {},
   "outputs": [
    {
     "data": {
      "image/png": "[encoded data removed]",
      "text/plain": [
       "<Figure size 1000x800 with 1 Axes>"
      ]
     },
     "metadata": {},
     "output_type": "display_data"
    }
   ],
   "source": [
    "# Visualize the subgraph with basic layout\n",
    "plt.figure(figsize=(10, 8))\n",
    "pos = nx.spring_layout(subgraph) \n",
    "nx.draw(\n",
    "    subgraph, \n",
    "    pos, \n",
    "    with_labels=False, \n",
    "    node_size=50, \n",
    "    edge_color='gray', \n",
    "    alpha=0.7\n",
    ")\n",
    "plt.title(\"Graph Visualization\")\n",
    "plt.show()"
   ]
  },
  {
   "cell_type": "code",
   "execution_count": null,
   "metadata": {},
   "outputs": [],
   "source": []
  },
  {
   "cell_type": "markdown",
   "metadata": {},
   "source": [
    "### Train Test and Validation Split"
   ]
  },
  {
   "cell_type": "code",
   "execution_count": 28,
   "metadata": {},
   "outputs": [],
   "source": [
    "graph = subgraph # comment it out when using the full\n",
    "# graph = G_undirected # comment it out when using the subgraph"
   ]
  },
  {
   "cell_type": "code",
   "execution_count": 29,
   "metadata": {},
   "outputs": [
    {
     "data": {
      "text/plain": [
       "35141"
      ]
     },
     "execution_count": 29,
     "metadata": {},
     "output_type": "execute_result"
    }
   ],
   "source": [
    "len(graph.edges)"
   ]
  },
  {
   "cell_type": "code",
   "execution_count": 30,
   "metadata": {},
   "outputs": [
    {
     "name": "stdout",
     "output_type": "stream",
     "text": [
      "Original Graph: 1000 nodes, 35141 edges\n",
      "Train Graph: 1000 nodes, 24597 edges\n",
      "Training Edges: 24597\n",
      "Validation Edges: 5272\n",
      "Test Edges: 5272\n"
     ]
    }
   ],
   "source": [
    "# 1. Extract all edges (positive examples)\n",
    "edges = list(graph.edges())\n",
    "\n",
    "# 2. Split edges into train/test (85% train+val, 15% test)\n",
    "train_val_edges, test_edges = train_test_split(edges, test_size=0.15, random_state=42)\n",
    "\n",
    "# 3. Split train_val into train (70%) and validation (15%)\n",
    "train_edges, val_edges = train_test_split(train_val_edges, test_size=0.1765, random_state=42)  # 0.1765 ≈ 15% of 85%\n",
    "\n",
    "# 4. Create the train graph (only training edges)\n",
    "graph_train = graph.copy()\n",
    "graph_train.remove_edges_from(val_edges)\n",
    "graph_train.remove_edges_from(test_edges)\n",
    "\n",
    "# Ensure all nodes from the original graph are in the train graph\n",
    "graph_train.add_nodes_from(graph.nodes())\n",
    "\n",
    "# Print statistics\n",
    "print(f\"Original Graph: {graph.number_of_nodes()} nodes, {graph.number_of_edges()} edges\")\n",
    "print(f\"Train Graph: {graph_train.number_of_nodes()} nodes, {graph_train.number_of_edges()} edges\")\n",
    "print(f\"Training Edges: {len(train_edges)}\")\n",
    "print(f\"Validation Edges: {len(val_edges)}\")\n",
    "print(f\"Test Edges: {len(test_edges)}\")"
   ]
  },
  {
   "cell_type": "code",
   "execution_count": 32,
   "metadata": {},
   "outputs": [
    {
     "name": "stdout",
     "output_type": "stream",
     "text": [
      "Train Negative Edges: 24597\n",
      "Validation Negative Edges: 5272\n",
      "Test Negative Edges: 5272\n"
     ]
    }
   ],
   "source": [
    "# Generate negative edges (non-edges)\n",
    "all_non_edges = set(nx.non_edges(graph))\n",
    "\n",
    "# Sample negative edges for each set\n",
    "#train_neg_edges = random.sample(all_non_edges, len(train_edges))\n",
    "#val_neg_edges = random.sample(all_non_edges - set(train_neg_edges), len(val_edges))\n",
    "#test_neg_edges = random.sample(all_non_edges - set(train_neg_edges) - set(val_neg_edges), len(test_edges))\n",
    "train_neg_edges = random.sample(list(all_non_edges), len(train_edges))\n",
    "val_neg_edges = random.sample(list(all_non_edges - set(train_neg_edges)), len(val_edges))\n",
    "test_neg_edges = random.sample(list(all_non_edges - set(train_neg_edges) - set(val_neg_edges)), len(test_edges))\n",
    "\n",
    "# Verify counts\n",
    "print(f\"Train Negative Edges: {len(train_neg_edges)}\")\n",
    "print(f\"Validation Negative Edges: {len(val_neg_edges)}\")\n",
    "print(f\"Test Negative Edges: {len(test_neg_edges)}\")\n",
    "\n"
   ]
  },
  {
   "cell_type": "markdown",
   "metadata": {},
   "source": [
    "### Train and evaluate link prediction model using node2vec"
   ]
  },
  {
   "cell_type": "code",
   "execution_count": 33,
   "metadata": {},
   "outputs": [
    {
     "data": {
      "application/vnd.jupyter.widget-view+json": {
       "model_id": "8f651f26f1cc49d4b9f064788477e69f",
       "version_major": 2,
       "version_minor": 0
      },
      "text/plain": [
       "Computing transition probabilities:   0%|          | 0/1000 [00:00<?, ?it/s]"
      ]
     },
     "metadata": {},
     "output_type": "display_data"
    },
    {
     "name": "stderr",
     "output_type": "stream",
     "text": [
      "python(66553) MallocStackLogging: can't turn off malloc stack logging because it was not enabled.\n",
      "python(66554) MallocStackLogging: can't turn off malloc stack logging because it was not enabled.\n",
      "python(66555) MallocStackLogging: can't turn off malloc stack logging because it was not enabled.\n",
      "python(66556) MallocStackLogging: can't turn off malloc stack logging because it was not enabled.\n",
      "Generating walks (CPU: 1): 100%|██████████| 50/50 [00:09<00:00,  5.22it/s]\n",
      "Generating walks (CPU: 2): 100%|██████████| 50/50 [00:09<00:00,  5.20it/s]\n",
      "Generating walks (CPU: 3): 100%|██████████| 50/50 [00:09<00:00,  5.02it/s]\n",
      "Generating walks (CPU: 4): 100%|██████████| 50/50 [00:10<00:00,  4.98it/s]\n"
     ]
    }
   ],
   "source": [
    "# Calculate node embeddings with Node2Vec on the training graph\n",
    "\n",
    "node2vec_train = Node2Vec(\n",
    "    graph=graph_train, # Use the training graph\n",
    "    dimensions=64,    # Embedding dimensions\n",
    "    walk_length=30,   # Length of random walks\n",
    "    num_walks=200,    # Number of random walks per node\n",
    "    workers=4         # Parallel threads\n",
    ")"
   ]
  },
  {
   "cell_type": "code",
   "execution_count": 34,
   "metadata": {},
   "outputs": [
    {
     "name": "stdout",
     "output_type": "stream",
     "text": [
      "Number of nodes in train_graph: 1000\n",
      "Number of generated embeddings: 1000\n"
     ]
    }
   ],
   "source": [
    "# Fit the model and extract embeddings\n",
    "model_train = node2vec_train.fit()\n",
    "embeddings_train = {node: model_train.wv[str(node)] for node in graph_train.nodes()}\n",
    "\n",
    "# Verify embeddings\n",
    "print(f\"Number of nodes in train_graph: {graph_train.number_of_nodes()}\")\n",
    "print(f\"Number of generated embeddings: {len(embeddings_train)}\")"
   ]
  },
  {
   "cell_type": "code",
   "execution_count": 35,
   "metadata": {},
   "outputs": [],
   "source": [
    "def embedding_train(node):\n",
    "    return model_train.wv[str(node)]"
   ]
  },
  {
   "cell_type": "code",
   "execution_count": 36,
   "metadata": {},
   "outputs": [
    {
     "name": "stdout",
     "output_type": "stream",
     "text": [
      "Node 163840: [ 3.9033608e-03  3.1609783e-01  3.8595703e-01 -3.7781972e-01\n",
      "  1.6085064e-01 -4.9111670e-01  1.0333448e-01 -3.3475101e-01\n",
      "  5.4327452e-01 -2.5925040e-02  4.6307978e-01 -6.8850517e-03\n",
      " -3.1595632e-01 -2.4702625e-01 -6.0632157e-01  2.2359005e-01\n",
      " -3.6730659e-01 -2.6511234e-01  6.2293369e-01 -1.1018611e-01\n",
      "  2.8500247e-01  2.9018372e-01 -2.6538241e-01 -1.7306302e-01\n",
      " -1.4858195e-01 -3.2038453e-01 -4.8197603e-01  1.4216164e-01\n",
      " -7.1050197e-01  5.6287110e-02  3.8894981e-01  2.7515602e-01\n",
      " -2.7079171e-01 -3.7418619e-01 -4.2923108e-02 -2.3889139e-01\n",
      "  5.1933992e-01 -4.2190099e-01  3.5451877e-01 -1.0823528e-01\n",
      " -1.0754263e-01  1.3765094e-01 -4.9247991e-02 -7.6371968e-02\n",
      "  1.5122569e-01  9.9927299e-02  1.3428982e-01  1.0322106e-01\n",
      " -3.2648182e-01  5.7745498e-02 -1.3972071e-01 -6.8192855e-02\n",
      " -5.4593280e-02  3.4103048e-01 -6.0450979e-02  2.3301563e-01\n",
      "  4.7947068e-02 -4.9220347e-01  9.0973511e-02  5.0849700e-05\n",
      " -6.0414308e-01 -5.6280089e-03  5.5753928e-01  2.2987881e-01]\n",
      "Node 534531: [-0.5347908   0.03376939 -0.24147633 -0.41467565 -0.16527131 -0.01768623\n",
      "  0.1085694  -0.21741466  0.29836673 -0.21960273 -0.3395155   0.34549373\n",
      "  0.02196514  0.02948954  0.0016128   0.39537156 -0.20590739  0.5316352\n",
      " -0.3337944   0.5717117  -0.0641917   0.0159129   0.37594208 -0.47336543\n",
      " -0.6292793   0.2250934  -0.09054797  0.046854    0.00241692 -0.3682189\n",
      "  0.0354521  -0.00160032  0.03369961 -0.3784154   0.03734164 -0.00727052\n",
      " -0.45675313  0.27649054 -0.3240466   0.13531074 -0.02879302  0.28104967\n",
      " -0.24669942 -0.42303094  0.36254624 -0.15864255  0.2685906  -0.70267457\n",
      " -0.01215079 -0.01412533 -0.06219975 -0.12517907  0.23077844  0.14129224\n",
      " -0.27369788 -0.35779506 -0.09659652 -0.27388453  0.21037813  0.2644904\n",
      "  0.04855165 -0.36132932  0.7808824  -0.19270629]\n",
      "Node 4: [-0.4442282  -0.32235956 -0.33351886  0.12398235  0.55785406 -0.45285553\n",
      "  0.5995406   0.117406   -0.10176409 -0.25571167  0.23650286 -0.4532554\n",
      " -1.086152   -0.7022441  -0.10106183  0.26630178  0.5436136   0.51119787\n",
      "  0.51467264  0.2816197   0.92183757 -0.11885308  0.42931277  0.06001268\n",
      "  0.00605589  0.69343376 -0.7326655   0.03884671 -0.57663876  0.01114287\n",
      " -0.23515898  0.22618376  0.12321028 -0.5265532  -0.43010408 -0.49870834\n",
      "  0.41841874 -0.02708411 -0.28592324 -0.13936704  0.2594077  -0.16226205\n",
      " -0.49852127 -0.07646256  0.6783396  -0.01871913  0.14618431 -0.30532458\n",
      " -0.02253391  0.9925143   0.19486192  0.10880869 -0.39741358  0.1794783\n",
      "  0.29187652 -1.2641762  -0.27100325  0.42076454  0.1773291  -0.58924913\n",
      "  0.21103105  0.1284555   0.14881262  0.5898324 ]\n",
      "Node 63493: [ 0.3302839   0.03868331  0.08542491 -0.23545314  0.03682908 -0.13311343\n",
      "  0.43140054 -0.3370016  -0.65034163 -0.05205274  0.07130782  0.27162382\n",
      " -0.29999503  0.35025272 -0.5498338   0.02701488  0.02982625  0.03460366\n",
      " -0.21764345  0.7162075   0.03782467  0.13654989  0.1179148  -0.5480345\n",
      "  0.3041816  -0.26674467 -0.28050232  0.1459232  -0.09608703  0.17854258\n",
      "  0.15848206  0.06947324 -0.03890923 -0.0893206   0.1581454  -0.05413353\n",
      "  0.27256238  0.00507296  0.20510256  0.13303824 -0.06438071 -0.07340197\n",
      "  0.1284256  -0.01759154  0.32997936  0.19054262 -0.2329306  -0.0831576\n",
      " -0.2167845  -0.25225928  0.2441395  -0.32935667  0.09968123  0.14921299\n",
      "  0.0624921  -0.53677493 -0.25393566 -0.0467852  -0.13269706  0.4156676\n",
      " -0.1839611   0.2972529  -0.04935719 -0.03562585]\n",
      "Node 206852: [ 0.46334648 -0.30635008 -0.43853685 -0.6387937  -0.05071734 -0.14384244\n",
      " -0.18962765 -0.00783104 -0.5228044   0.14480977  0.05116454 -0.38590983\n",
      "  0.40731183 -0.6427628   0.11355477  0.33077392  0.21939063 -0.05422527\n",
      " -0.04557936  0.01475569 -0.42044255 -0.07099959 -0.25194505 -0.21725214\n",
      " -0.45376948  0.37760487  0.336206    0.12288851  0.05736656 -0.5375978\n",
      " -0.23569648 -0.1289789   0.42857224 -0.11709166  0.24359018  0.01161211\n",
      "  0.31340894 -0.31776622 -0.02227139  0.2428765   0.43938878  0.01840546\n",
      " -0.22475612 -0.12886398  0.5648429  -0.7677078  -0.09414539 -0.15289457\n",
      "  0.02465951  0.4267599   0.08158936 -0.08841684  0.03177296 -0.06728574\n",
      " -0.4546537   0.05157408 -0.11540607 -0.3825067  -0.20937419  0.01641226\n",
      " -0.4811834  -0.13728939  0.1904728   0.5004571 ]\n"
     ]
    }
   ],
   "source": [
    "# verify embeddings\n",
    "for node in list(graph_train.nodes())[:5]:\n",
    "    print(f\"Node {node}: {embeddings_train[node]}\")"
   ]
  },
  {
   "cell_type": "code",
   "execution_count": 37,
   "metadata": {},
   "outputs": [],
   "source": [
    "# Define binary operators\n",
    "def operator_hadamard(u, v):\n",
    "    return u * v  # Element-wise product\n",
    "\n",
    "def operator_l1(u, v):\n",
    "    return np.abs(u - v)  # L1 distance\n",
    "\n",
    "def operator_l2(u, v):\n",
    "    return (u - v) ** 2  # L2 distance\n",
    "\n",
    "def operator_avg(u, v):\n",
    "    return (u + v) / 2  # Average\n",
    "\n",
    "# List of operators\n",
    "binary_operators = {\n",
    "    \"Hadamard\": operator_hadamard,\n",
    "    \"L1\": operator_l1,\n",
    "    \"L2\": operator_l2,\n",
    "    \"Average\": operator_avg\n",
    "}"
   ]
  },
  {
   "cell_type": "code",
   "execution_count": 38,
   "metadata": {},
   "outputs": [
    {
     "name": "stdout",
     "output_type": "stream",
     "text": [
      "Train Features: 49194, Positive Edges: 24597, Negative Edges: 24597\n"
     ]
    }
   ],
   "source": [
    "# Generate features for positive training edges\n",
    "X_train_pos = [\n",
    "    operator_hadamard(embedding_train(u), embedding_train(v)) \n",
    "    for u, v in train_edges if str(u) in model_train.wv and str(v) in model_train.wv\n",
    "]\n",
    "\n",
    "# Generate features for negative training edges\n",
    "X_train_neg = [\n",
    "    operator_hadamard(embedding_train(u), embedding_train(v)) \n",
    "    for u, v in train_neg_edges if str(u) in model_train.wv and str(v) in model_train.wv\n",
    "]\n",
    "\n",
    "# Combine features\n",
    "X_train = np.vstack([X_train_pos, X_train_neg])  # Combine positive and negative features\n",
    "y_train = [1] * len(X_train_pos) + [0] * len(X_train_neg)  # Labels: 1 for positive, 0 for negative\n",
    "\n",
    "# Verify outputs\n",
    "print(f\"Train Features: {len(X_train)}, Positive Edges: {len(X_train_pos)}, Negative Edges: {len(X_train_neg)}\")"
   ]
  },
  {
   "cell_type": "code",
   "execution_count": 39,
   "metadata": {},
   "outputs": [
    {
     "name": "stdout",
     "output_type": "stream",
     "text": [
      "Validation Features: 10544, Positive Edges: 5272, Negative Edges: 5272\n"
     ]
    }
   ],
   "source": [
    "# Generate features for positive validation edges\n",
    "X_val_pos = [\n",
    "    operator_hadamard(embedding_train(u), embedding_train(v)) \n",
    "    for u, v in val_edges if str(u) in model_train.wv and str(v) in model_train.wv\n",
    "]\n",
    "\n",
    "# Generate features for negative validation edges\n",
    "X_val_neg = [\n",
    "    operator_hadamard(embedding_train(u), embedding_train(v)) \n",
    "    for u, v in val_neg_edges if str(u) in model_train.wv and str(v) in model_train.wv\n",
    "]\n",
    "\n",
    "# Combine features\n",
    "X_val = np.vstack([X_val_pos, X_val_neg])  # Combine positive and negative features\n",
    "y_val = [1] * len(X_val_pos) + [0] * len(X_val_neg)  # Labels: 1 for positive, 0 for negative\n",
    "\n",
    "# Verify outputs\n",
    "print(f\"Validation Features: {len(X_val)}, Positive Edges: {len(X_val_pos)}, Negative Edges: {len(X_val_neg)}\")"
   ]
  },
  {
   "cell_type": "code",
   "execution_count": 40,
   "metadata": {},
   "outputs": [
    {
     "data": {
      "text/html": [
       "<style>#sk-container-id-1 {\n",
       "  /* Definition of color scheme common for light and dark mode */\n",
       "  --sklearn-color-text: black;\n",
       "  --sklearn-color-line: gray;\n",
       "  /* Definition of color scheme for unfitted estimators */\n",
       "  --sklearn-color-unfitted-level-0: #fff5e6;\n",
       "  --sklearn-color-unfitted-level-1: #f6e4d2;\n",
       "  --sklearn-color-unfitted-level-2: #ffe0b3;\n",
       "  --sklearn-color-unfitted-level-3: chocolate;\n",
       "  /* Definition of color scheme for fitted estimators */\n",
       "  --sklearn-color-fitted-level-0: #f0f8ff;\n",
       "  --sklearn-color-fitted-level-1: #d4ebff;\n",
       "  --sklearn-color-fitted-level-2: #b3dbfd;\n",
       "  --sklearn-color-fitted-level-3: cornflowerblue;\n",
       "\n",
       "  /* Specific color for light theme */\n",
       "  --sklearn-color-text-on-default-background: var(--sg-text-color, var(--theme-code-foreground, var(--jp-content-font-color1, black)));\n",
       "  --sklearn-color-background: var(--sg-background-color, var(--theme-background, var(--jp-layout-color0, white)));\n",
       "  --sklearn-color-border-box: var(--sg-text-color, var(--theme-code-foreground, var(--jp-content-font-color1, black)));\n",
       "  --sklearn-color-icon: #696969;\n",
       "\n",
       "  @media (prefers-color-scheme: dark) {\n",
       "    /* Redefinition of color scheme for dark theme */\n",
       "    --sklearn-color-text-on-default-background: var(--sg-text-color, var(--theme-code-foreground, var(--jp-content-font-color1, white)));\n",
       "    --sklearn-color-background: var(--sg-background-color, var(--theme-background, var(--jp-layout-color0, #111)));\n",
       "    --sklearn-color-border-box: var(--sg-text-color, var(--theme-code-foreground, var(--jp-content-font-color1, white)));\n",
       "    --sklearn-color-icon: #878787;\n",
       "  }\n",
       "}\n",
       "\n",
       "#sk-container-id-1 {\n",
       "  color: var(--sklearn-color-text);\n",
       "}\n",
       "\n",
       "#sk-container-id-1 pre {\n",
       "  padding: 0;\n",
       "}\n",
       "\n",
       "#sk-container-id-1 input.sk-hidden--visually {\n",
       "  border: 0;\n",
       "  clip: rect(1px 1px 1px 1px);\n",
       "  clip: rect(1px, 1px, 1px, 1px);\n",
       "  height: 1px;\n",
       "  margin: -1px;\n",
       "  overflow: hidden;\n",
       "  padding: 0;\n",
       "  position: absolute;\n",
       "  width: 1px;\n",
       "}\n",
       "\n",
       "#sk-container-id-1 div.sk-dashed-wrapped {\n",
       "  border: 1px dashed var(--sklearn-color-line);\n",
       "  margin: 0 0.4em 0.5em 0.4em;\n",
       "  box-sizing: border-box;\n",
       "  padding-bottom: 0.4em;\n",
       "  background-color: var(--sklearn-color-background);\n",
       "}\n",
       "\n",
       "#sk-container-id-1 div.sk-container {\n",
       "  /* jupyter's `normalize.less` sets `[hidden] { display: none; }`\n",
       "     but bootstrap.min.css set `[hidden] { display: none !important; }`\n",
       "     so we also need the `!important` here to be able to override the\n",
       "     default hidden behavior on the sphinx rendered scikit-learn.org.\n",
       "     See: https://github.com/scikit-learn/scikit-learn/issues/21755 */\n",
       "  display: inline-block !important;\n",
       "  position: relative;\n",
       "}\n",
       "\n",
       "#sk-container-id-1 div.sk-text-repr-fallback {\n",
       "  display: none;\n",
       "}\n",
       "\n",
       "div.sk-parallel-item,\n",
       "div.sk-serial,\n",
       "div.sk-item {\n",
       "  /* draw centered vertical line to link estimators */\n",
       "  background-image: linear-gradient(var(--sklearn-color-text-on-default-background), var(--sklearn-color-text-on-default-background));\n",
       "  background-size: 2px 100%;\n",
       "  background-repeat: no-repeat;\n",
       "  background-position: center center;\n",
       "}\n",
       "\n",
       "/* Parallel-specific style estimator block */\n",
       "\n",
       "#sk-container-id-1 div.sk-parallel-item::after {\n",
       "  content: \"\";\n",
       "  width: 100%;\n",
       "  border-bottom: 2px solid var(--sklearn-color-text-on-default-background);\n",
       "  flex-grow: 1;\n",
       "}\n",
       "\n",
       "#sk-container-id-1 div.sk-parallel {\n",
       "  display: flex;\n",
       "  align-items: stretch;\n",
       "  justify-content: center;\n",
       "  background-color: var(--sklearn-color-background);\n",
       "  position: relative;\n",
       "}\n",
       "\n",
       "#sk-container-id-1 div.sk-parallel-item {\n",
       "  display: flex;\n",
       "  flex-direction: column;\n",
       "}\n",
       "\n",
       "#sk-container-id-1 div.sk-parallel-item:first-child::after {\n",
       "  align-self: flex-end;\n",
       "  width: 50%;\n",
       "}\n",
       "\n",
       "#sk-container-id-1 div.sk-parallel-item:last-child::after {\n",
       "  align-self: flex-start;\n",
       "  width: 50%;\n",
       "}\n",
       "\n",
       "#sk-container-id-1 div.sk-parallel-item:only-child::after {\n",
       "  width: 0;\n",
       "}\n",
       "\n",
       "/* Serial-specific style estimator block */\n",
       "\n",
       "#sk-container-id-1 div.sk-serial {\n",
       "  display: flex;\n",
       "  flex-direction: column;\n",
       "  align-items: center;\n",
       "  background-color: var(--sklearn-color-background);\n",
       "  padding-right: 1em;\n",
       "  padding-left: 1em;\n",
       "}\n",
       "\n",
       "\n",
       "/* Toggleable style: style used for estimator/Pipeline/ColumnTransformer box that is\n",
       "clickable and can be expanded/collapsed.\n",
       "- Pipeline and ColumnTransformer use this feature and define the default style\n",
       "- Estimators will overwrite some part of the style using the `sk-estimator` class\n",
       "*/\n",
       "\n",
       "/* Pipeline and ColumnTransformer style (default) */\n",
       "\n",
       "#sk-container-id-1 div.sk-toggleable {\n",
       "  /* Default theme specific background. It is overwritten whether we have a\n",
       "  specific estimator or a Pipeline/ColumnTransformer */\n",
       "  background-color: var(--sklearn-color-background);\n",
       "}\n",
       "\n",
       "/* Toggleable label */\n",
       "#sk-container-id-1 label.sk-toggleable__label {\n",
       "  cursor: pointer;\n",
       "  display: block;\n",
       "  width: 100%;\n",
       "  margin-bottom: 0;\n",
       "  padding: 0.5em;\n",
       "  box-sizing: border-box;\n",
       "  text-align: center;\n",
       "}\n",
       "\n",
       "#sk-container-id-1 label.sk-toggleable__label-arrow:before {\n",
       "  /* Arrow on the left of the label */\n",
       "  content: \"▸\";\n",
       "  float: left;\n",
       "  margin-right: 0.25em;\n",
       "  color: var(--sklearn-color-icon);\n",
       "}\n",
       "\n",
       "#sk-container-id-1 label.sk-toggleable__label-arrow:hover:before {\n",
       "  color: var(--sklearn-color-text);\n",
       "}\n",
       "\n",
       "/* Toggleable content - dropdown */\n",
       "\n",
       "#sk-container-id-1 div.sk-toggleable__content {\n",
       "  max-height: 0;\n",
       "  max-width: 0;\n",
       "  overflow: hidden;\n",
       "  text-align: left;\n",
       "  /* unfitted */\n",
       "  background-color: var(--sklearn-color-unfitted-level-0);\n",
       "}\n",
       "\n",
       "#sk-container-id-1 div.sk-toggleable__content.fitted {\n",
       "  /* fitted */\n",
       "  background-color: var(--sklearn-color-fitted-level-0);\n",
       "}\n",
       "\n",
       "#sk-container-id-1 div.sk-toggleable__content pre {\n",
       "  margin: 0.2em;\n",
       "  border-radius: 0.25em;\n",
       "  color: var(--sklearn-color-text);\n",
       "  /* unfitted */\n",
       "  background-color: var(--sklearn-color-unfitted-level-0);\n",
       "}\n",
       "\n",
       "#sk-container-id-1 div.sk-toggleable__content.fitted pre {\n",
       "  /* unfitted */\n",
       "  background-color: var(--sklearn-color-fitted-level-0);\n",
       "}\n",
       "\n",
       "#sk-container-id-1 input.sk-toggleable__control:checked~div.sk-toggleable__content {\n",
       "  /* Expand drop-down */\n",
       "  max-height: 200px;\n",
       "  max-width: 100%;\n",
       "  overflow: auto;\n",
       "}\n",
       "\n",
       "#sk-container-id-1 input.sk-toggleable__control:checked~label.sk-toggleable__label-arrow:before {\n",
       "  content: \"▾\";\n",
       "}\n",
       "\n",
       "/* Pipeline/ColumnTransformer-specific style */\n",
       "\n",
       "#sk-container-id-1 div.sk-label input.sk-toggleable__control:checked~label.sk-toggleable__label {\n",
       "  color: var(--sklearn-color-text);\n",
       "  background-color: var(--sklearn-color-unfitted-level-2);\n",
       "}\n",
       "\n",
       "#sk-container-id-1 div.sk-label.fitted input.sk-toggleable__control:checked~label.sk-toggleable__label {\n",
       "  background-color: var(--sklearn-color-fitted-level-2);\n",
       "}\n",
       "\n",
       "/* Estimator-specific style */\n",
       "\n",
       "/* Colorize estimator box */\n",
       "#sk-container-id-1 div.sk-estimator input.sk-toggleable__control:checked~label.sk-toggleable__label {\n",
       "  /* unfitted */\n",
       "  background-color: var(--sklearn-color-unfitted-level-2);\n",
       "}\n",
       "\n",
       "#sk-container-id-1 div.sk-estimator.fitted input.sk-toggleable__control:checked~label.sk-toggleable__label {\n",
       "  /* fitted */\n",
       "  background-color: var(--sklearn-color-fitted-level-2);\n",
       "}\n",
       "\n",
       "#sk-container-id-1 div.sk-label label.sk-toggleable__label,\n",
       "#sk-container-id-1 div.sk-label label {\n",
       "  /* The background is the default theme color */\n",
       "  color: var(--sklearn-color-text-on-default-background);\n",
       "}\n",
       "\n",
       "/* On hover, darken the color of the background */\n",
       "#sk-container-id-1 div.sk-label:hover label.sk-toggleable__label {\n",
       "  color: var(--sklearn-color-text);\n",
       "  background-color: var(--sklearn-color-unfitted-level-2);\n",
       "}\n",
       "\n",
       "/* Label box, darken color on hover, fitted */\n",
       "#sk-container-id-1 div.sk-label.fitted:hover label.sk-toggleable__label.fitted {\n",
       "  color: var(--sklearn-color-text);\n",
       "  background-color: var(--sklearn-color-fitted-level-2);\n",
       "}\n",
       "\n",
       "/* Estimator label */\n",
       "\n",
       "#sk-container-id-1 div.sk-label label {\n",
       "  font-family: monospace;\n",
       "  font-weight: bold;\n",
       "  display: inline-block;\n",
       "  line-height: 1.2em;\n",
       "}\n",
       "\n",
       "#sk-container-id-1 div.sk-label-container {\n",
       "  text-align: center;\n",
       "}\n",
       "\n",
       "/* Estimator-specific */\n",
       "#sk-container-id-1 div.sk-estimator {\n",
       "  font-family: monospace;\n",
       "  border: 1px dotted var(--sklearn-color-border-box);\n",
       "  border-radius: 0.25em;\n",
       "  box-sizing: border-box;\n",
       "  margin-bottom: 0.5em;\n",
       "  /* unfitted */\n",
       "  background-color: var(--sklearn-color-unfitted-level-0);\n",
       "}\n",
       "\n",
       "#sk-container-id-1 div.sk-estimator.fitted {\n",
       "  /* fitted */\n",
       "  background-color: var(--sklearn-color-fitted-level-0);\n",
       "}\n",
       "\n",
       "/* on hover */\n",
       "#sk-container-id-1 div.sk-estimator:hover {\n",
       "  /* unfitted */\n",
       "  background-color: var(--sklearn-color-unfitted-level-2);\n",
       "}\n",
       "\n",
       "#sk-container-id-1 div.sk-estimator.fitted:hover {\n",
       "  /* fitted */\n",
       "  background-color: var(--sklearn-color-fitted-level-2);\n",
       "}\n",
       "\n",
       "/* Specification for estimator info (e.g. \"i\" and \"?\") */\n",
       "\n",
       "/* Common style for \"i\" and \"?\" */\n",
       "\n",
       ".sk-estimator-doc-link,\n",
       "a:link.sk-estimator-doc-link,\n",
       "a:visited.sk-estimator-doc-link {\n",
       "  float: right;\n",
       "  font-size: smaller;\n",
       "  line-height: 1em;\n",
       "  font-family: monospace;\n",
       "  background-color: var(--sklearn-color-background);\n",
       "  border-radius: 1em;\n",
       "  height: 1em;\n",
       "  width: 1em;\n",
       "  text-decoration: none !important;\n",
       "  margin-left: 1ex;\n",
       "  /* unfitted */\n",
       "  border: var(--sklearn-color-unfitted-level-1) 1pt solid;\n",
       "  color: var(--sklearn-color-unfitted-level-1);\n",
       "}\n",
       "\n",
       ".sk-estimator-doc-link.fitted,\n",
       "a:link.sk-estimator-doc-link.fitted,\n",
       "a:visited.sk-estimator-doc-link.fitted {\n",
       "  /* fitted */\n",
       "  border: var(--sklearn-color-fitted-level-1) 1pt solid;\n",
       "  color: var(--sklearn-color-fitted-level-1);\n",
       "}\n",
       "\n",
       "/* On hover */\n",
       "div.sk-estimator:hover .sk-estimator-doc-link:hover,\n",
       ".sk-estimator-doc-link:hover,\n",
       "div.sk-label-container:hover .sk-estimator-doc-link:hover,\n",
       ".sk-estimator-doc-link:hover {\n",
       "  /* unfitted */\n",
       "  background-color: var(--sklearn-color-unfitted-level-3);\n",
       "  color: var(--sklearn-color-background);\n",
       "  text-decoration: none;\n",
       "}\n",
       "\n",
       "div.sk-estimator.fitted:hover .sk-estimator-doc-link.fitted:hover,\n",
       ".sk-estimator-doc-link.fitted:hover,\n",
       "div.sk-label-container:hover .sk-estimator-doc-link.fitted:hover,\n",
       ".sk-estimator-doc-link.fitted:hover {\n",
       "  /* fitted */\n",
       "  background-color: var(--sklearn-color-fitted-level-3);\n",
       "  color: var(--sklearn-color-background);\n",
       "  text-decoration: none;\n",
       "}\n",
       "\n",
       "/* Span, style for the box shown on hovering the info icon */\n",
       ".sk-estimator-doc-link span {\n",
       "  display: none;\n",
       "  z-index: 9999;\n",
       "  position: relative;\n",
       "  font-weight: normal;\n",
       "  right: .2ex;\n",
       "  padding: .5ex;\n",
       "  margin: .5ex;\n",
       "  width: min-content;\n",
       "  min-width: 20ex;\n",
       "  max-width: 50ex;\n",
       "  color: var(--sklearn-color-text);\n",
       "  box-shadow: 2pt 2pt 4pt #999;\n",
       "  /* unfitted */\n",
       "  background: var(--sklearn-color-unfitted-level-0);\n",
       "  border: .5pt solid var(--sklearn-color-unfitted-level-3);\n",
       "}\n",
       "\n",
       ".sk-estimator-doc-link.fitted span {\n",
       "  /* fitted */\n",
       "  background: var(--sklearn-color-fitted-level-0);\n",
       "  border: var(--sklearn-color-fitted-level-3);\n",
       "}\n",
       "\n",
       ".sk-estimator-doc-link:hover span {\n",
       "  display: block;\n",
       "}\n",
       "\n",
       "/* \"?\"-specific style due to the `<a>` HTML tag */\n",
       "\n",
       "#sk-container-id-1 a.estimator_doc_link {\n",
       "  float: right;\n",
       "  font-size: 1rem;\n",
       "  line-height: 1em;\n",
       "  font-family: monospace;\n",
       "  background-color: var(--sklearn-color-background);\n",
       "  border-radius: 1rem;\n",
       "  height: 1rem;\n",
       "  width: 1rem;\n",
       "  text-decoration: none;\n",
       "  /* unfitted */\n",
       "  color: var(--sklearn-color-unfitted-level-1);\n",
       "  border: var(--sklearn-color-unfitted-level-1) 1pt solid;\n",
       "}\n",
       "\n",
       "#sk-container-id-1 a.estimator_doc_link.fitted {\n",
       "  /* fitted */\n",
       "  border: var(--sklearn-color-fitted-level-1) 1pt solid;\n",
       "  color: var(--sklearn-color-fitted-level-1);\n",
       "}\n",
       "\n",
       "/* On hover */\n",
       "#sk-container-id-1 a.estimator_doc_link:hover {\n",
       "  /* unfitted */\n",
       "  background-color: var(--sklearn-color-unfitted-level-3);\n",
       "  color: var(--sklearn-color-background);\n",
       "  text-decoration: none;\n",
       "}\n",
       "\n",
       "#sk-container-id-1 a.estimator_doc_link.fitted:hover {\n",
       "  /* fitted */\n",
       "  background-color: var(--sklearn-color-fitted-level-3);\n",
       "}\n",
       "</style><div id=\"sk-container-id-1\" class=\"sk-top-container\"><div class=\"sk-text-repr-fallback\"><pre>LogisticRegression(max_iter=1000, random_state=42)</pre><b>In a Jupyter environment, please rerun this cell to show the HTML representation or trust the notebook. <br />On GitHub, the HTML representation is unable to render, please try loading this page with nbviewer.org.</b></div><div class=\"sk-container\" hidden><div class=\"sk-item\"><div class=\"sk-estimator fitted sk-toggleable\"><input class=\"sk-toggleable__control sk-hidden--visually\" id=\"sk-estimator-id-1\" type=\"checkbox\" checked><label for=\"sk-estimator-id-1\" class=\"sk-toggleable__label fitted sk-toggleable__label-arrow fitted\">&nbsp;&nbsp;LogisticRegression<a class=\"sk-estimator-doc-link fitted\" rel=\"noreferrer\" target=\"_blank\" href=\"https://scikit-learn.org/1.4/modules/generated/sklearn.linear_model.LogisticRegression.html\">?<span>Documentation for LogisticRegression</span></a><span class=\"sk-estimator-doc-link fitted\">i<span>Fitted</span></span></label><div class=\"sk-toggleable__content fitted\"><pre>LogisticRegression(max_iter=1000, random_state=42)</pre></div> </div></div></div></div>"
      ],
      "text/plain": [
       "LogisticRegression(max_iter=1000, random_state=42)"
      ]
     },
     "execution_count": 40,
     "metadata": {},
     "output_type": "execute_result"
    }
   ],
   "source": [
    "# Train the logistic regression classifier\n",
    "clf = LogisticRegression(max_iter=1000, random_state=42)\n",
    "clf.fit(X_train, y_train)"
   ]
  },
  {
   "cell_type": "code",
   "execution_count": 41,
   "metadata": {},
   "outputs": [
    {
     "name": "stdout",
     "output_type": "stream",
     "text": [
      "Validation ROC AUC: 0.5238\n"
     ]
    }
   ],
   "source": [
    "# Predict probabilities for the validation set\n",
    "y_val_proba = clf.predict_proba(X_val)[:, 1]  # Probability of the positive class (1)\n",
    "\n",
    "# Compute ROC AUC\n",
    "val_auc = roc_auc_score(y_val, y_val_proba)\n",
    "\n",
    "print(f\"Validation ROC AUC: {val_auc:.4f}\")"
   ]
  },
  {
   "cell_type": "markdown",
   "metadata": {},
   "source": [
    "### Evaluate the best model using the test set "
   ]
  },
  {
   "cell_type": "code",
   "execution_count": 43,
   "metadata": {},
   "outputs": [],
   "source": [
    "graph_test = graph.copy()  # Replace `graph` with your main graph variable\n",
    "graph_test.remove_edges_from(train_edges + val_edges)"
   ]
  },
  {
   "cell_type": "code",
   "execution_count": 44,
   "metadata": {},
   "outputs": [
    {
     "data": {
      "application/vnd.jupyter.widget-view+json": {
       "model_id": "60ea12f83b164a718c6dfb4e7a8212f7",
       "version_major": 2,
       "version_minor": 0
      },
      "text/plain": [
       "Computing transition probabilities:   0%|          | 0/1000 [00:00<?, ?it/s]"
      ]
     },
     "metadata": {},
     "output_type": "display_data"
    },
    {
     "name": "stderr",
     "output_type": "stream",
     "text": [
      "python(66708) MallocStackLogging: can't turn off malloc stack logging because it was not enabled.\n",
      "python(66709) MallocStackLogging: can't turn off malloc stack logging because it was not enabled.\n",
      "python(66710) MallocStackLogging: can't turn off malloc stack logging because it was not enabled.\n",
      "python(66711) MallocStackLogging: can't turn off malloc stack logging because it was not enabled.\n",
      "Generating walks (CPU: 2): 100%|██████████| 50/50 [00:03<00:00, 14.27it/s]\n",
      "Generating walks (CPU: 1): 100%|██████████| 50/50 [00:03<00:00, 14.26it/s]\n",
      "Generating walks (CPU: 3): 100%|██████████| 50/50 [00:03<00:00, 14.23it/s]\n",
      "Generating walks (CPU: 4): 100%|██████████| 50/50 [00:03<00:00, 14.17it/s]\n"
     ]
    }
   ],
   "source": [
    "# Train Node2Vec on the test graph\n",
    "node2vec_test = Node2Vec(\n",
    "    graph_test,  # Use the test graph\n",
    "    dimensions=64,\n",
    "    walk_length=30,\n",
    "    num_walks=200,\n",
    "    workers=4\n",
    ")"
   ]
  },
  {
   "cell_type": "code",
   "execution_count": 45,
   "metadata": {},
   "outputs": [],
   "source": [
    "model_test = node2vec_test.fit()\n",
    "\n",
    "# Create a function to retrieve test embeddings\n",
    "def embedding_test(node):\n",
    "    return model_test.wv[str(node)]"
   ]
  },
  {
   "cell_type": "code",
   "execution_count": 46,
   "metadata": {},
   "outputs": [],
   "source": [
    "# Generate features for test edges (positive and negative)\n",
    "X_test_pos = [operator_avg(embedding_test(u), embedding_test(v)) for u, v in test_edges]\n",
    "X_test_neg = [operator_avg(embedding_test(u), embedding_test(v)) for u, v in test_neg_edges]\n",
    "\n",
    "# Combine features and labels\n",
    "X_test = np.vstack([X_test_pos, X_test_neg])\n",
    "y_test = [1] * len(test_edges) + [0] * len(test_neg_edges)"
   ]
  },
  {
   "cell_type": "code",
   "execution_count": 47,
   "metadata": {},
   "outputs": [
    {
     "name": "stdout",
     "output_type": "stream",
     "text": [
      "Test Accuracy: 0.5207\n",
      "Test ROC AUC: 0.5028\n"
     ]
    }
   ],
   "source": [
    "# Predict probabilities and labels for the test set\n",
    "y_test_proba = clf.predict_proba(X_test)[:, 1]\n",
    "y_test_pred = clf.predict(X_test)\n",
    "\n",
    "# Calculate evaluation metrics\n",
    "test_accuracy = accuracy_score(y_test, y_test_pred)\n",
    "test_roc_auc = roc_auc_score(y_test, y_test_proba)\n",
    "\n",
    "print(f\"Test Accuracy: {test_accuracy:.4f}\")\n",
    "print(f\"Test ROC AUC: {test_roc_auc:.4f}\")"
   ]
  },
  {
   "cell_type": "code",
   "execution_count": 48,
   "metadata": {},
   "outputs": [
    {
     "data": {
      "image/png": "[encoded data removed]",
      "text/plain": [
       "<Figure size 800x600 with 1 Axes>"
      ]
     },
     "metadata": {},
     "output_type": "display_data"
    }
   ],
   "source": [
    "# Compute the ROC curve\n",
    "fpr, tpr, thresholds = roc_curve(y_test, y_test_proba)\n",
    "roc_auc = auc(fpr, tpr)\n",
    "\n",
    "# Plot the ROC curve\n",
    "plt.figure(figsize=(8, 6))\n",
    "plt.plot(fpr, tpr, color='blue', lw=2, label=f\"ROC curve (AUC = {roc_auc:.4f})\")\n",
    "plt.plot([0, 1], [0, 1], color='gray', linestyle='--', lw=1)  # Diagonal line\n",
    "plt.xlabel(\"False Positive Rate\")\n",
    "plt.ylabel(\"True Positive Rate\")\n",
    "plt.title(\"ROC Curve\")\n",
    "plt.legend(loc=\"lower right\")\n",
    "plt.grid(alpha=0.3)\n",
    "plt.show()"
   ]
  },
  {
   "cell_type": "markdown",
   "metadata": {},
   "source": [
    "### Tune Node2vec"
   ]
  },
  {
   "cell_type": "markdown",
   "metadata": {},
   "source": [
    "#### Helper fucntion for the genrator and operator"
   ]
  },
  {
   "cell_type": "code",
   "execution_count": 50,
   "metadata": {},
   "outputs": [],
   "source": [
    "# Define the operator\n",
    "def operator_hadamard(embedding1, embedding2):\n",
    "    \"\"\"\n",
    "    Computes the Hadamard operator (element-wise product) for two embeddings.\n",
    "    \"\"\"\n",
    "    return embedding1 * embedding2\n",
    "\n",
    "# Define the feature generator\n",
    "def generate_features_with_operator(edges, embeddings, operator):\n",
    "    \"\"\"\n",
    "    Generates features for a set of edges using the given operator and embeddings.\n",
    "    \"\"\"\n",
    "    features = []\n",
    "    for edge in edges:\n",
    "        source, target = edge\n",
    "        source_embedding = embeddings[source]\n",
    "        target_embedding = embeddings[target]\n",
    "        features.append(operator(source_embedding, target_embedding))\n",
    "    return np.array(features)\n"
   ]
  },
  {
   "cell_type": "code",
   "execution_count": 51,
   "metadata": {},
   "outputs": [],
   "source": [
    "def train_node2vec(graph, dimensions, walk_length, num_walks, p, q):\n",
    "    \"\"\"\n",
    "    Trains a Node2Vec model and returns the learned embeddings.\n",
    "    \"\"\"\n",
    "    node2vec = Node2Vec(\n",
    "        graph=graph,\n",
    "        dimensions=dimensions,\n",
    "        walk_length=walk_length,\n",
    "        num_walks=num_walks,\n",
    "        workers=4,\n",
    "        p=p,\n",
    "        q=q\n",
    "    )\n",
    "    model = node2vec.fit()\n",
    "    embeddings = {node: model.wv[str(node)] for node in graph.nodes()}\n",
    "    return embeddings\n"
   ]
  },
  {
   "cell_type": "code",
   "execution_count": 57,
   "metadata": {},
   "outputs": [],
   "source": [
    "def evaluate_on_validation_set(clf, embeddings, val_edges, val_neg_edges):\n",
    "    \"\"\"\n",
    "    Evaluates the classifier on the validation set and computes the ROC AUC.\n",
    "    \"\"\"\n",
    "    # Generate features\n",
    "    X_val_pos = generate_features_with_operator(val_edges, embeddings, operator_hadamard)\n",
    "    X_val_neg = generate_features_with_operator(val_neg_edges, embeddings, operator_hadamard)\n",
    "\n",
    "    X_val = np.vstack([X_val_pos, X_val_neg])\n",
    "    y_val = [1] * len(X_val_pos) + [0] * len(X_val_neg)\n",
    "    \n",
    "    # Predict probabilities\n",
    "    y_val_proba = clf.predict_proba(X_val)[:, 1]\n",
    "    val_auc = roc_auc_score(y_val, y_val_proba)\n",
    "    return val_auc\n"
   ]
  },
  {
   "cell_type": "code",
   "execution_count": 75,
   "metadata": {},
   "outputs": [],
   "source": [
    "from itertools import product\n",
    "\n",
    "def tune_parameters(graph_train, X_train, y_train, val_edges, val_neg_edges, dimensions=64):\n",
    "    walk_length_list = [10, 20, 30]\n",
    "    num_walks_list = [10, 20, 50]\n",
    "    p_list = [0.5, 1, 2]\n",
    "    q_list = [0.5, 1, 2]\n",
    "\n",
    "    best_auc = 0\n",
    "    best_params = None\n",
    "\n",
    "    for walk_length, num_walks, p, q in product(walk_length_list, num_walks_list, p_list, q_list):\n",
    "        print(f\"Testing: dimensions={dimensions}, walk_length={walk_length}, num_walks={num_walks}, p={p}, q={q}\")\n",
    "\n",
    "        # Train Node2Vec with current parameters\n",
    "        node2vec = Node2Vec(\n",
    "            graph=graph_train,\n",
    "            dimensions=dimensions,  # Fixed dimensions\n",
    "            walk_length=walk_length,\n",
    "            num_walks=num_walks,\n",
    "            workers=4,\n",
    "            p=p,\n",
    "            q=q\n",
    "        )\n",
    "        model = node2vec.fit()\n",
    "        embeddings = {node: model.wv[str(node)] for node in graph_train.nodes()}\n",
    "\n",
    "        # Generate validation features\n",
    "        X_val_pos = [\n",
    "            operator_hadamard(embeddings[u], embeddings[v])\n",
    "            for u, v in val_edges if str(u) in model.wv and str(v) in model.wv\n",
    "        ]\n",
    "        X_val_neg = [\n",
    "            operator_hadamard(embeddings[u], embeddings[v])\n",
    "            for u, v in val_neg_edges if str(u) in model.wv and str(v) in model.wv\n",
    "        ]\n",
    "        X_val = np.vstack([X_val_pos, X_val_neg])\n",
    "        y_val = [1] * len(X_val_pos) + [0] * len(X_val_neg)\n",
    "\n",
    "        # Train logistic regression classifier\n",
    "        clf = LogisticRegression(max_iter=1000, random_state=42)\n",
    "        clf.fit(X_train, y_train)\n",
    "\n",
    "        # Evaluate on validation set\n",
    "        y_val_proba = clf.predict_proba(X_val)[:, 1]\n",
    "        val_auc = roc_auc_score(y_val, y_val_proba)\n",
    "        print(f\"Validation ROC AUC: {val_auc:.4f}\")\n",
    "\n",
    "        # Update best parameters if necessary\n",
    "        if val_auc > best_auc:\n",
    "            best_auc = val_auc\n",
    "            best_params = (walk_length, num_walks, p, q)\n",
    "\n",
    "    print(f\"\\nBest Parameters: walk_length={best_params[0]}, num_walks={best_params[1]}, p={best_params[2]}, q={best_params[3]}\")\n",
    "    print(f\"Best Validation ROC AUC: {best_auc:.4f}\")\n",
    "    return best_params, best_auc\n"
   ]
  },
  {
   "cell_type": "code",
   "execution_count": 76,
   "metadata": {},
   "outputs": [
    {
     "name": "stdout",
     "output_type": "stream",
     "text": [
      "Testing: dimensions=64, walk_length=10, num_walks=10, p=0.5, q=0.5\n"
     ]
    },
    {
     "data": {
      "application/vnd.jupyter.widget-view+json": {
       "model_id": "6f9919cb9c87437c8feb391cd5decfa3",
       "version_major": 2,
       "version_minor": 0
      },
      "text/plain": [
       "Computing transition probabilities:   0%|          | 0/1000 [00:00<?, ?it/s]"
      ]
     },
     "metadata": {},
     "output_type": "display_data"
    },
    {
     "name": "stderr",
     "output_type": "stream",
     "text": [
      "Generating walks (CPU: 1): 100%|██████████| 3/3 [00:00<00:00, 19.46it/s]\n",
      "Generating walks (CPU: 2): 100%|██████████| 3/3 [00:00<00:00, 19.57it/s]\n",
      "Generating walks (CPU: 3): 100%|██████████| 2/2 [00:00<00:00, 19.89it/s]\n",
      "Generating walks (CPU: 4): 100%|██████████| 2/2 [00:00<00:00, 20.74it/s]\n"
     ]
    },
    {
     "name": "stdout",
     "output_type": "stream",
     "text": [
      "Validation ROC AUC: 0.5512\n",
      "Testing: dimensions=64, walk_length=10, num_walks=10, p=0.5, q=1\n"
     ]
    },
    {
     "data": {
      "application/vnd.jupyter.widget-view+json": {
       "model_id": "38196a80f7d643be9c6fe29fd068c3bd",
       "version_major": 2,
       "version_minor": 0
      },
      "text/plain": [
       "Computing transition probabilities:   0%|          | 0/1000 [00:00<?, ?it/s]"
      ]
     },
     "metadata": {},
     "output_type": "display_data"
    },
    {
     "name": "stderr",
     "output_type": "stream",
     "text": [
      "Generating walks (CPU: 1): 100%|██████████| 3/3 [00:00<00:00, 18.76it/s]\n",
      "Generating walks (CPU: 2): 100%|██████████| 3/3 [00:00<00:00, 18.56it/s]\n",
      "Generating walks (CPU: 3): 100%|██████████| 2/2 [00:00<00:00, 19.55it/s]\n",
      "Generating walks (CPU: 4): 100%|██████████| 2/2 [00:00<00:00, 19.77it/s]\n"
     ]
    },
    {
     "name": "stdout",
     "output_type": "stream",
     "text": [
      "Validation ROC AUC: 0.5695\n",
      "Testing: dimensions=64, walk_length=10, num_walks=10, p=0.5, q=2\n"
     ]
    },
    {
     "data": {
      "application/vnd.jupyter.widget-view+json": {
       "model_id": "19fddff9efb94ea486440d3a5a9732a9",
       "version_major": 2,
       "version_minor": 0
      },
      "text/plain": [
       "Computing transition probabilities:   0%|          | 0/1000 [00:00<?, ?it/s]"
      ]
     },
     "metadata": {},
     "output_type": "display_data"
    },
    {
     "name": "stderr",
     "output_type": "stream",
     "text": [
      "Generating walks (CPU: 1): 100%|██████████| 3/3 [00:00<00:00, 18.88it/s]\n",
      "Generating walks (CPU: 2): 100%|██████████| 3/3 [00:00<00:00, 17.13it/s]\n",
      "Generating walks (CPU: 3): 100%|██████████| 2/2 [00:00<00:00, 18.40it/s]\n",
      "Generating walks (CPU: 4): 100%|██████████| 2/2 [00:00<00:00, 17.22it/s]\n"
     ]
    },
    {
     "name": "stdout",
     "output_type": "stream",
     "text": [
      "Validation ROC AUC: 0.5725\n",
      "Testing: dimensions=64, walk_length=10, num_walks=10, p=1, q=0.5\n"
     ]
    },
    {
     "data": {
      "application/vnd.jupyter.widget-view+json": {
       "model_id": "9ddc8261dd4c47a8a43a6e004dd3fcc2",
       "version_major": 2,
       "version_minor": 0
      },
      "text/plain": [
       "Computing transition probabilities:   0%|          | 0/1000 [00:00<?, ?it/s]"
      ]
     },
     "metadata": {},
     "output_type": "display_data"
    },
    {
     "name": "stderr",
     "output_type": "stream",
     "text": [
      "Generating walks (CPU: 1): 100%|██████████| 3/3 [00:00<00:00, 19.83it/s]\n",
      "Generating walks (CPU: 2): 100%|██████████| 3/3 [00:00<00:00, 19.64it/s]\n",
      "Generating walks (CPU: 3): 100%|██████████| 2/2 [00:00<00:00, 20.11it/s]\n",
      "Generating walks (CPU: 4): 100%|██████████| 2/2 [00:00<00:00, 20.18it/s]\n"
     ]
    },
    {
     "name": "stdout",
     "output_type": "stream",
     "text": [
      "Validation ROC AUC: 0.5544\n",
      "Testing: dimensions=64, walk_length=10, num_walks=10, p=1, q=1\n"
     ]
    },
    {
     "data": {
      "application/vnd.jupyter.widget-view+json": {
       "model_id": "28aa992c069948bdb23559ce9e50cab0",
       "version_major": 2,
       "version_minor": 0
      },
      "text/plain": [
       "Computing transition probabilities:   0%|          | 0/1000 [00:00<?, ?it/s]"
      ]
     },
     "metadata": {},
     "output_type": "display_data"
    },
    {
     "name": "stderr",
     "output_type": "stream",
     "text": [
      "Generating walks (CPU: 1): 100%|██████████| 3/3 [00:00<00:00, 19.39it/s]\n",
      "Generating walks (CPU: 2): 100%|██████████| 3/3 [00:00<00:00, 18.80it/s]\n",
      "Generating walks (CPU: 3): 100%|██████████| 2/2 [00:00<00:00, 18.55it/s]\n",
      "Generating walks (CPU: 4): 100%|██████████| 2/2 [00:00<00:00, 19.72it/s]\n"
     ]
    },
    {
     "name": "stdout",
     "output_type": "stream",
     "text": [
      "Validation ROC AUC: 0.5647\n",
      "Testing: dimensions=64, walk_length=10, num_walks=10, p=1, q=2\n"
     ]
    },
    {
     "data": {
      "application/vnd.jupyter.widget-view+json": {
       "model_id": "6fe93784e4d6443a9cef1a99c8f48c65",
       "version_major": 2,
       "version_minor": 0
      },
      "text/plain": [
       "Computing transition probabilities:   0%|          | 0/1000 [00:00<?, ?it/s]"
      ]
     },
     "metadata": {},
     "output_type": "display_data"
    },
    {
     "name": "stderr",
     "output_type": "stream",
     "text": [
      "Generating walks (CPU: 1): 100%|██████████| 3/3 [00:00<00:00, 12.46it/s]\n",
      "Generating walks (CPU: 2): 100%|██████████| 3/3 [00:00<00:00,  8.03it/s]\n",
      "Generating walks (CPU: 3): 100%|██████████| 2/2 [00:00<00:00, 16.86it/s]\n",
      "Generating walks (CPU: 4): 100%|██████████| 2/2 [00:00<00:00, 17.35it/s]\n"
     ]
    },
    {
     "name": "stdout",
     "output_type": "stream",
     "text": [
      "Validation ROC AUC: 0.5894\n",
      "Testing: dimensions=64, walk_length=10, num_walks=10, p=2, q=0.5\n"
     ]
    },
    {
     "data": {
      "application/vnd.jupyter.widget-view+json": {
       "model_id": "55ecbb7feed740afa1323ed6b9eb4528",
       "version_major": 2,
       "version_minor": 0
      },
      "text/plain": [
       "Computing transition probabilities:   0%|          | 0/1000 [00:00<?, ?it/s]"
      ]
     },
     "metadata": {},
     "output_type": "display_data"
    },
    {
     "name": "stderr",
     "output_type": "stream",
     "text": [
      "Generating walks (CPU: 1): 100%|██████████| 3/3 [00:00<00:00, 19.82it/s]\n",
      "Generating walks (CPU: 2): 100%|██████████| 3/3 [00:00<00:00, 15.88it/s]\n",
      "Generating walks (CPU: 3): 100%|██████████| 2/2 [00:00<00:00, 19.47it/s]\n",
      "Generating walks (CPU: 4): 100%|██████████| 2/2 [00:00<00:00, 19.04it/s]\n"
     ]
    },
    {
     "name": "stdout",
     "output_type": "stream",
     "text": [
      "Validation ROC AUC: 0.5544\n",
      "Testing: dimensions=64, walk_length=10, num_walks=10, p=2, q=1\n"
     ]
    },
    {
     "data": {
      "application/vnd.jupyter.widget-view+json": {
       "model_id": "8bab3c8d516940ee92e3948febb53f8d",
       "version_major": 2,
       "version_minor": 0
      },
      "text/plain": [
       "Computing transition probabilities:   0%|          | 0/1000 [00:00<?, ?it/s]"
      ]
     },
     "metadata": {},
     "output_type": "display_data"
    },
    {
     "name": "stderr",
     "output_type": "stream",
     "text": [
      "Generating walks (CPU: 1): 100%|██████████| 3/3 [00:00<00:00, 19.65it/s]\n",
      "Generating walks (CPU: 2): 100%|██████████| 3/3 [00:00<00:00, 19.33it/s]\n",
      "Generating walks (CPU: 3): 100%|██████████| 2/2 [00:00<00:00, 19.63it/s]\n",
      "Generating walks (CPU: 4): 100%|██████████| 2/2 [00:00<00:00, 19.92it/s]\n"
     ]
    },
    {
     "name": "stdout",
     "output_type": "stream",
     "text": [
      "Validation ROC AUC: 0.5867\n",
      "Testing: dimensions=64, walk_length=10, num_walks=10, p=2, q=2\n"
     ]
    },
    {
     "data": {
      "application/vnd.jupyter.widget-view+json": {
       "model_id": "a7632f71829b445e8c7c2758ffef6058",
       "version_major": 2,
       "version_minor": 0
      },
      "text/plain": [
       "Computing transition probabilities:   0%|          | 0/1000 [00:00<?, ?it/s]"
      ]
     },
     "metadata": {},
     "output_type": "display_data"
    },
    {
     "name": "stderr",
     "output_type": "stream",
     "text": [
      "Generating walks (CPU: 1): 100%|██████████| 3/3 [00:00<00:00, 17.46it/s]\n",
      "Generating walks (CPU: 2): 100%|██████████| 3/3 [00:00<00:00, 17.20it/s]\n",
      "Generating walks (CPU: 3): 100%|██████████| 2/2 [00:00<00:00, 15.62it/s]\n",
      "Generating walks (CPU: 4): 100%|██████████| 2/2 [00:00<00:00, 19.46it/s]\n"
     ]
    },
    {
     "name": "stdout",
     "output_type": "stream",
     "text": [
      "Validation ROC AUC: 0.5865\n",
      "Testing: dimensions=64, walk_length=10, num_walks=20, p=0.5, q=0.5\n"
     ]
    },
    {
     "data": {
      "application/vnd.jupyter.widget-view+json": {
       "model_id": "2fb039f9fb67459fad53f8e66805a5fb",
       "version_major": 2,
       "version_minor": 0
      },
      "text/plain": [
       "Computing transition probabilities:   0%|          | 0/1000 [00:00<?, ?it/s]"
      ]
     },
     "metadata": {},
     "output_type": "display_data"
    },
    {
     "name": "stderr",
     "output_type": "stream",
     "text": [
      "Generating walks (CPU: 1): 100%|██████████| 5/5 [00:00<00:00, 19.27it/s]\n",
      "Generating walks (CPU: 2): 100%|██████████| 5/5 [00:00<00:00, 19.21it/s]\n",
      "Generating walks (CPU: 3): 100%|██████████| 5/5 [00:00<00:00, 19.41it/s]\n",
      "Generating walks (CPU: 4): 100%|██████████| 5/5 [00:00<00:00, 20.87it/s]\n"
     ]
    },
    {
     "name": "stdout",
     "output_type": "stream",
     "text": [
      "Validation ROC AUC: 0.5310\n",
      "Testing: dimensions=64, walk_length=10, num_walks=20, p=0.5, q=1\n"
     ]
    },
    {
     "data": {
      "application/vnd.jupyter.widget-view+json": {
       "model_id": "0740a03162994115991d49355173989a",
       "version_major": 2,
       "version_minor": 0
      },
      "text/plain": [
       "Computing transition probabilities:   0%|          | 0/1000 [00:00<?, ?it/s]"
      ]
     },
     "metadata": {},
     "output_type": "display_data"
    },
    {
     "name": "stderr",
     "output_type": "stream",
     "text": [
      "Generating walks (CPU: 1): 100%|██████████| 5/5 [00:00<00:00, 18.45it/s]\n",
      "Generating walks (CPU: 2): 100%|██████████| 5/5 [00:00<00:00, 18.79it/s]\n",
      "Generating walks (CPU: 3): 100%|██████████| 5/5 [00:00<00:00, 19.27it/s]\n",
      "Generating walks (CPU: 4): 100%|██████████| 5/5 [00:00<00:00, 20.41it/s]\n"
     ]
    },
    {
     "name": "stdout",
     "output_type": "stream",
     "text": [
      "Validation ROC AUC: 0.5349\n",
      "Testing: dimensions=64, walk_length=10, num_walks=20, p=0.5, q=2\n"
     ]
    },
    {
     "data": {
      "application/vnd.jupyter.widget-view+json": {
       "model_id": "dee81dea752d4daaaf9e35e59bee20c7",
       "version_major": 2,
       "version_minor": 0
      },
      "text/plain": [
       "Computing transition probabilities:   0%|          | 0/1000 [00:00<?, ?it/s]"
      ]
     },
     "metadata": {},
     "output_type": "display_data"
    },
    {
     "name": "stderr",
     "output_type": "stream",
     "text": [
      "Generating walks (CPU: 1): 100%|██████████| 5/5 [00:00<00:00, 18.76it/s]\n",
      "Generating walks (CPU: 2): 100%|██████████| 5/5 [00:00<00:00, 18.12it/s]\n",
      "Generating walks (CPU: 3): 100%|██████████| 5/5 [00:00<00:00, 18.72it/s]\n",
      "Generating walks (CPU: 4): 100%|██████████| 5/5 [00:00<00:00, 19.90it/s]\n"
     ]
    },
    {
     "name": "stdout",
     "output_type": "stream",
     "text": [
      "Validation ROC AUC: 0.5452\n",
      "Testing: dimensions=64, walk_length=10, num_walks=20, p=1, q=0.5\n"
     ]
    },
    {
     "data": {
      "application/vnd.jupyter.widget-view+json": {
       "model_id": "090457b423a14850a6eae705303b7217",
       "version_major": 2,
       "version_minor": 0
      },
      "text/plain": [
       "Computing transition probabilities:   0%|          | 0/1000 [00:00<?, ?it/s]"
      ]
     },
     "metadata": {},
     "output_type": "display_data"
    },
    {
     "name": "stderr",
     "output_type": "stream",
     "text": [
      "Generating walks (CPU: 1): 100%|██████████| 5/5 [00:00<00:00, 19.14it/s]\n",
      "Generating walks (CPU: 2): 100%|██████████| 5/5 [00:00<00:00, 17.58it/s]\n",
      "Generating walks (CPU: 3): 100%|██████████| 5/5 [00:00<00:00, 19.43it/s]\n",
      "Generating walks (CPU: 4): 100%|██████████| 5/5 [00:00<00:00, 20.63it/s]\n"
     ]
    },
    {
     "name": "stdout",
     "output_type": "stream",
     "text": [
      "Validation ROC AUC: 0.5263\n",
      "Testing: dimensions=64, walk_length=10, num_walks=20, p=1, q=1\n"
     ]
    },
    {
     "data": {
      "application/vnd.jupyter.widget-view+json": {
       "model_id": "7543fb422d13454eb7eafd05a286ac68",
       "version_major": 2,
       "version_minor": 0
      },
      "text/plain": [
       "Computing transition probabilities:   0%|          | 0/1000 [00:00<?, ?it/s]"
      ]
     },
     "metadata": {},
     "output_type": "display_data"
    },
    {
     "name": "stderr",
     "output_type": "stream",
     "text": [
      "Generating walks (CPU: 1): 100%|██████████| 5/5 [00:00<00:00, 18.65it/s]\n",
      "Generating walks (CPU: 2): 100%|██████████| 5/5 [00:00<00:00, 15.62it/s]\n",
      "Generating walks (CPU: 3): 100%|██████████| 5/5 [00:00<00:00, 17.54it/s]\n",
      "Generating walks (CPU: 4): 100%|██████████| 5/5 [00:00<00:00, 18.95it/s]\n"
     ]
    },
    {
     "name": "stdout",
     "output_type": "stream",
     "text": [
      "Validation ROC AUC: 0.5299\n",
      "Testing: dimensions=64, walk_length=10, num_walks=20, p=1, q=2\n"
     ]
    },
    {
     "data": {
      "application/vnd.jupyter.widget-view+json": {
       "model_id": "83778c88d11949228d72a47449b83c0e",
       "version_major": 2,
       "version_minor": 0
      },
      "text/plain": [
       "Computing transition probabilities:   0%|          | 0/1000 [00:00<?, ?it/s]"
      ]
     },
     "metadata": {},
     "output_type": "display_data"
    },
    {
     "name": "stderr",
     "output_type": "stream",
     "text": [
      "Generating walks (CPU: 1): 100%|██████████| 5/5 [00:00<00:00, 18.62it/s]\n",
      "Generating walks (CPU: 2): 100%|██████████| 5/5 [00:00<00:00, 18.23it/s]\n",
      "Generating walks (CPU: 3): 100%|██████████| 5/5 [00:00<00:00, 18.79it/s]\n",
      "Generating walks (CPU: 4): 100%|██████████| 5/5 [00:00<00:00, 19.74it/s]\n"
     ]
    },
    {
     "name": "stdout",
     "output_type": "stream",
     "text": [
      "Validation ROC AUC: 0.5395\n",
      "Testing: dimensions=64, walk_length=10, num_walks=20, p=2, q=0.5\n"
     ]
    },
    {
     "data": {
      "application/vnd.jupyter.widget-view+json": {
       "model_id": "664bfd815a7e42e2ba46d0bd309d0ddb",
       "version_major": 2,
       "version_minor": 0
      },
      "text/plain": [
       "Computing transition probabilities:   0%|          | 0/1000 [00:00<?, ?it/s]"
      ]
     },
     "metadata": {},
     "output_type": "display_data"
    },
    {
     "name": "stderr",
     "output_type": "stream",
     "text": [
      "Generating walks (CPU: 1): 100%|██████████| 5/5 [00:00<00:00, 19.40it/s]\n",
      "Generating walks (CPU: 2): 100%|██████████| 5/5 [00:00<00:00, 18.95it/s]\n",
      "Generating walks (CPU: 3): 100%|██████████| 5/5 [00:00<00:00, 19.75it/s]\n",
      "Generating walks (CPU: 4): 100%|██████████| 5/5 [00:00<00:00, 20.52it/s]\n"
     ]
    },
    {
     "name": "stdout",
     "output_type": "stream",
     "text": [
      "Validation ROC AUC: 0.5591\n",
      "Testing: dimensions=64, walk_length=10, num_walks=20, p=2, q=1\n"
     ]
    },
    {
     "data": {
      "application/vnd.jupyter.widget-view+json": {
       "model_id": "6ba5cc7f7bfe4c8eb1401a0a88cffdc2",
       "version_major": 2,
       "version_minor": 0
      },
      "text/plain": [
       "Computing transition probabilities:   0%|          | 0/1000 [00:00<?, ?it/s]"
      ]
     },
     "metadata": {},
     "output_type": "display_data"
    },
    {
     "name": "stderr",
     "output_type": "stream",
     "text": [
      "Generating walks (CPU: 1): 100%|██████████| 5/5 [00:00<00:00, 18.63it/s]\n",
      "Generating walks (CPU: 2): 100%|██████████| 5/5 [00:00<00:00, 17.40it/s]\n",
      "Generating walks (CPU: 3): 100%|██████████| 5/5 [00:00<00:00, 19.18it/s]\n",
      "Generating walks (CPU: 4): 100%|██████████| 5/5 [00:00<00:00, 20.28it/s]\n"
     ]
    },
    {
     "name": "stdout",
     "output_type": "stream",
     "text": [
      "Validation ROC AUC: 0.5455\n",
      "Testing: dimensions=64, walk_length=10, num_walks=20, p=2, q=2\n"
     ]
    },
    {
     "data": {
      "application/vnd.jupyter.widget-view+json": {
       "model_id": "3974993c07a74e9699a35c1aaf2f2c90",
       "version_major": 2,
       "version_minor": 0
      },
      "text/plain": [
       "Computing transition probabilities:   0%|          | 0/1000 [00:00<?, ?it/s]"
      ]
     },
     "metadata": {},
     "output_type": "display_data"
    },
    {
     "name": "stderr",
     "output_type": "stream",
     "text": [
      "Generating walks (CPU: 1): 100%|██████████| 5/5 [00:00<00:00, 18.27it/s]\n",
      "Generating walks (CPU: 2): 100%|██████████| 5/5 [00:00<00:00, 18.44it/s]\n",
      "Generating walks (CPU: 3): 100%|██████████| 5/5 [00:00<00:00, 18.84it/s]\n",
      "Generating walks (CPU: 4): 100%|██████████| 5/5 [00:00<00:00, 19.57it/s]\n"
     ]
    },
    {
     "name": "stdout",
     "output_type": "stream",
     "text": [
      "Validation ROC AUC: 0.5330\n",
      "Testing: dimensions=64, walk_length=10, num_walks=50, p=0.5, q=0.5\n"
     ]
    },
    {
     "data": {
      "application/vnd.jupyter.widget-view+json": {
       "model_id": "397210c7fa294e2a80c30907889a2cbc",
       "version_major": 2,
       "version_minor": 0
      },
      "text/plain": [
       "Computing transition probabilities:   0%|          | 0/1000 [00:00<?, ?it/s]"
      ]
     },
     "metadata": {},
     "output_type": "display_data"
    },
    {
     "name": "stderr",
     "output_type": "stream",
     "text": [
      "Generating walks (CPU: 1): 100%|██████████| 13/13 [00:00<00:00, 14.79it/s]\n",
      "Generating walks (CPU: 2): 100%|██████████| 13/13 [00:00<00:00, 15.97it/s]\n",
      "Generating walks (CPU: 3): 100%|██████████| 12/12 [00:00<00:00, 18.11it/s]\n",
      "Generating walks (CPU: 4): 100%|██████████| 12/12 [00:00<00:00, 20.23it/s]\n"
     ]
    },
    {
     "name": "stdout",
     "output_type": "stream",
     "text": [
      "Validation ROC AUC: 0.4869\n",
      "Testing: dimensions=64, walk_length=10, num_walks=50, p=0.5, q=1\n"
     ]
    },
    {
     "data": {
      "application/vnd.jupyter.widget-view+json": {
       "model_id": "ae12fb47cea04cad9c710b96d02b51f5",
       "version_major": 2,
       "version_minor": 0
      },
      "text/plain": [
       "Computing transition probabilities:   0%|          | 0/1000 [00:00<?, ?it/s]"
      ]
     },
     "metadata": {},
     "output_type": "display_data"
    },
    {
     "name": "stderr",
     "output_type": "stream",
     "text": [
      "Generating walks (CPU: 1): 100%|██████████| 13/13 [00:00<00:00, 17.98it/s]\n",
      "Generating walks (CPU: 2): 100%|██████████| 13/13 [00:00<00:00, 18.04it/s]\n",
      "Generating walks (CPU: 3): 100%|██████████| 12/12 [00:00<00:00, 18.73it/s]\n",
      "Generating walks (CPU: 4): 100%|██████████| 12/12 [00:00<00:00, 20.06it/s]\n"
     ]
    },
    {
     "name": "stdout",
     "output_type": "stream",
     "text": [
      "Validation ROC AUC: 0.4933\n",
      "Testing: dimensions=64, walk_length=10, num_walks=50, p=0.5, q=2\n"
     ]
    },
    {
     "data": {
      "application/vnd.jupyter.widget-view+json": {
       "model_id": "73b621305b344c1caa2342d11e840bd0",
       "version_major": 2,
       "version_minor": 0
      },
      "text/plain": [
       "Computing transition probabilities:   0%|          | 0/1000 [00:00<?, ?it/s]"
      ]
     },
     "metadata": {},
     "output_type": "display_data"
    },
    {
     "name": "stderr",
     "output_type": "stream",
     "text": [
      "Generating walks (CPU: 1): 100%|██████████| 13/13 [00:00<00:00, 14.85it/s]\n",
      "Generating walks (CPU: 2): 100%|██████████| 13/13 [00:01<00:00, 12.43it/s]\n",
      "Generating walks (CPU: 3): 100%|██████████| 12/12 [00:00<00:00, 13.52it/s]\n",
      "Generating walks (CPU: 4): 100%|██████████| 12/12 [00:00<00:00, 15.69it/s]\n"
     ]
    },
    {
     "name": "stdout",
     "output_type": "stream",
     "text": [
      "Validation ROC AUC: 0.4750\n",
      "Testing: dimensions=64, walk_length=10, num_walks=50, p=1, q=0.5\n"
     ]
    },
    {
     "data": {
      "application/vnd.jupyter.widget-view+json": {
       "model_id": "b16540411dc74331bb64543abd9e1f6e",
       "version_major": 2,
       "version_minor": 0
      },
      "text/plain": [
       "Computing transition probabilities:   0%|          | 0/1000 [00:00<?, ?it/s]"
      ]
     },
     "metadata": {},
     "output_type": "display_data"
    },
    {
     "name": "stderr",
     "output_type": "stream",
     "text": [
      "Generating walks (CPU: 1): 100%|██████████| 13/13 [00:00<00:00, 17.57it/s]\n",
      "Generating walks (CPU: 2): 100%|██████████| 13/13 [00:00<00:00, 17.38it/s]\n",
      "Generating walks (CPU: 3): 100%|██████████| 12/12 [00:00<00:00, 18.27it/s]\n",
      "Generating walks (CPU: 4): 100%|██████████| 12/12 [00:00<00:00, 19.60it/s]\n"
     ]
    },
    {
     "name": "stdout",
     "output_type": "stream",
     "text": [
      "Validation ROC AUC: 0.4905\n",
      "Testing: dimensions=64, walk_length=10, num_walks=50, p=1, q=1\n"
     ]
    },
    {
     "data": {
      "application/vnd.jupyter.widget-view+json": {
       "model_id": "1c3ebe074f6d4ba4ab3e245bd70d67e0",
       "version_major": 2,
       "version_minor": 0
      },
      "text/plain": [
       "Computing transition probabilities:   0%|          | 0/1000 [00:00<?, ?it/s]"
      ]
     },
     "metadata": {},
     "output_type": "display_data"
    },
    {
     "name": "stderr",
     "output_type": "stream",
     "text": [
      "Generating walks (CPU: 1): 100%|██████████| 13/13 [00:00<00:00, 13.32it/s]\n",
      "Generating walks (CPU: 2): 100%|██████████| 13/13 [00:01<00:00, 12.32it/s]\n",
      "Generating walks (CPU: 3): 100%|██████████| 12/12 [00:00<00:00, 12.29it/s]\n",
      "Generating walks (CPU: 4): 100%|██████████| 12/12 [00:00<00:00, 19.07it/s]\n"
     ]
    },
    {
     "name": "stdout",
     "output_type": "stream",
     "text": [
      "Validation ROC AUC: 0.4961\n",
      "Testing: dimensions=64, walk_length=10, num_walks=50, p=1, q=2\n"
     ]
    },
    {
     "data": {
      "application/vnd.jupyter.widget-view+json": {
       "model_id": "ac033a83f95c449f90bb5ac5e8675a3f",
       "version_major": 2,
       "version_minor": 0
      },
      "text/plain": [
       "Computing transition probabilities:   0%|          | 0/1000 [00:00<?, ?it/s]"
      ]
     },
     "metadata": {},
     "output_type": "display_data"
    },
    {
     "name": "stderr",
     "output_type": "stream",
     "text": [
      "Generating walks (CPU: 1): 100%|██████████| 13/13 [00:00<00:00, 14.89it/s]\n",
      "Generating walks (CPU: 2): 100%|██████████| 13/13 [00:00<00:00, 14.15it/s]\n",
      "Generating walks (CPU: 3): 100%|██████████| 12/12 [00:00<00:00, 15.64it/s]\n",
      "Generating walks (CPU: 4): 100%|██████████| 12/12 [00:00<00:00, 18.17it/s]\n"
     ]
    },
    {
     "name": "stdout",
     "output_type": "stream",
     "text": [
      "Validation ROC AUC: 0.4940\n",
      "Testing: dimensions=64, walk_length=10, num_walks=50, p=2, q=0.5\n"
     ]
    },
    {
     "data": {
      "application/vnd.jupyter.widget-view+json": {
       "model_id": "77a8cc49b7654a09b5b0013a3a7b0476",
       "version_major": 2,
       "version_minor": 0
      },
      "text/plain": [
       "Computing transition probabilities:   0%|          | 0/1000 [00:00<?, ?it/s]"
      ]
     },
     "metadata": {},
     "output_type": "display_data"
    },
    {
     "name": "stderr",
     "output_type": "stream",
     "text": [
      "Generating walks (CPU: 1): 100%|██████████| 13/13 [00:00<00:00, 17.12it/s]\n",
      "Generating walks (CPU: 2): 100%|██████████| 13/13 [00:00<00:00, 17.65it/s]\n",
      "Generating walks (CPU: 3): 100%|██████████| 12/12 [00:00<00:00, 18.34it/s]\n",
      "Generating walks (CPU: 4): 100%|██████████| 12/12 [00:00<00:00, 20.17it/s]\n"
     ]
    },
    {
     "name": "stdout",
     "output_type": "stream",
     "text": [
      "Validation ROC AUC: 0.4877\n",
      "Testing: dimensions=64, walk_length=10, num_walks=50, p=2, q=1\n"
     ]
    },
    {
     "data": {
      "application/vnd.jupyter.widget-view+json": {
       "model_id": "88ce531ab9c3443b83bb577867e23bd7",
       "version_major": 2,
       "version_minor": 0
      },
      "text/plain": [
       "Computing transition probabilities:   0%|          | 0/1000 [00:00<?, ?it/s]"
      ]
     },
     "metadata": {},
     "output_type": "display_data"
    },
    {
     "name": "stderr",
     "output_type": "stream",
     "text": [
      "Generating walks (CPU: 1): 100%|██████████| 13/13 [00:00<00:00, 16.95it/s]\n",
      "Generating walks (CPU: 2): 100%|██████████| 13/13 [00:00<00:00, 15.91it/s]\n",
      "Generating walks (CPU: 3): 100%|██████████| 12/12 [00:00<00:00, 17.67it/s]\n",
      "Generating walks (CPU: 4): 100%|██████████| 12/12 [00:00<00:00, 19.25it/s]\n"
     ]
    },
    {
     "name": "stdout",
     "output_type": "stream",
     "text": [
      "Validation ROC AUC: 0.4935\n",
      "Testing: dimensions=64, walk_length=10, num_walks=50, p=2, q=2\n"
     ]
    },
    {
     "data": {
      "application/vnd.jupyter.widget-view+json": {
       "model_id": "6af920400ccd4c84910bcf1efe36603f",
       "version_major": 2,
       "version_minor": 0
      },
      "text/plain": [
       "Computing transition probabilities:   0%|          | 0/1000 [00:00<?, ?it/s]"
      ]
     },
     "metadata": {},
     "output_type": "display_data"
    },
    {
     "name": "stderr",
     "output_type": "stream",
     "text": [
      "Generating walks (CPU: 1): 100%|██████████| 13/13 [00:00<00:00, 16.97it/s]\n",
      "Generating walks (CPU: 2): 100%|██████████| 13/13 [00:00<00:00, 15.82it/s]\n",
      "Generating walks (CPU: 3): 100%|██████████| 12/12 [00:00<00:00, 17.12it/s]\n",
      "Generating walks (CPU: 4): 100%|██████████| 12/12 [00:00<00:00, 18.56it/s]\n"
     ]
    },
    {
     "name": "stdout",
     "output_type": "stream",
     "text": [
      "Validation ROC AUC: 0.5095\n",
      "Testing: dimensions=64, walk_length=20, num_walks=10, p=0.5, q=0.5\n"
     ]
    },
    {
     "data": {
      "application/vnd.jupyter.widget-view+json": {
       "model_id": "c858405d80c847bfb254e9979b9c0c88",
       "version_major": 2,
       "version_minor": 0
      },
      "text/plain": [
       "Computing transition probabilities:   0%|          | 0/1000 [00:00<?, ?it/s]"
      ]
     },
     "metadata": {},
     "output_type": "display_data"
    },
    {
     "name": "stderr",
     "output_type": "stream",
     "text": [
      "Generating walks (CPU: 1): 100%|██████████| 3/3 [00:00<00:00,  8.42it/s]\n",
      "Generating walks (CPU: 2): 100%|██████████| 3/3 [00:00<00:00,  8.26it/s]\n",
      "Generating walks (CPU: 3): 100%|██████████| 2/2 [00:00<00:00,  8.91it/s]\n",
      "Generating walks (CPU: 4): 100%|██████████| 2/2 [00:00<00:00,  9.54it/s]\n"
     ]
    },
    {
     "name": "stdout",
     "output_type": "stream",
     "text": [
      "Validation ROC AUC: 0.5459\n",
      "Testing: dimensions=64, walk_length=20, num_walks=10, p=0.5, q=1\n"
     ]
    },
    {
     "data": {
      "application/vnd.jupyter.widget-view+json": {
       "model_id": "352720aa9aeb4f24aa389bdc4bb36796",
       "version_major": 2,
       "version_minor": 0
      },
      "text/plain": [
       "Computing transition probabilities:   0%|          | 0/1000 [00:00<?, ?it/s]"
      ]
     },
     "metadata": {},
     "output_type": "display_data"
    },
    {
     "name": "stderr",
     "output_type": "stream",
     "text": [
      "Generating walks (CPU: 1): 100%|██████████| 3/3 [00:00<00:00,  7.37it/s]\n",
      "Generating walks (CPU: 2): 100%|██████████| 3/3 [00:00<00:00,  8.34it/s]\n",
      "Generating walks (CPU: 3): 100%|██████████| 2/2 [00:00<00:00,  8.86it/s]\n",
      "Generating walks (CPU: 4): 100%|██████████| 2/2 [00:00<00:00,  9.45it/s]\n"
     ]
    },
    {
     "name": "stdout",
     "output_type": "stream",
     "text": [
      "Validation ROC AUC: 0.5341\n",
      "Testing: dimensions=64, walk_length=20, num_walks=10, p=0.5, q=2\n"
     ]
    },
    {
     "data": {
      "application/vnd.jupyter.widget-view+json": {
       "model_id": "170ad72276a443e49635495792a4c6cc",
       "version_major": 2,
       "version_minor": 0
      },
      "text/plain": [
       "Computing transition probabilities:   0%|          | 0/1000 [00:00<?, ?it/s]"
      ]
     },
     "metadata": {},
     "output_type": "display_data"
    },
    {
     "name": "stderr",
     "output_type": "stream",
     "text": [
      "Generating walks (CPU: 1): 100%|██████████| 3/3 [00:00<00:00,  8.21it/s]\n",
      "Generating walks (CPU: 2): 100%|██████████| 3/3 [00:00<00:00,  8.12it/s]\n",
      "Generating walks (CPU: 3): 100%|██████████| 2/2 [00:00<00:00,  8.66it/s]\n",
      "Generating walks (CPU: 4): 100%|██████████| 2/2 [00:00<00:00,  9.16it/s]\n"
     ]
    },
    {
     "name": "stdout",
     "output_type": "stream",
     "text": [
      "Validation ROC AUC: 0.5356\n",
      "Testing: dimensions=64, walk_length=20, num_walks=10, p=1, q=0.5\n"
     ]
    },
    {
     "data": {
      "application/vnd.jupyter.widget-view+json": {
       "model_id": "f7c210a1cace453aa594ca0a0fb801d6",
       "version_major": 2,
       "version_minor": 0
      },
      "text/plain": [
       "Computing transition probabilities:   0%|          | 0/1000 [00:00<?, ?it/s]"
      ]
     },
     "metadata": {},
     "output_type": "display_data"
    },
    {
     "name": "stderr",
     "output_type": "stream",
     "text": [
      "Generating walks (CPU: 1): 100%|██████████| 3/3 [00:00<00:00,  8.83it/s]\n",
      "Generating walks (CPU: 2): 100%|██████████| 3/3 [00:00<00:00,  8.14it/s]\n",
      "Generating walks (CPU: 3): 100%|██████████| 2/2 [00:00<00:00,  9.02it/s]\n",
      "Generating walks (CPU: 4): 100%|██████████| 2/2 [00:00<00:00,  8.38it/s]\n"
     ]
    },
    {
     "name": "stdout",
     "output_type": "stream",
     "text": [
      "Validation ROC AUC: 0.5304\n",
      "Testing: dimensions=64, walk_length=20, num_walks=10, p=1, q=1\n"
     ]
    },
    {
     "data": {
      "application/vnd.jupyter.widget-view+json": {
       "model_id": "bba30df9fba84538ada55b9f24f39cd5",
       "version_major": 2,
       "version_minor": 0
      },
      "text/plain": [
       "Computing transition probabilities:   0%|          | 0/1000 [00:00<?, ?it/s]"
      ]
     },
     "metadata": {},
     "output_type": "display_data"
    },
    {
     "name": "stderr",
     "output_type": "stream",
     "text": [
      "Generating walks (CPU: 1): 100%|██████████| 3/3 [00:00<00:00,  8.62it/s]\n",
      "Generating walks (CPU: 2): 100%|██████████| 3/3 [00:00<00:00,  8.10it/s]\n",
      "Generating walks (CPU: 3): 100%|██████████| 2/2 [00:00<00:00,  8.84it/s]\n",
      "Generating walks (CPU: 4): 100%|██████████| 2/2 [00:00<00:00,  9.53it/s]\n"
     ]
    },
    {
     "name": "stdout",
     "output_type": "stream",
     "text": [
      "Validation ROC AUC: 0.5427\n",
      "Testing: dimensions=64, walk_length=20, num_walks=10, p=1, q=2\n"
     ]
    },
    {
     "data": {
      "application/vnd.jupyter.widget-view+json": {
       "model_id": "45ead00f0f564c16baf23df31dd4e5ba",
       "version_major": 2,
       "version_minor": 0
      },
      "text/plain": [
       "Computing transition probabilities:   0%|          | 0/1000 [00:00<?, ?it/s]"
      ]
     },
     "metadata": {},
     "output_type": "display_data"
    },
    {
     "name": "stderr",
     "output_type": "stream",
     "text": [
      "Generating walks (CPU: 1): 100%|██████████| 3/3 [00:00<00:00,  8.22it/s]\n",
      "Generating walks (CPU: 2): 100%|██████████| 3/3 [00:00<00:00,  8.38it/s]\n",
      "Generating walks (CPU: 3): 100%|██████████| 2/2 [00:00<00:00,  8.52it/s]\n",
      "Generating walks (CPU: 4): 100%|██████████| 2/2 [00:00<00:00,  9.07it/s]\n"
     ]
    },
    {
     "name": "stdout",
     "output_type": "stream",
     "text": [
      "Validation ROC AUC: 0.5213\n",
      "Testing: dimensions=64, walk_length=20, num_walks=10, p=2, q=0.5\n"
     ]
    },
    {
     "data": {
      "application/vnd.jupyter.widget-view+json": {
       "model_id": "3c201f2ac6be49dd9b09710887fc57c5",
       "version_major": 2,
       "version_minor": 0
      },
      "text/plain": [
       "Computing transition probabilities:   0%|          | 0/1000 [00:00<?, ?it/s]"
      ]
     },
     "metadata": {},
     "output_type": "display_data"
    },
    {
     "name": "stderr",
     "output_type": "stream",
     "text": [
      "Generating walks (CPU: 1): 100%|██████████| 3/3 [00:00<00:00,  8.60it/s]\n",
      "Generating walks (CPU: 2): 100%|██████████| 3/3 [00:00<00:00,  7.74it/s]\n",
      "Generating walks (CPU: 3): 100%|██████████| 2/2 [00:00<00:00,  8.10it/s]\n",
      "Generating walks (CPU: 4): 100%|██████████| 2/2 [00:00<00:00,  9.57it/s]\n"
     ]
    },
    {
     "name": "stdout",
     "output_type": "stream",
     "text": [
      "Validation ROC AUC: 0.5506\n",
      "Testing: dimensions=64, walk_length=20, num_walks=10, p=2, q=1\n"
     ]
    },
    {
     "data": {
      "application/vnd.jupyter.widget-view+json": {
       "model_id": "171fc901cdac4d529bf57a2100d4b0d1",
       "version_major": 2,
       "version_minor": 0
      },
      "text/plain": [
       "Computing transition probabilities:   0%|          | 0/1000 [00:00<?, ?it/s]"
      ]
     },
     "metadata": {},
     "output_type": "display_data"
    },
    {
     "name": "stderr",
     "output_type": "stream",
     "text": [
      "Generating walks (CPU: 1): 100%|██████████| 3/3 [00:00<00:00,  8.26it/s]\n",
      "Generating walks (CPU: 2): 100%|██████████| 3/3 [00:00<00:00,  8.24it/s]\n",
      "Generating walks (CPU: 3): 100%|██████████| 2/2 [00:00<00:00,  8.73it/s]\n",
      "Generating walks (CPU: 4): 100%|██████████| 2/2 [00:00<00:00,  9.28it/s]\n"
     ]
    },
    {
     "name": "stdout",
     "output_type": "stream",
     "text": [
      "Validation ROC AUC: 0.5510\n",
      "Testing: dimensions=64, walk_length=20, num_walks=10, p=2, q=2\n"
     ]
    },
    {
     "data": {
      "application/vnd.jupyter.widget-view+json": {
       "model_id": "8029eeb43dcf4cecaa0736263c339986",
       "version_major": 2,
       "version_minor": 0
      },
      "text/plain": [
       "Computing transition probabilities:   0%|          | 0/1000 [00:00<?, ?it/s]"
      ]
     },
     "metadata": {},
     "output_type": "display_data"
    },
    {
     "name": "stderr",
     "output_type": "stream",
     "text": [
      "Generating walks (CPU: 1): 100%|██████████| 3/3 [00:00<00:00,  7.57it/s]\n",
      "Generating walks (CPU: 2): 100%|██████████| 3/3 [00:00<00:00,  7.86it/s]\n",
      "Generating walks (CPU: 3): 100%|██████████| 2/2 [00:00<00:00,  8.06it/s]\n",
      "Generating walks (CPU: 4): 100%|██████████| 2/2 [00:00<00:00,  9.10it/s]\n"
     ]
    },
    {
     "name": "stdout",
     "output_type": "stream",
     "text": [
      "Validation ROC AUC: 0.5405\n",
      "Testing: dimensions=64, walk_length=20, num_walks=20, p=0.5, q=0.5\n"
     ]
    },
    {
     "data": {
      "application/vnd.jupyter.widget-view+json": {
       "model_id": "3c699b102a164e2ea69ae75586b5d2d6",
       "version_major": 2,
       "version_minor": 0
      },
      "text/plain": [
       "Computing transition probabilities:   0%|          | 0/1000 [00:00<?, ?it/s]"
      ]
     },
     "metadata": {},
     "output_type": "display_data"
    },
    {
     "name": "stderr",
     "output_type": "stream",
     "text": [
      "Generating walks (CPU: 1): 100%|██████████| 5/5 [00:00<00:00,  8.69it/s]\n",
      "Generating walks (CPU: 2): 100%|██████████| 5/5 [00:00<00:00,  8.68it/s]\n",
      "Generating walks (CPU: 3): 100%|██████████| 5/5 [00:00<00:00,  8.94it/s]\n",
      "Generating walks (CPU: 4): 100%|██████████| 5/5 [00:00<00:00,  9.50it/s]\n"
     ]
    },
    {
     "name": "stdout",
     "output_type": "stream",
     "text": [
      "Validation ROC AUC: 0.4957\n",
      "Testing: dimensions=64, walk_length=20, num_walks=20, p=0.5, q=1\n"
     ]
    },
    {
     "data": {
      "application/vnd.jupyter.widget-view+json": {
       "model_id": "7789247e16ff4bc5a4ecfe7394b80520",
       "version_major": 2,
       "version_minor": 0
      },
      "text/plain": [
       "Computing transition probabilities:   0%|          | 0/1000 [00:00<?, ?it/s]"
      ]
     },
     "metadata": {},
     "output_type": "display_data"
    },
    {
     "name": "stderr",
     "output_type": "stream",
     "text": [
      "Generating walks (CPU: 1): 100%|██████████| 5/5 [00:00<00:00,  8.23it/s]\n",
      "Generating walks (CPU: 2): 100%|██████████| 5/5 [00:00<00:00,  7.49it/s]\n",
      "Generating walks (CPU: 3): 100%|██████████| 5/5 [00:00<00:00,  7.89it/s]\n",
      "Generating walks (CPU: 4): 100%|██████████| 5/5 [00:00<00:00,  8.92it/s]\n"
     ]
    },
    {
     "name": "stdout",
     "output_type": "stream",
     "text": [
      "Validation ROC AUC: 0.4936\n",
      "Testing: dimensions=64, walk_length=20, num_walks=20, p=0.5, q=2\n"
     ]
    },
    {
     "data": {
      "application/vnd.jupyter.widget-view+json": {
       "model_id": "66e8ec76d3ed42edb76c2dfe85941117",
       "version_major": 2,
       "version_minor": 0
      },
      "text/plain": [
       "Computing transition probabilities:   0%|          | 0/1000 [00:00<?, ?it/s]"
      ]
     },
     "metadata": {},
     "output_type": "display_data"
    },
    {
     "name": "stderr",
     "output_type": "stream",
     "text": [
      "Generating walks (CPU: 1): 100%|██████████| 5/5 [00:00<00:00,  7.69it/s]\n",
      "Generating walks (CPU: 2): 100%|██████████| 5/5 [00:00<00:00,  8.03it/s]\n",
      "Generating walks (CPU: 3): 100%|██████████| 5/5 [00:00<00:00,  8.37it/s]\n",
      "Generating walks (CPU: 4): 100%|██████████| 5/5 [00:00<00:00,  8.79it/s]\n"
     ]
    },
    {
     "name": "stdout",
     "output_type": "stream",
     "text": [
      "Validation ROC AUC: 0.5020\n",
      "Testing: dimensions=64, walk_length=20, num_walks=20, p=1, q=0.5\n"
     ]
    },
    {
     "data": {
      "application/vnd.jupyter.widget-view+json": {
       "model_id": "7167cc27f0f043d4be9b8a6b4ddc25ae",
       "version_major": 2,
       "version_minor": 0
      },
      "text/plain": [
       "Computing transition probabilities:   0%|          | 0/1000 [00:00<?, ?it/s]"
      ]
     },
     "metadata": {},
     "output_type": "display_data"
    },
    {
     "name": "stderr",
     "output_type": "stream",
     "text": [
      "Generating walks (CPU: 1): 100%|██████████| 5/5 [00:00<00:00,  7.93it/s]\n",
      "Generating walks (CPU: 2): 100%|██████████| 5/5 [00:00<00:00,  8.24it/s]\n",
      "Generating walks (CPU: 3): 100%|██████████| 5/5 [00:00<00:00,  8.75it/s]\n",
      "Generating walks (CPU: 4): 100%|██████████| 5/5 [00:00<00:00,  7.79it/s]\n"
     ]
    },
    {
     "name": "stdout",
     "output_type": "stream",
     "text": [
      "Validation ROC AUC: 0.4955\n",
      "Testing: dimensions=64, walk_length=20, num_walks=20, p=1, q=1\n"
     ]
    },
    {
     "data": {
      "application/vnd.jupyter.widget-view+json": {
       "model_id": "ca95670566334815b006e62e9465a6bd",
       "version_major": 2,
       "version_minor": 0
      },
      "text/plain": [
       "Computing transition probabilities:   0%|          | 0/1000 [00:00<?, ?it/s]"
      ]
     },
     "metadata": {},
     "output_type": "display_data"
    },
    {
     "name": "stderr",
     "output_type": "stream",
     "text": [
      "Generating walks (CPU: 1): 100%|██████████| 5/5 [00:00<00:00,  8.13it/s]\n",
      "Generating walks (CPU: 2): 100%|██████████| 5/5 [00:00<00:00,  8.22it/s]\n",
      "Generating walks (CPU: 3): 100%|██████████| 5/5 [00:00<00:00,  7.77it/s]\n",
      "Generating walks (CPU: 4): 100%|██████████| 5/5 [00:00<00:00,  9.32it/s]\n"
     ]
    },
    {
     "name": "stdout",
     "output_type": "stream",
     "text": [
      "Validation ROC AUC: 0.4911\n",
      "Testing: dimensions=64, walk_length=20, num_walks=20, p=1, q=2\n"
     ]
    },
    {
     "data": {
      "application/vnd.jupyter.widget-view+json": {
       "model_id": "34126c9bad504aecbf8bccf224ab2bd5",
       "version_major": 2,
       "version_minor": 0
      },
      "text/plain": [
       "Computing transition probabilities:   0%|          | 0/1000 [00:00<?, ?it/s]"
      ]
     },
     "metadata": {},
     "output_type": "display_data"
    },
    {
     "name": "stderr",
     "output_type": "stream",
     "text": [
      "Generating walks (CPU: 1): 100%|██████████| 5/5 [00:00<00:00,  7.90it/s]\n",
      "Generating walks (CPU: 2): 100%|██████████| 5/5 [00:00<00:00,  7.89it/s]\n",
      "Generating walks (CPU: 3): 100%|██████████| 5/5 [00:00<00:00,  8.35it/s]\n",
      "Generating walks (CPU: 4): 100%|██████████| 5/5 [00:00<00:00,  8.99it/s]\n"
     ]
    },
    {
     "name": "stdout",
     "output_type": "stream",
     "text": [
      "Validation ROC AUC: 0.4864\n",
      "Testing: dimensions=64, walk_length=20, num_walks=20, p=2, q=0.5\n"
     ]
    },
    {
     "data": {
      "application/vnd.jupyter.widget-view+json": {
       "model_id": "562d30e6797f4a45b8157118689aec9c",
       "version_major": 2,
       "version_minor": 0
      },
      "text/plain": [
       "Computing transition probabilities:   0%|          | 0/1000 [00:00<?, ?it/s]"
      ]
     },
     "metadata": {},
     "output_type": "display_data"
    },
    {
     "name": "stderr",
     "output_type": "stream",
     "text": [
      "Generating walks (CPU: 1): 100%|██████████| 5/5 [00:00<00:00,  8.59it/s]\n",
      "Generating walks (CPU: 2): 100%|██████████| 5/5 [00:00<00:00,  8.41it/s]\n",
      "Generating walks (CPU: 3): 100%|██████████| 5/5 [00:00<00:00,  8.92it/s]\n",
      "Generating walks (CPU: 4): 100%|██████████| 5/5 [00:00<00:00,  9.58it/s]\n"
     ]
    },
    {
     "name": "stdout",
     "output_type": "stream",
     "text": [
      "Validation ROC AUC: 0.4932\n",
      "Testing: dimensions=64, walk_length=20, num_walks=20, p=2, q=1\n"
     ]
    },
    {
     "data": {
      "application/vnd.jupyter.widget-view+json": {
       "model_id": "e5ade142771e4b55b37408484b2a638f",
       "version_major": 2,
       "version_minor": 0
      },
      "text/plain": [
       "Computing transition probabilities:   0%|          | 0/1000 [00:00<?, ?it/s]"
      ]
     },
     "metadata": {},
     "output_type": "display_data"
    },
    {
     "name": "stderr",
     "output_type": "stream",
     "text": [
      "Generating walks (CPU: 1): 100%|██████████| 5/5 [00:00<00:00,  8.51it/s]\n",
      "Generating walks (CPU: 2): 100%|██████████| 5/5 [00:00<00:00,  8.34it/s]\n",
      "Generating walks (CPU: 3): 100%|██████████| 5/5 [00:00<00:00,  8.19it/s]\n",
      "Generating walks (CPU: 4): 100%|██████████| 5/5 [00:00<00:00,  8.82it/s]\n"
     ]
    },
    {
     "name": "stdout",
     "output_type": "stream",
     "text": [
      "Validation ROC AUC: 0.5048\n",
      "Testing: dimensions=64, walk_length=20, num_walks=20, p=2, q=2\n"
     ]
    },
    {
     "data": {
      "application/vnd.jupyter.widget-view+json": {
       "model_id": "866ff0ae5db14c668e12695d534c0025",
       "version_major": 2,
       "version_minor": 0
      },
      "text/plain": [
       "Computing transition probabilities:   0%|          | 0/1000 [00:00<?, ?it/s]"
      ]
     },
     "metadata": {},
     "output_type": "display_data"
    },
    {
     "name": "stderr",
     "output_type": "stream",
     "text": [
      "Generating walks (CPU: 1): 100%|██████████| 5/5 [00:00<00:00,  7.77it/s]\n",
      "Generating walks (CPU: 2): 100%|██████████| 5/5 [00:00<00:00,  7.99it/s]\n",
      "Generating walks (CPU: 3): 100%|██████████| 5/5 [00:00<00:00,  8.29it/s]\n",
      "Generating walks (CPU: 4): 100%|██████████| 5/5 [00:00<00:00,  8.85it/s]\n"
     ]
    },
    {
     "name": "stdout",
     "output_type": "stream",
     "text": [
      "Validation ROC AUC: 0.5189\n",
      "Testing: dimensions=64, walk_length=20, num_walks=50, p=0.5, q=0.5\n"
     ]
    },
    {
     "data": {
      "application/vnd.jupyter.widget-view+json": {
       "model_id": "4a9d8185587446aea2004c480a4bc410",
       "version_major": 2,
       "version_minor": 0
      },
      "text/plain": [
       "Computing transition probabilities:   0%|          | 0/1000 [00:00<?, ?it/s]"
      ]
     },
     "metadata": {},
     "output_type": "display_data"
    },
    {
     "name": "stderr",
     "output_type": "stream",
     "text": [
      "Generating walks (CPU: 1): 100%|██████████| 13/13 [00:01<00:00,  8.15it/s]\n",
      "Generating walks (CPU: 2): 100%|██████████| 13/13 [00:01<00:00,  8.06it/s]\n",
      "Generating walks (CPU: 3): 100%|██████████| 12/12 [00:01<00:00,  8.19it/s]\n",
      "Generating walks (CPU: 4): 100%|██████████| 12/12 [00:01<00:00,  8.48it/s]\n"
     ]
    },
    {
     "name": "stdout",
     "output_type": "stream",
     "text": [
      "Validation ROC AUC: 0.4783\n",
      "Testing: dimensions=64, walk_length=20, num_walks=50, p=0.5, q=1\n"
     ]
    },
    {
     "data": {
      "application/vnd.jupyter.widget-view+json": {
       "model_id": "fcc8ed2b08c94a3793711b16757bc7cf",
       "version_major": 2,
       "version_minor": 0
      },
      "text/plain": [
       "Computing transition probabilities:   0%|          | 0/1000 [00:00<?, ?it/s]"
      ]
     },
     "metadata": {},
     "output_type": "display_data"
    },
    {
     "name": "stderr",
     "output_type": "stream",
     "text": [
      "Generating walks (CPU: 1): 100%|██████████| 13/13 [00:01<00:00,  7.52it/s]\n",
      "Generating walks (CPU: 2): 100%|██████████| 13/13 [00:01<00:00,  7.38it/s]\n",
      "Generating walks (CPU: 3): 100%|██████████| 12/12 [00:01<00:00,  7.47it/s]\n",
      "Generating walks (CPU: 4): 100%|██████████| 12/12 [00:01<00:00,  8.06it/s]\n"
     ]
    },
    {
     "name": "stdout",
     "output_type": "stream",
     "text": [
      "Validation ROC AUC: 0.4798\n",
      "Testing: dimensions=64, walk_length=20, num_walks=50, p=0.5, q=2\n"
     ]
    },
    {
     "data": {
      "application/vnd.jupyter.widget-view+json": {
       "model_id": "33949580378442e8a3a87da73c9c6860",
       "version_major": 2,
       "version_minor": 0
      },
      "text/plain": [
       "Computing transition probabilities:   0%|          | 0/1000 [00:00<?, ?it/s]"
      ]
     },
     "metadata": {},
     "output_type": "display_data"
    },
    {
     "name": "stderr",
     "output_type": "stream",
     "text": [
      "Generating walks (CPU: 1): 100%|██████████| 13/13 [00:01<00:00,  7.41it/s]\n",
      "Generating walks (CPU: 2): 100%|██████████| 13/13 [00:01<00:00,  7.38it/s]\n",
      "Generating walks (CPU: 3): 100%|██████████| 12/12 [00:01<00:00,  7.49it/s]\n",
      "Generating walks (CPU: 4): 100%|██████████| 12/12 [00:01<00:00,  7.80it/s]\n"
     ]
    },
    {
     "name": "stdout",
     "output_type": "stream",
     "text": [
      "Validation ROC AUC: 0.4905\n",
      "Testing: dimensions=64, walk_length=20, num_walks=50, p=1, q=0.5\n"
     ]
    },
    {
     "data": {
      "application/vnd.jupyter.widget-view+json": {
       "model_id": "1e0eca6b2a8a425fa64beccbbae0f671",
       "version_major": 2,
       "version_minor": 0
      },
      "text/plain": [
       "Computing transition probabilities:   0%|          | 0/1000 [00:00<?, ?it/s]"
      ]
     },
     "metadata": {},
     "output_type": "display_data"
    },
    {
     "name": "stderr",
     "output_type": "stream",
     "text": [
      "Generating walks (CPU: 1): 100%|██████████| 13/13 [00:01<00:00,  7.83it/s]\n",
      "Generating walks (CPU: 2): 100%|██████████| 13/13 [00:01<00:00,  7.58it/s]\n",
      "Generating walks (CPU: 3): 100%|██████████| 12/12 [00:01<00:00,  7.82it/s]\n",
      "Generating walks (CPU: 4): 100%|██████████| 12/12 [00:01<00:00,  8.34it/s]\n"
     ]
    },
    {
     "name": "stdout",
     "output_type": "stream",
     "text": [
      "Validation ROC AUC: 0.4719\n",
      "Testing: dimensions=64, walk_length=20, num_walks=50, p=1, q=1\n"
     ]
    },
    {
     "data": {
      "application/vnd.jupyter.widget-view+json": {
       "model_id": "c4bdf72a3df4466980d3e16207683c1c",
       "version_major": 2,
       "version_minor": 0
      },
      "text/plain": [
       "Computing transition probabilities:   0%|          | 0/1000 [00:00<?, ?it/s]"
      ]
     },
     "metadata": {},
     "output_type": "display_data"
    },
    {
     "name": "stderr",
     "output_type": "stream",
     "text": [
      "Generating walks (CPU: 1): 100%|██████████| 13/13 [00:01<00:00,  6.91it/s]\n",
      "Generating walks (CPU: 2): 100%|██████████| 13/13 [00:01<00:00,  7.19it/s]\n",
      "Generating walks (CPU: 3): 100%|██████████| 12/12 [00:01<00:00,  7.47it/s]\n",
      "Generating walks (CPU: 4): 100%|██████████| 12/12 [00:01<00:00,  8.01it/s]\n"
     ]
    },
    {
     "name": "stdout",
     "output_type": "stream",
     "text": [
      "Validation ROC AUC: 0.4882\n",
      "Testing: dimensions=64, walk_length=20, num_walks=50, p=1, q=2\n"
     ]
    },
    {
     "data": {
      "application/vnd.jupyter.widget-view+json": {
       "model_id": "720608ccc9f34553b93f0d873573bfb7",
       "version_major": 2,
       "version_minor": 0
      },
      "text/plain": [
       "Computing transition probabilities:   0%|          | 0/1000 [00:00<?, ?it/s]"
      ]
     },
     "metadata": {},
     "output_type": "display_data"
    },
    {
     "name": "stderr",
     "output_type": "stream",
     "text": [
      "Generating walks (CPU: 1): 100%|██████████| 13/13 [00:01<00:00,  7.63it/s]\n",
      "Generating walks (CPU: 2): 100%|██████████| 13/13 [00:01<00:00,  7.31it/s]\n",
      "Generating walks (CPU: 3): 100%|██████████| 12/12 [00:01<00:00,  7.40it/s]\n",
      "Generating walks (CPU: 4): 100%|██████████| 12/12 [00:01<00:00,  7.77it/s]\n"
     ]
    },
    {
     "name": "stdout",
     "output_type": "stream",
     "text": [
      "Validation ROC AUC: 0.5081\n",
      "Testing: dimensions=64, walk_length=20, num_walks=50, p=2, q=0.5\n"
     ]
    },
    {
     "data": {
      "application/vnd.jupyter.widget-view+json": {
       "model_id": "b0af18bc98404b50ba2e213eb1b92d20",
       "version_major": 2,
       "version_minor": 0
      },
      "text/plain": [
       "Computing transition probabilities:   0%|          | 0/1000 [00:00<?, ?it/s]"
      ]
     },
     "metadata": {},
     "output_type": "display_data"
    },
    {
     "name": "stderr",
     "output_type": "stream",
     "text": [
      "Generating walks (CPU: 1): 100%|██████████| 13/13 [00:01<00:00,  7.76it/s]\n",
      "Generating walks (CPU: 2): 100%|██████████| 13/13 [00:01<00:00,  7.41it/s]\n",
      "Generating walks (CPU: 3): 100%|██████████| 12/12 [00:01<00:00,  7.80it/s]\n",
      "Generating walks (CPU: 4): 100%|██████████| 12/12 [00:01<00:00,  8.44it/s]\n"
     ]
    },
    {
     "name": "stdout",
     "output_type": "stream",
     "text": [
      "Validation ROC AUC: 0.4925\n",
      "Testing: dimensions=64, walk_length=20, num_walks=50, p=2, q=1\n"
     ]
    },
    {
     "data": {
      "application/vnd.jupyter.widget-view+json": {
       "model_id": "f0261ea4c2334bea9c9fc591ae3167d8",
       "version_major": 2,
       "version_minor": 0
      },
      "text/plain": [
       "Computing transition probabilities:   0%|          | 0/1000 [00:00<?, ?it/s]"
      ]
     },
     "metadata": {},
     "output_type": "display_data"
    },
    {
     "name": "stderr",
     "output_type": "stream",
     "text": [
      "Generating walks (CPU: 1): 100%|██████████| 13/13 [00:01<00:00,  7.50it/s]\n",
      "Generating walks (CPU: 2): 100%|██████████| 13/13 [00:01<00:00,  7.32it/s]\n",
      "Generating walks (CPU: 3): 100%|██████████| 12/12 [00:01<00:00,  7.40it/s]\n",
      "Generating walks (CPU: 4): 100%|██████████| 12/12 [00:01<00:00,  8.01it/s]\n"
     ]
    },
    {
     "name": "stdout",
     "output_type": "stream",
     "text": [
      "Validation ROC AUC: 0.4944\n",
      "Testing: dimensions=64, walk_length=20, num_walks=50, p=2, q=2\n"
     ]
    },
    {
     "data": {
      "application/vnd.jupyter.widget-view+json": {
       "model_id": "adeea1f442bf4f60bbee55e8184a6053",
       "version_major": 2,
       "version_minor": 0
      },
      "text/plain": [
       "Computing transition probabilities:   0%|          | 0/1000 [00:00<?, ?it/s]"
      ]
     },
     "metadata": {},
     "output_type": "display_data"
    },
    {
     "name": "stderr",
     "output_type": "stream",
     "text": [
      "Generating walks (CPU: 1): 100%|██████████| 13/13 [00:01<00:00,  6.56it/s]\n",
      "Generating walks (CPU: 2): 100%|██████████| 13/13 [00:02<00:00,  6.04it/s]\n",
      "Generating walks (CPU: 3): 100%|██████████| 12/12 [00:01<00:00,  6.58it/s]\n",
      "Generating walks (CPU: 4): 100%|██████████| 12/12 [00:01<00:00,  6.50it/s]\n"
     ]
    },
    {
     "name": "stdout",
     "output_type": "stream",
     "text": [
      "Validation ROC AUC: 0.4994\n",
      "Testing: dimensions=64, walk_length=30, num_walks=10, p=0.5, q=0.5\n"
     ]
    },
    {
     "data": {
      "application/vnd.jupyter.widget-view+json": {
       "model_id": "5c71783b00d04c64b5ded7739d105e59",
       "version_major": 2,
       "version_minor": 0
      },
      "text/plain": [
       "Computing transition probabilities:   0%|          | 0/1000 [00:00<?, ?it/s]"
      ]
     },
     "metadata": {},
     "output_type": "display_data"
    },
    {
     "name": "stderr",
     "output_type": "stream",
     "text": [
      "Generating walks (CPU: 1): 100%|██████████| 3/3 [00:00<00:00,  5.57it/s]\n",
      "Generating walks (CPU: 2): 100%|██████████| 3/3 [00:00<00:00,  5.43it/s]\n",
      "Generating walks (CPU: 3): 100%|██████████| 2/2 [00:00<00:00,  5.48it/s]\n",
      "Generating walks (CPU: 4): 100%|██████████| 2/2 [00:00<00:00,  6.26it/s]\n"
     ]
    },
    {
     "name": "stdout",
     "output_type": "stream",
     "text": [
      "Validation ROC AUC: 0.5121\n",
      "Testing: dimensions=64, walk_length=30, num_walks=10, p=0.5, q=1\n"
     ]
    },
    {
     "data": {
      "application/vnd.jupyter.widget-view+json": {
       "model_id": "fb1d76fc8cea461e849bf9a040c000ed",
       "version_major": 2,
       "version_minor": 0
      },
      "text/plain": [
       "Computing transition probabilities:   0%|          | 0/1000 [00:00<?, ?it/s]"
      ]
     },
     "metadata": {},
     "output_type": "display_data"
    },
    {
     "name": "stderr",
     "output_type": "stream",
     "text": [
      "Generating walks (CPU: 1): 100%|██████████| 3/3 [00:00<00:00,  5.23it/s]\n",
      "Generating walks (CPU: 2): 100%|██████████| 3/3 [00:00<00:00,  5.15it/s]\n",
      "Generating walks (CPU: 3): 100%|██████████| 2/2 [00:00<00:00,  5.46it/s]\n",
      "Generating walks (CPU: 4): 100%|██████████| 2/2 [00:00<00:00,  6.08it/s]\n"
     ]
    },
    {
     "name": "stdout",
     "output_type": "stream",
     "text": [
      "Validation ROC AUC: 0.5039\n",
      "Testing: dimensions=64, walk_length=30, num_walks=10, p=0.5, q=2\n"
     ]
    },
    {
     "data": {
      "application/vnd.jupyter.widget-view+json": {
       "model_id": "a651fdf287da4f7a9f8f0caed3f57c63",
       "version_major": 2,
       "version_minor": 0
      },
      "text/plain": [
       "Computing transition probabilities:   0%|          | 0/1000 [00:00<?, ?it/s]"
      ]
     },
     "metadata": {},
     "output_type": "display_data"
    },
    {
     "name": "stderr",
     "output_type": "stream",
     "text": [
      "Generating walks (CPU: 1): 100%|██████████| 3/3 [00:00<00:00,  5.33it/s]\n",
      "Generating walks (CPU: 2): 100%|██████████| 3/3 [00:00<00:00,  5.14it/s]\n",
      "Generating walks (CPU: 3): 100%|██████████| 2/2 [00:00<00:00,  5.18it/s]\n",
      "Generating walks (CPU: 4): 100%|██████████| 2/2 [00:00<00:00,  5.82it/s]\n"
     ]
    },
    {
     "name": "stdout",
     "output_type": "stream",
     "text": [
      "Validation ROC AUC: 0.5143\n",
      "Testing: dimensions=64, walk_length=30, num_walks=10, p=1, q=0.5\n"
     ]
    },
    {
     "data": {
      "application/vnd.jupyter.widget-view+json": {
       "model_id": "60a0fae1728c4a539ea99d5fd18f561c",
       "version_major": 2,
       "version_minor": 0
      },
      "text/plain": [
       "Computing transition probabilities:   0%|          | 0/1000 [00:00<?, ?it/s]"
      ]
     },
     "metadata": {},
     "output_type": "display_data"
    },
    {
     "name": "stderr",
     "output_type": "stream",
     "text": [
      "Generating walks (CPU: 1): 100%|██████████| 3/3 [00:00<00:00,  5.76it/s]\n",
      "Generating walks (CPU: 2): 100%|██████████| 3/3 [00:00<00:00,  5.02it/s]\n",
      "Generating walks (CPU: 3): 100%|██████████| 2/2 [00:00<00:00,  5.33it/s]\n",
      "Generating walks (CPU: 4): 100%|██████████| 2/2 [00:00<00:00,  5.89it/s]\n"
     ]
    },
    {
     "name": "stdout",
     "output_type": "stream",
     "text": [
      "Validation ROC AUC: 0.5167\n",
      "Testing: dimensions=64, walk_length=30, num_walks=10, p=1, q=1\n"
     ]
    },
    {
     "data": {
      "application/vnd.jupyter.widget-view+json": {
       "model_id": "220f476efd5a4bbba31f7bbe65692eef",
       "version_major": 2,
       "version_minor": 0
      },
      "text/plain": [
       "Computing transition probabilities:   0%|          | 0/1000 [00:00<?, ?it/s]"
      ]
     },
     "metadata": {},
     "output_type": "display_data"
    },
    {
     "name": "stderr",
     "output_type": "stream",
     "text": [
      "Generating walks (CPU: 1): 100%|██████████| 3/3 [00:00<00:00,  5.44it/s]\n",
      "Generating walks (CPU: 2): 100%|██████████| 3/3 [00:00<00:00,  5.21it/s]\n",
      "Generating walks (CPU: 3): 100%|██████████| 2/2 [00:00<00:00,  5.48it/s]\n",
      "Generating walks (CPU: 4): 100%|██████████| 2/2 [00:00<00:00,  6.13it/s]\n"
     ]
    },
    {
     "name": "stdout",
     "output_type": "stream",
     "text": [
      "Validation ROC AUC: 0.5006\n",
      "Testing: dimensions=64, walk_length=30, num_walks=10, p=1, q=2\n"
     ]
    },
    {
     "data": {
      "application/vnd.jupyter.widget-view+json": {
       "model_id": "42c1afaf106243ee8c1614916c518742",
       "version_major": 2,
       "version_minor": 0
      },
      "text/plain": [
       "Computing transition probabilities:   0%|          | 0/1000 [00:00<?, ?it/s]"
      ]
     },
     "metadata": {},
     "output_type": "display_data"
    },
    {
     "name": "stderr",
     "output_type": "stream",
     "text": [
      "Generating walks (CPU: 1): 100%|██████████| 3/3 [00:00<00:00,  5.18it/s]\n",
      "Generating walks (CPU: 2): 100%|██████████| 3/3 [00:00<00:00,  5.17it/s]\n",
      "Generating walks (CPU: 3): 100%|██████████| 2/2 [00:00<00:00,  5.40it/s]\n",
      "Generating walks (CPU: 4): 100%|██████████| 2/2 [00:00<00:00,  5.89it/s]\n"
     ]
    },
    {
     "name": "stdout",
     "output_type": "stream",
     "text": [
      "Validation ROC AUC: 0.5049\n",
      "Testing: dimensions=64, walk_length=30, num_walks=10, p=2, q=0.5\n"
     ]
    },
    {
     "data": {
      "application/vnd.jupyter.widget-view+json": {
       "model_id": "28493af5ed8c4718a2dd00a2b6ca9011",
       "version_major": 2,
       "version_minor": 0
      },
      "text/plain": [
       "Computing transition probabilities:   0%|          | 0/1000 [00:00<?, ?it/s]"
      ]
     },
     "metadata": {},
     "output_type": "display_data"
    },
    {
     "name": "stderr",
     "output_type": "stream",
     "text": [
      "Generating walks (CPU: 1): 100%|██████████| 3/3 [00:00<00:00,  5.51it/s]\n",
      "Generating walks (CPU: 2): 100%|██████████| 3/3 [00:00<00:00,  5.60it/s]\n",
      "Generating walks (CPU: 3): 100%|██████████| 2/2 [00:00<00:00,  5.81it/s]\n",
      "Generating walks (CPU: 4): 100%|██████████| 2/2 [00:00<00:00,  6.24it/s]\n"
     ]
    },
    {
     "name": "stdout",
     "output_type": "stream",
     "text": [
      "Validation ROC AUC: 0.5178\n",
      "Testing: dimensions=64, walk_length=30, num_walks=10, p=2, q=1\n"
     ]
    },
    {
     "data": {
      "application/vnd.jupyter.widget-view+json": {
       "model_id": "bcbbad55525e42d9b31f07206788e269",
       "version_major": 2,
       "version_minor": 0
      },
      "text/plain": [
       "Computing transition probabilities:   0%|          | 0/1000 [00:00<?, ?it/s]"
      ]
     },
     "metadata": {},
     "output_type": "display_data"
    },
    {
     "name": "stderr",
     "output_type": "stream",
     "text": [
      "Generating walks (CPU: 1): 100%|██████████| 3/3 [00:00<00:00,  5.40it/s]\n",
      "Generating walks (CPU: 2): 100%|██████████| 3/3 [00:00<00:00,  5.33it/s]\n",
      "Generating walks (CPU: 3): 100%|██████████| 2/2 [00:00<00:00,  3.82it/s]\n",
      "Generating walks (CPU: 4): 100%|██████████| 2/2 [00:00<00:00,  4.13it/s]\n"
     ]
    },
    {
     "name": "stdout",
     "output_type": "stream",
     "text": [
      "Validation ROC AUC: 0.5045\n",
      "Testing: dimensions=64, walk_length=30, num_walks=10, p=2, q=2\n"
     ]
    },
    {
     "data": {
      "application/vnd.jupyter.widget-view+json": {
       "model_id": "1af1fc713a374296893aac13be4261b8",
       "version_major": 2,
       "version_minor": 0
      },
      "text/plain": [
       "Computing transition probabilities:   0%|          | 0/1000 [00:00<?, ?it/s]"
      ]
     },
     "metadata": {},
     "output_type": "display_data"
    },
    {
     "name": "stderr",
     "output_type": "stream",
     "text": [
      "Generating walks (CPU: 1): 100%|██████████| 3/3 [00:00<00:00,  5.12it/s]\n",
      "Generating walks (CPU: 2): 100%|██████████| 3/3 [00:00<00:00,  5.20it/s]\n",
      "Generating walks (CPU: 3): 100%|██████████| 2/2 [00:00<00:00,  5.08it/s]\n",
      "Generating walks (CPU: 4): 100%|██████████| 2/2 [00:00<00:00,  5.82it/s]\n"
     ]
    },
    {
     "name": "stdout",
     "output_type": "stream",
     "text": [
      "Validation ROC AUC: 0.5299\n",
      "Testing: dimensions=64, walk_length=30, num_walks=20, p=0.5, q=0.5\n"
     ]
    },
    {
     "data": {
      "application/vnd.jupyter.widget-view+json": {
       "model_id": "069e391521cd4e369879f758f450b5a9",
       "version_major": 2,
       "version_minor": 0
      },
      "text/plain": [
       "Computing transition probabilities:   0%|          | 0/1000 [00:00<?, ?it/s]"
      ]
     },
     "metadata": {},
     "output_type": "display_data"
    },
    {
     "name": "stderr",
     "output_type": "stream",
     "text": [
      "Generating walks (CPU: 1): 100%|██████████| 5/5 [00:00<00:00,  5.11it/s]\n",
      "Generating walks (CPU: 2): 100%|██████████| 5/5 [00:00<00:00,  5.08it/s]\n",
      "Generating walks (CPU: 3): 100%|██████████| 5/5 [00:00<00:00,  5.39it/s]\n",
      "Generating walks (CPU: 4): 100%|██████████| 5/5 [00:00<00:00,  5.81it/s]\n"
     ]
    },
    {
     "name": "stdout",
     "output_type": "stream",
     "text": [
      "Validation ROC AUC: 0.4829\n",
      "Testing: dimensions=64, walk_length=30, num_walks=20, p=0.5, q=1\n"
     ]
    },
    {
     "data": {
      "application/vnd.jupyter.widget-view+json": {
       "model_id": "0127f0e121d94ce6ac622cd5b9b8344a",
       "version_major": 2,
       "version_minor": 0
      },
      "text/plain": [
       "Computing transition probabilities:   0%|          | 0/1000 [00:00<?, ?it/s]"
      ]
     },
     "metadata": {},
     "output_type": "display_data"
    },
    {
     "name": "stderr",
     "output_type": "stream",
     "text": [
      "Generating walks (CPU: 1): 100%|██████████| 5/5 [00:00<00:00,  5.11it/s]\n",
      "Generating walks (CPU: 2): 100%|██████████| 5/5 [00:00<00:00,  5.08it/s]\n",
      "Generating walks (CPU: 3): 100%|██████████| 5/5 [00:00<00:00,  5.43it/s]\n",
      "Generating walks (CPU: 4): 100%|██████████| 5/5 [00:00<00:00,  5.90it/s]\n"
     ]
    },
    {
     "name": "stdout",
     "output_type": "stream",
     "text": [
      "Validation ROC AUC: 0.4865\n",
      "Testing: dimensions=64, walk_length=30, num_walks=20, p=0.5, q=2\n"
     ]
    },
    {
     "data": {
      "application/vnd.jupyter.widget-view+json": {
       "model_id": "4184bae0af7149899d2861342a54cd54",
       "version_major": 2,
       "version_minor": 0
      },
      "text/plain": [
       "Computing transition probabilities:   0%|          | 0/1000 [00:00<?, ?it/s]"
      ]
     },
     "metadata": {},
     "output_type": "display_data"
    },
    {
     "name": "stderr",
     "output_type": "stream",
     "text": [
      "Generating walks (CPU: 1): 100%|██████████| 5/5 [00:00<00:00,  5.02it/s]\n",
      "Generating walks (CPU: 2): 100%|██████████| 5/5 [00:01<00:00,  4.95it/s]\n",
      "Generating walks (CPU: 3): 100%|██████████| 5/5 [00:00<00:00,  5.18it/s]\n",
      "Generating walks (CPU: 4): 100%|██████████| 5/5 [00:00<00:00,  5.36it/s]\n"
     ]
    },
    {
     "name": "stdout",
     "output_type": "stream",
     "text": [
      "Validation ROC AUC: 0.4899\n",
      "Testing: dimensions=64, walk_length=30, num_walks=20, p=1, q=0.5\n"
     ]
    },
    {
     "data": {
      "application/vnd.jupyter.widget-view+json": {
       "model_id": "701e89914382486da379a527c2e1f525",
       "version_major": 2,
       "version_minor": 0
      },
      "text/plain": [
       "Computing transition probabilities:   0%|          | 0/1000 [00:00<?, ?it/s]"
      ]
     },
     "metadata": {},
     "output_type": "display_data"
    },
    {
     "name": "stderr",
     "output_type": "stream",
     "text": [
      "Generating walks (CPU: 1): 100%|██████████| 5/5 [00:00<00:00,  5.37it/s]\n",
      "Generating walks (CPU: 2): 100%|██████████| 5/5 [00:00<00:00,  5.19it/s]\n",
      "Generating walks (CPU: 3): 100%|██████████| 5/5 [00:00<00:00,  5.25it/s]\n",
      "Generating walks (CPU: 4): 100%|██████████| 5/5 [00:00<00:00,  5.58it/s]\n"
     ]
    },
    {
     "name": "stdout",
     "output_type": "stream",
     "text": [
      "Validation ROC AUC: 0.5051\n",
      "Testing: dimensions=64, walk_length=30, num_walks=20, p=1, q=1\n"
     ]
    },
    {
     "data": {
      "application/vnd.jupyter.widget-view+json": {
       "model_id": "6b5d36e0972c430cb018a99ccfc839b3",
       "version_major": 2,
       "version_minor": 0
      },
      "text/plain": [
       "Computing transition probabilities:   0%|          | 0/1000 [00:00<?, ?it/s]"
      ]
     },
     "metadata": {},
     "output_type": "display_data"
    },
    {
     "name": "stderr",
     "output_type": "stream",
     "text": [
      "Generating walks (CPU: 1): 100%|██████████| 5/5 [00:00<00:00,  5.06it/s]\n",
      "Generating walks (CPU: 2): 100%|██████████| 5/5 [00:01<00:00,  4.94it/s]\n",
      "Generating walks (CPU: 3): 100%|██████████| 5/5 [00:00<00:00,  5.10it/s]\n",
      "Generating walks (CPU: 4): 100%|██████████| 5/5 [00:00<00:00,  5.58it/s]\n"
     ]
    },
    {
     "name": "stdout",
     "output_type": "stream",
     "text": [
      "Validation ROC AUC: 0.4911\n",
      "Testing: dimensions=64, walk_length=30, num_walks=20, p=1, q=2\n"
     ]
    },
    {
     "data": {
      "application/vnd.jupyter.widget-view+json": {
       "model_id": "6a5c084db10046428504d874c4c5742b",
       "version_major": 2,
       "version_minor": 0
      },
      "text/plain": [
       "Computing transition probabilities:   0%|          | 0/1000 [00:00<?, ?it/s]"
      ]
     },
     "metadata": {},
     "output_type": "display_data"
    },
    {
     "name": "stderr",
     "output_type": "stream",
     "text": [
      "Generating walks (CPU: 1): 100%|██████████| 5/5 [00:00<00:00,  5.04it/s]\n",
      "Generating walks (CPU: 2): 100%|██████████| 5/5 [00:01<00:00,  4.89it/s]\n",
      "Generating walks (CPU: 3): 100%|██████████| 5/5 [00:00<00:00,  5.11it/s]\n",
      "Generating walks (CPU: 4): 100%|██████████| 5/5 [00:00<00:00,  5.48it/s]\n"
     ]
    },
    {
     "name": "stdout",
     "output_type": "stream",
     "text": [
      "Validation ROC AUC: 0.5096\n",
      "Testing: dimensions=64, walk_length=30, num_walks=20, p=2, q=0.5\n"
     ]
    },
    {
     "data": {
      "application/vnd.jupyter.widget-view+json": {
       "model_id": "fa92ade8f68247c7aa9fd49a5c7aa08d",
       "version_major": 2,
       "version_minor": 0
      },
      "text/plain": [
       "Computing transition probabilities:   0%|          | 0/1000 [00:00<?, ?it/s]"
      ]
     },
     "metadata": {},
     "output_type": "display_data"
    },
    {
     "name": "stderr",
     "output_type": "stream",
     "text": [
      "Generating walks (CPU: 1): 100%|██████████| 5/5 [00:00<00:00,  5.43it/s]\n",
      "Generating walks (CPU: 2): 100%|██████████| 5/5 [00:00<00:00,  5.12it/s]\n",
      "Generating walks (CPU: 3): 100%|██████████| 5/5 [00:00<00:00,  5.36it/s]\n",
      "Generating walks (CPU: 4): 100%|██████████| 5/5 [00:00<00:00,  5.82it/s]\n"
     ]
    },
    {
     "name": "stdout",
     "output_type": "stream",
     "text": [
      "Validation ROC AUC: 0.5105\n",
      "Testing: dimensions=64, walk_length=30, num_walks=20, p=2, q=1\n"
     ]
    },
    {
     "data": {
      "application/vnd.jupyter.widget-view+json": {
       "model_id": "ac4b7ea04ddd444ea19c9dc458355666",
       "version_major": 2,
       "version_minor": 0
      },
      "text/plain": [
       "Computing transition probabilities:   0%|          | 0/1000 [00:00<?, ?it/s]"
      ]
     },
     "metadata": {},
     "output_type": "display_data"
    },
    {
     "name": "stderr",
     "output_type": "stream",
     "text": [
      "Generating walks (CPU: 1): 100%|██████████| 5/5 [00:00<00:00,  5.32it/s]\n",
      "Generating walks (CPU: 2): 100%|██████████| 5/5 [00:01<00:00,  4.96it/s]\n",
      "Generating walks (CPU: 3): 100%|██████████| 5/5 [00:00<00:00,  5.07it/s]\n",
      "Generating walks (CPU: 4): 100%|██████████| 5/5 [00:00<00:00,  5.61it/s]\n"
     ]
    },
    {
     "name": "stdout",
     "output_type": "stream",
     "text": [
      "Validation ROC AUC: 0.4909\n",
      "Testing: dimensions=64, walk_length=30, num_walks=20, p=2, q=2\n"
     ]
    },
    {
     "data": {
      "application/vnd.jupyter.widget-view+json": {
       "model_id": "7d17cee20485421397e1c5ec5e327258",
       "version_major": 2,
       "version_minor": 0
      },
      "text/plain": [
       "Computing transition probabilities:   0%|          | 0/1000 [00:00<?, ?it/s]"
      ]
     },
     "metadata": {},
     "output_type": "display_data"
    },
    {
     "name": "stderr",
     "output_type": "stream",
     "text": [
      "Generating walks (CPU: 1): 100%|██████████| 5/5 [00:00<00:00,  5.06it/s]\n",
      "Generating walks (CPU: 2): 100%|██████████| 5/5 [00:01<00:00,  4.77it/s]\n",
      "Generating walks (CPU: 3): 100%|██████████| 5/5 [00:01<00:00,  4.95it/s]\n",
      "Generating walks (CPU: 4): 100%|██████████| 5/5 [00:00<00:00,  5.41it/s]\n"
     ]
    },
    {
     "name": "stdout",
     "output_type": "stream",
     "text": [
      "Validation ROC AUC: 0.5135\n",
      "Testing: dimensions=64, walk_length=30, num_walks=50, p=0.5, q=0.5\n"
     ]
    },
    {
     "data": {
      "application/vnd.jupyter.widget-view+json": {
       "model_id": "30e8a14e5dad4307be23337be2a20bce",
       "version_major": 2,
       "version_minor": 0
      },
      "text/plain": [
       "Computing transition probabilities:   0%|          | 0/1000 [00:00<?, ?it/s]"
      ]
     },
     "metadata": {},
     "output_type": "display_data"
    },
    {
     "name": "stderr",
     "output_type": "stream",
     "text": [
      "Generating walks (CPU: 1): 100%|██████████| 13/13 [00:02<00:00,  5.10it/s]\n",
      "Generating walks (CPU: 2): 100%|██████████| 13/13 [00:02<00:00,  4.96it/s]\n",
      "Generating walks (CPU: 3): 100%|██████████| 12/12 [00:02<00:00,  4.94it/s]\n",
      "Generating walks (CPU: 4): 100%|██████████| 12/12 [00:02<00:00,  5.14it/s]\n"
     ]
    },
    {
     "name": "stdout",
     "output_type": "stream",
     "text": [
      "Validation ROC AUC: 0.4932\n",
      "Testing: dimensions=64, walk_length=30, num_walks=50, p=0.5, q=1\n"
     ]
    },
    {
     "data": {
      "application/vnd.jupyter.widget-view+json": {
       "model_id": "5a324918b3d04513935865a0eae60927",
       "version_major": 2,
       "version_minor": 0
      },
      "text/plain": [
       "Computing transition probabilities:   0%|          | 0/1000 [00:00<?, ?it/s]"
      ]
     },
     "metadata": {},
     "output_type": "display_data"
    },
    {
     "name": "stderr",
     "output_type": "stream",
     "text": [
      "Generating walks (CPU: 1): 100%|██████████| 13/13 [00:02<00:00,  4.62it/s]\n",
      "Generating walks (CPU: 2): 100%|██████████| 13/13 [00:02<00:00,  4.54it/s]\n",
      "Generating walks (CPU: 3): 100%|██████████| 12/12 [00:02<00:00,  4.63it/s]\n",
      "Generating walks (CPU: 4): 100%|██████████| 12/12 [00:02<00:00,  4.76it/s]\n"
     ]
    },
    {
     "name": "stdout",
     "output_type": "stream",
     "text": [
      "Validation ROC AUC: 0.4863\n",
      "Testing: dimensions=64, walk_length=30, num_walks=50, p=0.5, q=2\n"
     ]
    },
    {
     "data": {
      "application/vnd.jupyter.widget-view+json": {
       "model_id": "87955e5272ee4bcfacaff552c1a0c43c",
       "version_major": 2,
       "version_minor": 0
      },
      "text/plain": [
       "Computing transition probabilities:   0%|          | 0/1000 [00:00<?, ?it/s]"
      ]
     },
     "metadata": {},
     "output_type": "display_data"
    },
    {
     "name": "stderr",
     "output_type": "stream",
     "text": [
      "Generating walks (CPU: 1): 100%|██████████| 13/13 [00:03<00:00,  4.28it/s]\n",
      "Generating walks (CPU: 2): 100%|██████████| 13/13 [00:03<00:00,  4.24it/s]\n",
      "Generating walks (CPU: 3): 100%|██████████| 12/12 [00:02<00:00,  4.19it/s]\n",
      "Generating walks (CPU: 4): 100%|██████████| 12/12 [00:02<00:00,  4.32it/s]\n"
     ]
    },
    {
     "name": "stdout",
     "output_type": "stream",
     "text": [
      "Validation ROC AUC: 0.4883\n",
      "Testing: dimensions=64, walk_length=30, num_walks=50, p=1, q=0.5\n"
     ]
    },
    {
     "data": {
      "application/vnd.jupyter.widget-view+json": {
       "model_id": "e707445f124b44e594396e7f13cefc01",
       "version_major": 2,
       "version_minor": 0
      },
      "text/plain": [
       "Computing transition probabilities:   0%|          | 0/1000 [00:00<?, ?it/s]"
      ]
     },
     "metadata": {},
     "output_type": "display_data"
    },
    {
     "name": "stderr",
     "output_type": "stream",
     "text": [
      "Generating walks (CPU: 1): 100%|██████████| 13/13 [00:02<00:00,  4.55it/s]\n",
      "Generating walks (CPU: 2): 100%|██████████| 13/13 [00:02<00:00,  4.46it/s]\n",
      "Generating walks (CPU: 3): 100%|██████████| 12/12 [00:02<00:00,  4.41it/s]\n",
      "Generating walks (CPU: 4): 100%|██████████| 12/12 [00:02<00:00,  4.56it/s]\n"
     ]
    },
    {
     "name": "stdout",
     "output_type": "stream",
     "text": [
      "Validation ROC AUC: 0.4912\n",
      "Testing: dimensions=64, walk_length=30, num_walks=50, p=1, q=1\n"
     ]
    },
    {
     "data": {
      "application/vnd.jupyter.widget-view+json": {
       "model_id": "13fe56518443417fb2a39bc7a40a119b",
       "version_major": 2,
       "version_minor": 0
      },
      "text/plain": [
       "Computing transition probabilities:   0%|          | 0/1000 [00:00<?, ?it/s]"
      ]
     },
     "metadata": {},
     "output_type": "display_data"
    },
    {
     "name": "stderr",
     "output_type": "stream",
     "text": [
      "Generating walks (CPU: 1): 100%|██████████| 13/13 [00:02<00:00,  4.80it/s]\n",
      "Generating walks (CPU: 2): 100%|██████████| 13/13 [00:02<00:00,  4.74it/s]\n",
      "Generating walks (CPU: 3): 100%|██████████| 12/12 [00:02<00:00,  4.73it/s]\n",
      "Generating walks (CPU: 4): 100%|██████████| 12/12 [00:02<00:00,  4.88it/s]\n"
     ]
    },
    {
     "name": "stdout",
     "output_type": "stream",
     "text": [
      "Validation ROC AUC: 0.4852\n",
      "Testing: dimensions=64, walk_length=30, num_walks=50, p=1, q=2\n"
     ]
    },
    {
     "data": {
      "application/vnd.jupyter.widget-view+json": {
       "model_id": "03bf0db9b67946e58a420e9d1ec712ad",
       "version_major": 2,
       "version_minor": 0
      },
      "text/plain": [
       "Computing transition probabilities:   0%|          | 0/1000 [00:00<?, ?it/s]"
      ]
     },
     "metadata": {},
     "output_type": "display_data"
    },
    {
     "name": "stderr",
     "output_type": "stream",
     "text": [
      "Generating walks (CPU: 1): 100%|██████████| 13/13 [00:02<00:00,  4.37it/s]\n",
      "Generating walks (CPU: 2): 100%|██████████| 13/13 [00:02<00:00,  4.39it/s]\n",
      "Generating walks (CPU: 3): 100%|██████████| 12/12 [00:02<00:00,  4.32it/s]\n",
      "Generating walks (CPU: 4): 100%|██████████| 12/12 [00:02<00:00,  4.52it/s]\n"
     ]
    },
    {
     "name": "stdout",
     "output_type": "stream",
     "text": [
      "Validation ROC AUC: 0.4924\n",
      "Testing: dimensions=64, walk_length=30, num_walks=50, p=2, q=0.5\n"
     ]
    },
    {
     "data": {
      "application/vnd.jupyter.widget-view+json": {
       "model_id": "a526c219558e496ab349649db133df71",
       "version_major": 2,
       "version_minor": 0
      },
      "text/plain": [
       "Computing transition probabilities:   0%|          | 0/1000 [00:00<?, ?it/s]"
      ]
     },
     "metadata": {},
     "output_type": "display_data"
    },
    {
     "name": "stderr",
     "output_type": "stream",
     "text": [
      "Generating walks (CPU: 1): 100%|██████████| 13/13 [00:02<00:00,  4.92it/s]\n",
      "Generating walks (CPU: 2): 100%|██████████| 13/13 [00:02<00:00,  4.83it/s]\n",
      "Generating walks (CPU: 3): 100%|██████████| 12/12 [00:02<00:00,  4.79it/s]\n",
      "Generating walks (CPU: 4): 100%|██████████| 12/12 [00:02<00:00,  4.93it/s]\n"
     ]
    },
    {
     "name": "stdout",
     "output_type": "stream",
     "text": [
      "Validation ROC AUC: 0.4901\n",
      "Testing: dimensions=64, walk_length=30, num_walks=50, p=2, q=1\n"
     ]
    },
    {
     "data": {
      "application/vnd.jupyter.widget-view+json": {
       "model_id": "219f15c45b43467399539ec7eff2efd8",
       "version_major": 2,
       "version_minor": 0
      },
      "text/plain": [
       "Computing transition probabilities:   0%|          | 0/1000 [00:00<?, ?it/s]"
      ]
     },
     "metadata": {},
     "output_type": "display_data"
    },
    {
     "name": "stderr",
     "output_type": "stream",
     "text": [
      "Generating walks (CPU: 1): 100%|██████████| 13/13 [00:02<00:00,  4.90it/s]\n",
      "Generating walks (CPU: 2): 100%|██████████| 13/13 [00:02<00:00,  4.75it/s]\n",
      "Generating walks (CPU: 3): 100%|██████████| 12/12 [00:02<00:00,  4.74it/s]\n",
      "Generating walks (CPU: 4): 100%|██████████| 12/12 [00:02<00:00,  4.90it/s]\n"
     ]
    },
    {
     "name": "stdout",
     "output_type": "stream",
     "text": [
      "Validation ROC AUC: 0.4798\n",
      "Testing: dimensions=64, walk_length=30, num_walks=50, p=2, q=2\n"
     ]
    },
    {
     "data": {
      "application/vnd.jupyter.widget-view+json": {
       "model_id": "0d6e5ffd902747d2bd225233c34f7c66",
       "version_major": 2,
       "version_minor": 0
      },
      "text/plain": [
       "Computing transition probabilities:   0%|          | 0/1000 [00:00<?, ?it/s]"
      ]
     },
     "metadata": {},
     "output_type": "display_data"
    },
    {
     "name": "stderr",
     "output_type": "stream",
     "text": [
      "Generating walks (CPU: 1): 100%|██████████| 13/13 [00:03<00:00,  4.27it/s]\n",
      "Generating walks (CPU: 2): 100%|██████████| 13/13 [00:03<00:00,  4.32it/s]\n",
      "Generating walks (CPU: 3): 100%|██████████| 12/12 [00:02<00:00,  4.42it/s]\n",
      "Generating walks (CPU: 4): 100%|██████████| 12/12 [00:02<00:00,  4.72it/s]\n"
     ]
    },
    {
     "name": "stdout",
     "output_type": "stream",
     "text": [
      "Validation ROC AUC: 0.4843\n",
      "\n",
      "Best Parameters: walk_length=10, num_walks=10, p=1, q=2\n",
      "Best Validation ROC AUC: 0.5894\n"
     ]
    }
   ],
   "source": [
    "# Run parameter tuning\n",
    "best_params, best_auc = tune_parameters(graph_train, X_train, y_train, val_edges, val_neg_edges)\n"
   ]
  },
  {
   "cell_type": "markdown",
   "metadata": {},
   "source": [
    "### Train with Best Parameters"
   ]
  },
  {
   "cell_type": "code",
   "execution_count": 77,
   "metadata": {},
   "outputs": [
    {
     "data": {
      "application/vnd.jupyter.widget-view+json": {
       "model_id": "473746fe4e034b4981a0287972175ebb",
       "version_major": 2,
       "version_minor": 0
      },
      "text/plain": [
       "Computing transition probabilities:   0%|          | 0/1000 [00:00<?, ?it/s]"
      ]
     },
     "metadata": {},
     "output_type": "display_data"
    },
    {
     "name": "stderr",
     "output_type": "stream",
     "text": [
      "python(68343) MallocStackLogging: can't turn off malloc stack logging because it was not enabled.\n",
      "python(68344) MallocStackLogging: can't turn off malloc stack logging because it was not enabled.\n",
      "python(68345) MallocStackLogging: can't turn off malloc stack logging because it was not enabled.\n",
      "python(68346) MallocStackLogging: can't turn off malloc stack logging because it was not enabled.\n",
      "Generating walks (CPU: 1): 100%|██████████| 3/3 [00:00<00:00, 13.44it/s]\n",
      "Generating walks (CPU: 2): 100%|██████████| 3/3 [00:00<00:00, 13.57it/s]\n",
      "Generating walks (CPU: 3): 100%|██████████| 2/2 [00:00<00:00, 14.72it/s]\n",
      "Generating walks (CPU: 4): 100%|██████████| 2/2 [00:00<00:00, 16.74it/s]\n"
     ]
    }
   ],
   "source": [
    "# Unpack the best parameters\n",
    "best_walk_length, best_num_walks, best_p, best_q = best_params\n",
    "\n",
    "# Train Node2Vec using the best parameters\n",
    "node2vec_final = Node2Vec(\n",
    "    graph=graph_train,\n",
    "    dimensions=64,  # Same dimensions as during tuning\n",
    "    walk_length=best_walk_length,\n",
    "    num_walks=best_num_walks,\n",
    "    workers=4,\n",
    "    p=best_p,\n",
    "    q=best_q\n",
    ")\n",
    "model_final = node2vec_final.fit()\n",
    "embeddings_final = {node: model_final.wv[str(node)] for node in graph_train.nodes()}\n"
   ]
  },
  {
   "cell_type": "code",
   "execution_count": null,
   "metadata": {},
   "outputs": [],
   "source": [
    "# Generate features for test set\n",
    "X_test_pos = [\n",
    "    operator_hadamard(embeddings_final[u], embeddings_final[v])\n",
    "    for u, v in test_edges if str(u) in model_final.wv and str(v) in model_final.wv\n",
    "]\n",
    "X_test_neg = [\n",
    "    operator_hadamard(embeddings_final[u], embeddings_final[v])\n",
    "    for u, v in test_neg_edges if str(u) in model_final.wv and str(v) in model_final.wv\n",
    "]\n",
    "X_test = np.vstack([X_test_pos, X_test_neg])\n",
    "y_test = [1] * len(X_test_pos) + [0] * len(X_test_neg)\n"
   ]
  }
 ],
 "metadata": {
  "kernelspec": {
   "display_name": "3.10.14",
   "language": "python",
   "name": "python3"
  },
  "language_info": {
   "codemirror_mode": {
    "name": "ipython",
    "version": 3
   },
   "file_extension": ".py",
   "mimetype": "text/x-python",
   "name": "python",
   "nbconvert_exporter": "python",
   "pygments_lexer": "ipython3",
   "version": "3.11.5"
  }
 },
 "nbformat": 4,
 "nbformat_minor": 2
}
