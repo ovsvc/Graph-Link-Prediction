{
 "cells": [
  {
   "cell_type": "code",
   "id": "54431cc9",
   "metadata": {
    "ExecuteTime": {
     "end_time": "2024-12-10T17:48:08.096460Z",
     "start_time": "2024-12-10T17:48:08.081035Z"
    }
   },
   "source": [
    "import os\n",
    "os.getcwd()"
   ],
   "outputs": [
    {
     "data": {
      "text/plain": [
       "'C:\\\\Users\\\\z004t84m\\\\PycharmProjects\\\\SNA\\\\exploratory'"
      ]
     },
     "execution_count": 45,
     "metadata": {},
     "output_type": "execute_result"
    }
   ],
   "execution_count": 45
  },
  {
   "cell_type": "code",
   "id": "494c7f97-6a0f-4a22-a2ef-627c06fb52c6",
   "metadata": {
    "ExecuteTime": {
     "end_time": "2024-12-09T11:01:57.268764Z",
     "start_time": "2024-12-09T11:01:51.835128Z"
    }
   },
   "source": [
    "import pandas as pd\n",
    "import pyarrow\n",
    "from pathlib import Path\n",
    "\n",
    "# Directory containing your Parquet files\n",
    "relative_path_to_data = \"../data\"  # Relative to the current working directory\n",
    "data_directory = os.path.abspath(relative_path_to_data)\n",
    "\n",
    "# Path to the file to exclude\n",
    "#exclude_file_path = '/home/e12217985/shared/194.050-2024W/Data/Group_Project/df_edge_list_undirected_users_click_similarity.parquet'\n",
    "\n",
    "# Dictionary to store DataFrames with stem names as keys\n",
    "dataframes = {}\n",
    "\n",
    "# Iterate over all Parquet files in the directory\n",
    "for file_path in Path(data_directory).glob(\"*.parquet\"):\n",
    "\n",
    "    # Extract the file stem (name without extension)\n",
    "    file_stem = file_path.stem\n",
    "    print(f\"Reading file: {file_stem}\")\n",
    "    \n",
    "    # Read the Parquet file into a DataFrame\n",
    "    df = pd.read_parquet(file_path, engine=\"pyarrow\")\n",
    "    \n",
    "    # Optionally limit the size of the DataFrame\n",
    "    #df = df[:20001]\n",
    "    \n",
    "    # Store the DataFrame in the dictionary with the stem as the key\n",
    "    dataframes[file_stem] = df\n",
    "\n",
    "# Access DataFrames by their file stem\n",
    "print(dataframes.keys())  # Prints the stems of all loaded files\n"
   ],
   "outputs": [
    {
     "name": "stdout",
     "output_type": "stream",
     "text": [
      "Reading file: df_edge_list_directed_users_combined_postings_replies_and_votes_to_postings_net\n",
      "Reading file: df_edge_list_directed_users_combined_postings_replies_and_votes_to_postings_net_and_follow_connections\n",
      "Reading file: df_edge_list_directed_users_postings_replies\n",
      "Reading file: df_edge_list_directed_users_votes_to_postings_net\n",
      "Reading file: df_edge_list_undirected_users_click_similarity\n",
      "Reading file: df_edge_list_undirected_users_combined_postings_replies_and_votes_to_postings_net\n",
      "Reading file: df_edge_list_undirected_users_postings_replies\n",
      "Reading file: df_edge_list_undirected_users_postings_to_same_articles\n",
      "Reading file: df_edge_list_undirected_users_votes_to_postings_net\n",
      "Reading file: df_edge_list_undirected_users_votes_to_same_postings_net\n",
      "dict_keys(['df_edge_list_directed_users_combined_postings_replies_and_votes_to_postings_net', 'df_edge_list_directed_users_combined_postings_replies_and_votes_to_postings_net_and_follow_connections', 'df_edge_list_directed_users_postings_replies', 'df_edge_list_directed_users_votes_to_postings_net', 'df_edge_list_undirected_users_click_similarity', 'df_edge_list_undirected_users_combined_postings_replies_and_votes_to_postings_net', 'df_edge_list_undirected_users_postings_replies', 'df_edge_list_undirected_users_postings_to_same_articles', 'df_edge_list_undirected_users_votes_to_postings_net', 'df_edge_list_undirected_users_votes_to_same_postings_net'])\n"
     ]
    }
   ],
   "execution_count": 10
  },
  {
   "cell_type": "code",
   "id": "92d1ee80",
   "metadata": {
    "ExecuteTime": {
     "end_time": "2024-12-09T11:02:05.676104Z",
     "start_time": "2024-12-09T11:02:05.627269Z"
    }
   },
   "source": [
    "for stem, df in dataframes.items():\n",
    "    print(f\"Structure of DataFrame: {stem}\")\n",
    "    print(df.info())  # Print the structure of the DataFrame\n",
    "    print(\"-\" * 50)  # Separator for better readability"
   ],
   "outputs": [
    {
     "name": "stdout",
     "output_type": "stream",
     "text": [
      "Structure of DataFrame: df_edge_list_directed_users_combined_postings_replies_and_votes_to_postings_net\n",
      "<class 'pandas.core.frame.DataFrame'>\n",
      "RangeIndex: 6961250 entries, 0 to 6961249\n",
      "Data columns (total 5 columns):\n",
      " #   Column                       Dtype  \n",
      "---  ------                       -----  \n",
      " 0   ID_CommunityIdentity_Source  int64  \n",
      " 1   ID_CommunityIdentity_Target  int64  \n",
      " 2   count_posting_replies        int64  \n",
      " 3   count_votes_to_postings_net  int64  \n",
      " 4   weight_total                 float64\n",
      "dtypes: float64(1), int64(4)\n",
      "memory usage: 265.6 MB\n",
      "None\n",
      "--------------------------------------------------\n",
      "Structure of DataFrame: df_edge_list_directed_users_combined_postings_replies_and_votes_to_postings_net_and_follow_connections\n",
      "<class 'pandas.core.frame.DataFrame'>\n",
      "RangeIndex: 6967492 entries, 0 to 6967491\n",
      "Data columns (total 6 columns):\n",
      " #   Column                       Dtype  \n",
      "---  ------                       -----  \n",
      " 0   ID_CommunityIdentity_Source  int64  \n",
      " 1   ID_CommunityIdentity_Target  int64  \n",
      " 2   count_posting_replies        int64  \n",
      " 3   count_votes_to_postings_net  int64  \n",
      " 4   count_follow_connection      int64  \n",
      " 5   weight_total                 float64\n",
      "dtypes: float64(1), int64(5)\n",
      "memory usage: 318.9 MB\n",
      "None\n",
      "--------------------------------------------------\n",
      "Structure of DataFrame: df_edge_list_directed_users_postings_replies\n",
      "<class 'pandas.core.frame.DataFrame'>\n",
      "RangeIndex: 1247835 entries, 0 to 1247834\n",
      "Data columns (total 3 columns):\n",
      " #   Column                       Non-Null Count    Dtype\n",
      "---  ------                       --------------    -----\n",
      " 0   ID_CommunityIdentity_Source  1247835 non-null  int64\n",
      " 1   ID_CommunityIdentity_Target  1247835 non-null  int64\n",
      " 2   count_posting_replies        1247835 non-null  int64\n",
      "dtypes: int64(3)\n",
      "memory usage: 28.6 MB\n",
      "None\n",
      "--------------------------------------------------\n",
      "Structure of DataFrame: df_edge_list_directed_users_votes_to_postings_net\n",
      "<class 'pandas.core.frame.DataFrame'>\n",
      "RangeIndex: 6105250 entries, 0 to 6105249\n",
      "Data columns (total 3 columns):\n",
      " #   Column                       Dtype\n",
      "---  ------                       -----\n",
      " 0   ID_CommunityIdentity_Source  int64\n",
      " 1   ID_CommunityIdentity_Target  int64\n",
      " 2   count_votes_to_postings_net  int64\n",
      "dtypes: int64(3)\n",
      "memory usage: 139.7 MB\n",
      "None\n",
      "--------------------------------------------------\n",
      "Structure of DataFrame: df_edge_list_undirected_users_click_similarity\n",
      "<class 'pandas.core.frame.DataFrame'>\n",
      "RangeIndex: 80868066 entries, 0 to 80868065\n",
      "Data columns (total 9 columns):\n",
      " #   Column                                      Dtype  \n",
      "---  ------                                      -----  \n",
      " 0   ID_CommunityIdentity_min                    int64  \n",
      " 1   ID_CommunityIdentity_max                    int64  \n",
      " 2   Similarity_Jaccard                          float64\n",
      " 3   Similarity_Salton                           float64\n",
      " 4   Similarity_Overlap                          float64\n",
      " 5   Count_Item_Clicks_ID_CommunityIdentity_min  int64  \n",
      " 6   Count_Item_Clicks_ID_CommunityIdentity_max  int64  \n",
      " 7   Count_Item_Clicks_Intersection              int64  \n",
      " 8   Count_Item_Clicks_Union                     int64  \n",
      "dtypes: float64(3), int64(6)\n",
      "memory usage: 5.4 GB\n",
      "None\n",
      "--------------------------------------------------\n",
      "Structure of DataFrame: df_edge_list_undirected_users_combined_postings_replies_and_votes_to_postings_net\n",
      "<class 'pandas.core.frame.DataFrame'>\n",
      "RangeIndex: 6104458 entries, 0 to 6104457\n",
      "Data columns (total 5 columns):\n",
      " #   Column                       Dtype  \n",
      "---  ------                       -----  \n",
      " 0   ID_CommunityIdentity_min     int64  \n",
      " 1   ID_CommunityIdentity_max     int64  \n",
      " 2   count_posting_replies        int64  \n",
      " 3   count_votes_to_postings_net  int64  \n",
      " 4   weight_total                 float64\n",
      "dtypes: float64(1), int64(4)\n",
      "memory usage: 232.9 MB\n",
      "None\n",
      "--------------------------------------------------\n",
      "Structure of DataFrame: df_edge_list_undirected_users_postings_replies\n",
      "<class 'pandas.core.frame.DataFrame'>\n",
      "RangeIndex: 996951 entries, 0 to 996950\n",
      "Data columns (total 3 columns):\n",
      " #   Column                    Non-Null Count   Dtype\n",
      "---  ------                    --------------   -----\n",
      " 0   ID_CommunityIdentity_min  996951 non-null  int64\n",
      " 1   ID_CommunityIdentity_max  996951 non-null  int64\n",
      " 2   count_posting_replies     996951 non-null  int64\n",
      "dtypes: int64(3)\n",
      "memory usage: 22.8 MB\n",
      "None\n",
      "--------------------------------------------------\n",
      "Structure of DataFrame: df_edge_list_undirected_users_postings_to_same_articles\n",
      "<class 'pandas.core.frame.DataFrame'>\n",
      "RangeIndex: 25347901 entries, 0 to 25347900\n",
      "Data columns (total 3 columns):\n",
      " #   Column                        Dtype\n",
      "---  ------                        -----\n",
      " 0   ID_CommunityIdentity_min      int64\n",
      " 1   ID_CommunityIdentity_max      int64\n",
      " 2   count_postings_same_articles  int64\n",
      "dtypes: int64(3)\n",
      "memory usage: 580.2 MB\n",
      "None\n",
      "--------------------------------------------------\n",
      "Structure of DataFrame: df_edge_list_undirected_users_votes_to_postings_net\n",
      "<class 'pandas.core.frame.DataFrame'>\n",
      "RangeIndex: 5535637 entries, 0 to 5535636\n",
      "Data columns (total 3 columns):\n",
      " #   Column                       Dtype\n",
      "---  ------                       -----\n",
      " 0   ID_CommunityIdentity_min     int64\n",
      " 1   ID_CommunityIdentity_max     int64\n",
      " 2   count_votes_to_postings_net  int64\n",
      "dtypes: int64(3)\n",
      "memory usage: 126.7 MB\n",
      "None\n",
      "--------------------------------------------------\n",
      "Structure of DataFrame: df_edge_list_undirected_users_votes_to_same_postings_net\n",
      "<class 'pandas.core.frame.DataFrame'>\n",
      "RangeIndex: 14177590 entries, 0 to 14177589\n",
      "Data columns (total 3 columns):\n",
      " #   Column                           Dtype\n",
      "---  ------                           -----\n",
      " 0   ID_CommunityIdentity_min         int64\n",
      " 1   ID_CommunityIdentity_max         int64\n",
      " 2   count_votes_to_same_posting_net  int64\n",
      "dtypes: int64(3)\n",
      "memory usage: 324.5 MB\n",
      "None\n",
      "--------------------------------------------------\n"
     ]
    }
   ],
   "execution_count": 11
  },
  {
   "cell_type": "code",
   "id": "57709eb5-6100-4720-a873-028aae30af4b",
   "metadata": {
    "ExecuteTime": {
     "end_time": "2024-12-10T17:02:37.816346Z",
     "start_time": "2024-12-10T17:02:37.731477Z"
    }
   },
   "source": [
    "stem_name = \"df_edge_list_undirected_users_postings_replies\"\n",
    "if stem_name in dataframes:\n",
    "    df = dataframes[stem_name]\n",
    "    # filtered_df = df[df['column_name'] > 10]  # Replace 'column_name' with a valid column\n",
    "    print(df.info())\n",
    "    print(df['count_posting_replies'].unique())\n",
    "    print(df[df['count_posting_replies'] != 1].info())\n"
   ],
   "outputs": [
    {
     "name": "stdout",
     "output_type": "stream",
     "text": [
      "<class 'pandas.core.frame.DataFrame'>\n",
      "RangeIndex: 996951 entries, 0 to 996950\n",
      "Data columns (total 3 columns):\n",
      " #   Column                    Non-Null Count   Dtype\n",
      "---  ------                    --------------   -----\n",
      " 0   ID_CommunityIdentity_min  996951 non-null  int64\n",
      " 1   ID_CommunityIdentity_max  996951 non-null  int64\n",
      " 2   count_posting_replies     996951 non-null  int64\n",
      "dtypes: int64(3)\n",
      "memory usage: 22.8 MB\n",
      "None\n",
      "[  1   2   3   4   5   7   8   6   9  15  14  13  23  28  10  11  17  12\n",
      "  18  20  16  26  24  31  21  19  86  37  46  25  54  29  22  32  36  82\n",
      " 216  51 113  39  63  67  64  38  34  45  41  40  42  57  72  35  27  53\n",
      " 122  50  83  59  47 132  65  97  69  44  62 214  56 213  87  30  33  78\n",
      "  85  58 309 401 225 550 159  74 100  60  90 350  49 121  77 175  80 149\n",
      " 185 115 127 244  52  66  61  73  43  95 150 109  98  89  71  55  93  96\n",
      "  94 172  68 128  48 136 190  92  88 160 143 106  79 116  76  70 102  84\n",
      " 176 123 140 186  99 139 131 107  75 110 178 141 255 111 182 163 215 153\n",
      " 101 148 112 174]\n",
      "<class 'pandas.core.frame.DataFrame'>\n",
      "Index: 313706 entries, 28 to 996942\n",
      "Data columns (total 3 columns):\n",
      " #   Column                    Non-Null Count   Dtype\n",
      "---  ------                    --------------   -----\n",
      " 0   ID_CommunityIdentity_min  313706 non-null  int64\n",
      " 1   ID_CommunityIdentity_max  313706 non-null  int64\n",
      " 2   count_posting_replies     313706 non-null  int64\n",
      "dtypes: int64(3)\n",
      "memory usage: 9.6 MB\n",
      "None\n"
     ]
    }
   ],
   "execution_count": 44
  },
  {
   "metadata": {
    "ExecuteTime": {
     "end_time": "2024-12-09T12:38:04.866920Z",
     "start_time": "2024-12-09T12:38:04.557130Z"
    }
   },
   "cell_type": "code",
   "source": [
    "stem_name = \"df_edge_list_undirected_users_postings_replies\"\n",
    "if stem_name in dataframes:\n",
    "    df = dataframes[stem_name]\n",
    "    # filtered_df = df[df['column_name'] > 10]  # Replace 'column_name' with a valid column\n",
    "    common_values = set(df['ID_CommunityIdentity_max']).intersection(df['ID_CommunityIdentity_min'])\n",
    "    values_in_commidentmax_not_in_commidentmin = set(df['ID_CommunityIdentity_max']).difference(df['ID_CommunityIdentity_min'])\n",
    "    values_in_commidentmin_not_in_commidentmax = set(df['ID_CommunityIdentity_min']).difference(df['ID_CommunityIdentity_max'])\n",
    "\n",
    "    print(df['ID_CommunityIdentity_max'].nunique())\n",
    "    print(f\"Common values: {len(common_values)}, \\nDifference between ID_CommunityIdentity_max and ID_CommunityIdentity_min: {len(values_in_commidentmax_not_in_commidentmin)}, \\nDifference between ID_CommunityIdentity_max and ID_CommunityIdentity_min: {len(values_in_commidentmin_not_in_commidentmax)} \")\n"
   ],
   "id": "61c4380b90161cb1",
   "outputs": [
    {
     "name": "stdout",
     "output_type": "stream",
     "text": [
      "Common values: 10203, \n",
      "Difference between ID_CommunityIdentity_max and ID_CommunityIdentity_min: 704, \n",
      "Difference between ID_CommunityIdentity_max and ID_CommunityIdentity_min: 736 \n"
     ]
    }
   ],
   "execution_count": 37
  },
  {
   "metadata": {
    "ExecuteTime": {
     "end_time": "2024-12-09T13:19:18.369810Z",
     "start_time": "2024-12-09T13:19:18.356465Z"
    }
   },
   "cell_type": "code",
   "source": [
    "stem_name = \"df_edge_list_undirected_users_click_similarity\"\n",
    "if stem_name in dataframes:\n",
    "    df = dataframes[stem_name]\n",
    "    # filtered_df = df[df['column_name'] > 10]  # Replace 'column_name' with a valid column\n",
    "    print(df)"
   ],
   "id": "5dc2b5c64aafee03",
   "outputs": [
    {
     "name": "stdout",
     "output_type": "stream",
     "text": [
      "          ID_CommunityIdentity_min  ID_CommunityIdentity_max  \\\n",
      "0                                4                        30   \n",
      "1                                4                        38   \n",
      "2                                4                        77   \n",
      "3                                4                       106   \n",
      "4                                4                       148   \n",
      "...                            ...                       ...   \n",
      "80868061                    753310                    761394   \n",
      "80868062                    753310                    770190   \n",
      "80868063                    755167                    761394   \n",
      "80868064                    755167                    770190   \n",
      "80868065                    761394                    770190   \n",
      "\n",
      "          Similarity_Jaccard  Similarity_Salton  Similarity_Overlap  \\\n",
      "0                   0.026244           0.052681            0.067269   \n",
      "1                   0.007728           0.018055            0.032468   \n",
      "2                   0.008821           0.021533            0.041985   \n",
      "3                   0.036437           0.076770            0.117470   \n",
      "4                   0.018207           0.035979            0.040161   \n",
      "...                      ...                ...                 ...   \n",
      "80868061            0.014215           0.034324            0.066282   \n",
      "80868062            0.008152           0.019105            0.034582   \n",
      "80868063            0.029073           0.057628            0.070325   \n",
      "80868064            0.026810           0.054047            0.070361   \n",
      "80868065            0.012495           0.024733            0.026385   \n",
      "\n",
      "          Count_Item_Clicks_ID_CommunityIdentity_min  \\\n",
      "0                                                996   \n",
      "1                                                996   \n",
      "2                                                996   \n",
      "3                                                996   \n",
      "4                                                996   \n",
      "...                                              ...   \n",
      "80868061                                         347   \n",
      "80868062                                         347   \n",
      "80868063                                        1927   \n",
      "80868064                                        1927   \n",
      "80868065                                        1294   \n",
      "\n",
      "          Count_Item_Clicks_ID_CommunityIdentity_max  \\\n",
      "0                                               1624   \n",
      "1                                                308   \n",
      "2                                                262   \n",
      "3                                               2332   \n",
      "4                                               1241   \n",
      "...                                              ...   \n",
      "80868061                                        1294   \n",
      "80868062                                        1137   \n",
      "80868063                                        1294   \n",
      "80868064                                        1137   \n",
      "80868065                                        1137   \n",
      "\n",
      "          Count_Item_Clicks_Intersection  Count_Item_Clicks_Union  \n",
      "0                                     67                     2553  \n",
      "1                                     10                     1294  \n",
      "2                                     11                     1247  \n",
      "3                                    117                     3211  \n",
      "4                                     40                     2197  \n",
      "...                                  ...                      ...  \n",
      "80868061                              23                     1618  \n",
      "80868062                              12                     1472  \n",
      "80868063                              91                     3130  \n",
      "80868064                              80                     2984  \n",
      "80868065                              30                     2401  \n",
      "\n",
      "[80868066 rows x 9 columns]\n"
     ]
    }
   ],
   "execution_count": 38
  },
  {
   "metadata": {
    "ExecuteTime": {
     "end_time": "2024-12-10T18:00:09.192719Z",
     "start_time": "2024-12-10T18:00:09.052319Z"
    }
   },
   "cell_type": "code",
   "source": [
    "stem_name = \"df_edge_list_undirected_users_combined_postings_replies_and_votes_to_postings_net\"\n",
    "if stem_name in dataframes:\n",
    "    df = dataframes[stem_name]\n",
    "    # filtered_df = df[df['column_name'] > 10]  # Replace 'column_name' with a valid column\n",
    "    print(df[(df['count_posting_replies'] != 0) & (df['count_votes_to_postings_net'] != 0)])"
   ],
   "id": "4e888f1a082828a4",
   "outputs": [
    {
     "name": "stdout",
     "output_type": "stream",
     "text": [
      "         ID_CommunityIdentity_min  ID_CommunityIdentity_max  \\\n",
      "109                            30                     53168   \n",
      "112                            30                     55887   \n",
      "135                            30                     75189   \n",
      "140                            30                     79653   \n",
      "148                            30                     87685   \n",
      "...                           ...                       ...   \n",
      "6104377                    607600                    608173   \n",
      "6104379                    607600                    608767   \n",
      "6104382                    607600                    629831   \n",
      "6104412                    608173                    630355   \n",
      "6104446                    630355                    630915   \n",
      "\n",
      "         count_posting_replies  count_votes_to_postings_net  weight_total  \n",
      "109                          1                            1      8.907802  \n",
      "112                          1                            2     10.055734  \n",
      "135                          1                            1      8.907802  \n",
      "140                          1                            1      8.907802  \n",
      "148                          1                            1      8.907802  \n",
      "...                        ...                          ...           ...  \n",
      "6104377                      1                            4     12.351598  \n",
      "6104379                      1                            1      8.907802  \n",
      "6104382                      2                            3     18.963536  \n",
      "6104412                      1                            1      8.907802  \n",
      "6104446                      1                            2     10.055734  \n",
      "\n",
      "[428130 rows x 5 columns]\n"
     ]
    }
   ],
   "execution_count": 54
  },
  {
   "metadata": {},
   "cell_type": "code",
   "outputs": [],
   "execution_count": null,
   "source": "",
   "id": "46f8749767727aa6"
  }
 ],
 "metadata": {
  "kernelspec": {
   "display_name": "SNA",
   "language": "python",
   "name": "python3"
  },
  "language_info": {
   "codemirror_mode": {
    "name": "ipython",
    "version": 3
   },
   "file_extension": ".py",
   "mimetype": "text/x-python",
   "name": "python",
   "nbconvert_exporter": "python",
   "pygments_lexer": "ipython3",
   "version": "3.13.0"
  }
 },
 "nbformat": 4,
 "nbformat_minor": 5
}
