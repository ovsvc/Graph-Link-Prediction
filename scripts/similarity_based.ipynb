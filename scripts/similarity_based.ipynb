{
 "cells": [
  {
   "cell_type": "markdown",
   "id": "6e4f1d24",
   "metadata": {},
   "source": [
    "Task: Predict whether a user will vote on another user's postings\n",
    "\n",
    "Methods: Similarity based techniques\n",
    "\n",
    "**Considered datasets:**\n",
    "* Network of Users Who Vote on Postings (undirected) - df_edge_list_undirected_users_votes_to_postings_net\n",
    "\n",
    "**Additional datasets:**\n",
    "* df_Postings_filtered_net\n",
    "* df_Votes_filtered_net "
   ]
  },
  {
   "cell_type": "markdown",
   "id": "78cea03e",
   "metadata": {},
   "source": [
    "### Importing libraries"
   ]
  },
  {
   "cell_type": "code",
   "execution_count": 1,
   "id": "a01b7a39-47b6-4c16-a101-477b9345a892",
   "metadata": {},
   "outputs": [],
   "source": [
    "import pandas as pd\n",
    "import networkx as nx\n",
    "from sklearn.model_selection import train_test_split\n",
    "from sklearn.linear_model import LogisticRegression\n",
    "from sklearn.metrics import accuracy_score, roc_auc_score\n",
    "import scipy\n",
    "import random\n",
    "import pickle\n",
    "import itertools\n",
    "import numpy as np"
   ]
  },
  {
   "cell_type": "markdown",
   "id": "d9f7d2a3-9623-4e41-a6c5-e1d12da5c3d3",
   "metadata": {},
   "source": [
    "### Opening the graph and subsetting it"
   ]
  },
  {
   "cell_type": "code",
   "execution_count": 2,
   "id": "564ad2bd-49c9-41e1-b234-127c8924d11d",
   "metadata": {},
   "outputs": [
    {
     "name": "stdout",
     "output_type": "stream",
     "text": [
      "Graph: 10964 nodes, 529434 edges\n"
     ]
    }
   ],
   "source": [
    "# Load the graph from dataset preparation\n",
    "with open(\"graph.pkl\", \"rb\") as f:\n",
    "    G_undirected = pickle.load(f)\n",
    "\n",
    "# Verify the graph is loaded\n",
    "print(f\"Graph: {G_undirected.number_of_nodes()} nodes, {G_undirected.number_of_edges()} edges\")"
   ]
  },
  {
   "cell_type": "code",
   "execution_count": 3,
   "id": "3ac46505-caac-413d-afc8-5df8bd78258a",
   "metadata": {},
   "outputs": [],
   "source": [
    "# Sample a smaller subgraph with 1000 nodes\n",
    "subgraph = G_undirected.subgraph(list(G_undirected.nodes)[:1000])\n",
    "graph = subgraph"
   ]
  },
  {
   "cell_type": "markdown",
   "id": "892551c4",
   "metadata": {},
   "source": [
    "### Define helper functions"
   ]
  },
  {
   "cell_type": "code",
   "execution_count": 4,
   "id": "35a2aa06-ed66-40ad-929d-8535ac0251a4",
   "metadata": {},
   "outputs": [],
   "source": [
    "# Function to generate non-existent edges for link prediction\n",
    "def non_edges(graph):\n",
    "    return [(u, v) for u, v in itertools.combinations(graph.nodes, 2) if not graph.has_edge(u, v)]\n",
    "\n",
    "# Function to calculate similarity scores\n",
    "def calculate_similarity_scores(graph, edges, method):\n",
    "    if method == 'common_neighbors':\n",
    "        return [len(list(nx.common_neighbors(graph, u, v))) for u, v in edges]\n",
    "    elif method == 'jaccard':\n",
    "        return [p for u, v, p in nx.jaccard_coefficient(graph, edges)]\n",
    "    elif method == 'katz':\n",
    "        centrality = nx.katz_centrality_numpy(graph, alpha=0.005)\n",
    "        return [(centrality[u] * centrality[v]) for u, v in edges]\n",
    "    elif method == 'simrank':\n",
    "        sim = nx.simrank_similarity(graph)\n",
    "        return [sim[u][v] for u, v in edges]"
   ]
  },
  {
   "cell_type": "markdown",
   "id": "afde5d57",
   "metadata": {},
   "source": [
    "### Data preparation (train set, test set)"
   ]
  },
  {
   "cell_type": "code",
   "execution_count": 5,
   "id": "21588c28",
   "metadata": {},
   "outputs": [],
   "source": [
    "# Generate positive and negative examples\n",
    "existing_edges = list(graph.edges)\n",
    "nonexistent_edges = non_edges(graph)\n",
    "selected_nonexistent = random.sample(nonexistent_edges, len(existing_edges))  # Balance the classes\n",
    "\n",
    "# Create edge labels: 1 if edge exists, 0 otherwise\n",
    "edges = existing_edges + selected_nonexistent\n",
    "labels = [1] * len(existing_edges) + [0] * len(selected_nonexistent)\n",
    "\n",
    "# Split data into train and test sets\n",
    "edges_train, edges_test, labels_train, labels_test = train_test_split(edges, labels, test_size=0.3, random_state=42)\n"
   ]
  },
  {
   "cell_type": "markdown",
   "id": "96d27f33",
   "metadata": {},
   "source": [
    "### Run all methods and evaluate them"
   ]
  },
  {
   "cell_type": "code",
   "execution_count": 6,
   "id": "afb2cd9f-e9cf-417a-b36d-74d858b2ae91",
   "metadata": {
    "scrolled": true
   },
   "outputs": [
    {
     "name": "stdout",
     "output_type": "stream",
     "text": [
      "common_neighbors ->  [ROC-AUC]: 0.8379363855755232, [Accuracy]: 0.7424709509129713\n",
      "jaccard ->  [ROC-AUC]: 0.7886826580999341, [Accuracy]: 0.7155797960635523\n",
      "katz ->  [ROC-AUC]: 0.8389445712348984, [Accuracy]: 0.6782072563433721\n",
      "simrank ->  [ROC-AUC]: 0.5602767409057557, [Accuracy]: 0.583542802940479\n"
     ]
    }
   ],
   "source": [
    "methods = ['common_neighbors', 'jaccard', 'katz', 'simrank']\n",
    "results = {}\n",
    "\n",
    "for method in methods:\n",
    "    # Calculate similarity scores for training data\n",
    "    scores_train = calculate_similarity_scores(graph, edges_train, method)\n",
    "    \n",
    "    # Train logistic regression model\n",
    "    model = LogisticRegression()\n",
    "    model.fit(np.array(scores_train).reshape(-1, 1), labels_train)\n",
    "    \n",
    "    # Calculate similarity scores for test data\n",
    "    scores_test = calculate_similarity_scores(graph, edges_test, method)\n",
    "    \n",
    "    # Predictions and evaluation\n",
    "    predictions = model.predict_proba(np.array(scores_test).reshape(-1, 1))[:, 1]\n",
    "    roc_auc = roc_auc_score(labels_test, predictions)\n",
    "    accuracy = accuracy_score(labels_test, (predictions > 0.5).astype(int))\n",
    "    \n",
    "    results[method] = {'ROC-AUC': roc_auc, 'Accuracy': accuracy}\n",
    "\n",
    "for method, metrics in results.items():\n",
    "    print(f\"{method} ->  [ROC-AUC]: {metrics['ROC-AUC']}, [Accuracy]: {metrics['Accuracy']}\")\n"
   ]
  }
 ],
 "metadata": {
  "kernelspec": {
   "display_name": "base",
   "language": "python",
   "name": "python3"
  },
  "language_info": {
   "codemirror_mode": {
    "name": "ipython",
    "version": 3
   },
   "file_extension": ".py",
   "mimetype": "text/x-python",
   "name": "python",
   "nbconvert_exporter": "python",
   "pygments_lexer": "ipython3",
   "version": "3.12.2"
  }
 },
 "nbformat": 4,
 "nbformat_minor": 5
}
