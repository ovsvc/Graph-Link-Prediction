{
  "cells": [
    {
      "cell_type": "markdown",
      "metadata": {
        "id": "83eE0RnNYnkJ"
      },
      "source": [
        "# SNA - Project in Google Colab\n",
        "\n",
        "## Colab Preparation\n",
        "\n",
        "**Keep Alive**\n",
        "\n",
        "When training google colab tends to kick you out, This might help: https://medium.com/@shivamrawat_756/how-to-prevent-google-colab-from-disconnecting-717b88a128c0\n",
        "\n",
        "**Get Started**\n",
        "\n",
        "Run the following script to mount google drive and install needed python packages. Pytorch comes pre-installed."
      ]
    },
    {
      "cell_type": "code",
      "execution_count": 18,
      "metadata": {
        "colab": {
          "base_uri": "https://localhost:8080/"
        },
        "id": "rwJkMc3zYm0V",
        "outputId": "bc372266-d366-46e2-9a7f-e79b1eb07d70"
      },
      "outputs": [
        {
          "output_type": "stream",
          "name": "stdout",
          "text": [
            "Drive already mounted at /content/drive; to attempt to forcibly remount, call drive.mount(\"/content/drive\", force_remount=True).\n"
          ]
        }
      ],
      "source": [
        "from google.colab import drive\n",
        "drive.mount('/content/drive')"
      ]
    },
    {
      "cell_type": "code",
      "execution_count": 19,
      "metadata": {
        "colab": {
          "base_uri": "https://localhost:8080/"
        },
        "id": "zGuRDrs7aNWR",
        "outputId": "ce3852a8-7d1e-4d20-ffbe-42c56d9eb39d"
      },
      "outputs": [
        {
          "output_type": "stream",
          "name": "stdout",
          "text": [
            "/content/drive/MyDrive/sna\n"
          ]
        }
      ],
      "source": [
        "%cd /content/drive/MyDrive/sna/"
      ]
    },
    {
      "cell_type": "code",
      "execution_count": 20,
      "metadata": {
        "colab": {
          "base_uri": "https://localhost:8080/"
        },
        "id": "iPPVwuc3bBS6",
        "outputId": "3bd5ca1f-d542-442d-df24-4f435f93b57b"
      },
      "outputs": [
        {
          "output_type": "stream",
          "name": "stdout",
          "text": [
            "archive\t\t\t\t  GraphSage_LinkPrediction22_Copy1.ipynb  parameter_results.csv\n",
            "data\t\t\t\t  GraphSage_LinkPrediction22.ipynb\t  README.md\n",
            "exploratory\t\t\t  GraphSage-LinkPrediction2.ipynb\t  requirements.txt\n",
            "graph.pkl\t\t\t  GraphSage-LinkPrediction.ipynb\t  scripts\n",
            "GraphSage_LinkPrediction21.ipynb  models\n"
          ]
        }
      ],
      "source": [
        "!ls"
      ]
    },
    {
      "cell_type": "markdown",
      "metadata": {
        "id": "Hl69JAe4zuq_"
      },
      "source": [
        "#### Install libraries"
      ]
    },
    {
      "cell_type": "code",
      "execution_count": 5,
      "metadata": {
        "colab": {
          "base_uri": "https://localhost:8080/"
        },
        "id": "Gu5HiXJ1ZLRY",
        "outputId": "5ea0a0e7-f264-4e1d-f26c-63ea57178117"
      },
      "outputs": [
        {
          "output_type": "stream",
          "name": "stdout",
          "text": [
            "Looking in links: https://data.dgl.ai/wheels/torch-2.3/repo.html\n",
            "Collecting dgl\n",
            "  Downloading https://data.dgl.ai/wheels/torch-2.3/dgl-2.4.0-cp311-cp311-manylinux1_x86_64.whl (6.8 MB)\n",
            "\u001b[2K     \u001b[90m━━━━━━━━━━━━━━━━━━━━━━━━━━━━━━━━━━━━━━━━\u001b[0m \u001b[32m6.8/6.8 MB\u001b[0m \u001b[31m49.7 MB/s\u001b[0m eta \u001b[36m0:00:00\u001b[0m\n",
            "\u001b[?25hRequirement already satisfied: networkx>=2.1 in /usr/local/lib/python3.11/dist-packages (from dgl) (3.4.2)\n",
            "Requirement already satisfied: numpy>=1.14.0 in /usr/local/lib/python3.11/dist-packages (from dgl) (1.26.4)\n",
            "Requirement already satisfied: packaging in /usr/local/lib/python3.11/dist-packages (from dgl) (24.2)\n",
            "Requirement already satisfied: pandas in /usr/local/lib/python3.11/dist-packages (from dgl) (2.2.2)\n",
            "Requirement already satisfied: psutil>=5.8.0 in /usr/local/lib/python3.11/dist-packages (from dgl) (5.9.5)\n",
            "Requirement already satisfied: pydantic>=2.0 in /usr/local/lib/python3.11/dist-packages (from dgl) (2.10.5)\n",
            "Requirement already satisfied: pyyaml in /usr/local/lib/python3.11/dist-packages (from dgl) (6.0.2)\n",
            "Requirement already satisfied: requests>=2.19.0 in /usr/local/lib/python3.11/dist-packages (from dgl) (2.32.3)\n",
            "Requirement already satisfied: scipy>=1.1.0 in /usr/local/lib/python3.11/dist-packages (from dgl) (1.13.1)\n",
            "Requirement already satisfied: tqdm in /usr/local/lib/python3.11/dist-packages (from dgl) (4.67.1)\n",
            "Collecting torch<=2.4.0 (from dgl)\n",
            "  Downloading torch-2.4.0-cp311-cp311-manylinux1_x86_64.whl.metadata (26 kB)\n",
            "Requirement already satisfied: annotated-types>=0.6.0 in /usr/local/lib/python3.11/dist-packages (from pydantic>=2.0->dgl) (0.7.0)\n",
            "Requirement already satisfied: pydantic-core==2.27.2 in /usr/local/lib/python3.11/dist-packages (from pydantic>=2.0->dgl) (2.27.2)\n",
            "Requirement already satisfied: typing-extensions>=4.12.2 in /usr/local/lib/python3.11/dist-packages (from pydantic>=2.0->dgl) (4.12.2)\n",
            "Requirement already satisfied: charset-normalizer<4,>=2 in /usr/local/lib/python3.11/dist-packages (from requests>=2.19.0->dgl) (3.4.1)\n",
            "Requirement already satisfied: idna<4,>=2.5 in /usr/local/lib/python3.11/dist-packages (from requests>=2.19.0->dgl) (3.10)\n",
            "Requirement already satisfied: urllib3<3,>=1.21.1 in /usr/local/lib/python3.11/dist-packages (from requests>=2.19.0->dgl) (2.3.0)\n",
            "Requirement already satisfied: certifi>=2017.4.17 in /usr/local/lib/python3.11/dist-packages (from requests>=2.19.0->dgl) (2024.12.14)\n",
            "Requirement already satisfied: filelock in /usr/local/lib/python3.11/dist-packages (from torch<=2.4.0->dgl) (3.16.1)\n",
            "Requirement already satisfied: sympy in /usr/local/lib/python3.11/dist-packages (from torch<=2.4.0->dgl) (1.13.1)\n",
            "Requirement already satisfied: jinja2 in /usr/local/lib/python3.11/dist-packages (from torch<=2.4.0->dgl) (3.1.5)\n",
            "Requirement already satisfied: fsspec in /usr/local/lib/python3.11/dist-packages (from torch<=2.4.0->dgl) (2024.10.0)\n",
            "Requirement already satisfied: nvidia-cuda-nvrtc-cu12==12.1.105 in /usr/local/lib/python3.11/dist-packages (from torch<=2.4.0->dgl) (12.1.105)\n",
            "Requirement already satisfied: nvidia-cuda-runtime-cu12==12.1.105 in /usr/local/lib/python3.11/dist-packages (from torch<=2.4.0->dgl) (12.1.105)\n",
            "Requirement already satisfied: nvidia-cuda-cupti-cu12==12.1.105 in /usr/local/lib/python3.11/dist-packages (from torch<=2.4.0->dgl) (12.1.105)\n",
            "Requirement already satisfied: nvidia-cudnn-cu12==9.1.0.70 in /usr/local/lib/python3.11/dist-packages (from torch<=2.4.0->dgl) (9.1.0.70)\n",
            "Requirement already satisfied: nvidia-cublas-cu12==12.1.3.1 in /usr/local/lib/python3.11/dist-packages (from torch<=2.4.0->dgl) (12.1.3.1)\n",
            "Requirement already satisfied: nvidia-cufft-cu12==11.0.2.54 in /usr/local/lib/python3.11/dist-packages (from torch<=2.4.0->dgl) (11.0.2.54)\n",
            "Requirement already satisfied: nvidia-curand-cu12==10.3.2.106 in /usr/local/lib/python3.11/dist-packages (from torch<=2.4.0->dgl) (10.3.2.106)\n",
            "Requirement already satisfied: nvidia-cusolver-cu12==11.4.5.107 in /usr/local/lib/python3.11/dist-packages (from torch<=2.4.0->dgl) (11.4.5.107)\n",
            "Requirement already satisfied: nvidia-cusparse-cu12==12.1.0.106 in /usr/local/lib/python3.11/dist-packages (from torch<=2.4.0->dgl) (12.1.0.106)\n",
            "Collecting nvidia-nccl-cu12==2.20.5 (from torch<=2.4.0->dgl)\n",
            "  Downloading nvidia_nccl_cu12-2.20.5-py3-none-manylinux2014_x86_64.whl.metadata (1.8 kB)\n",
            "Requirement already satisfied: nvidia-nvtx-cu12==12.1.105 in /usr/local/lib/python3.11/dist-packages (from torch<=2.4.0->dgl) (12.1.105)\n",
            "Collecting triton==3.0.0 (from torch<=2.4.0->dgl)\n",
            "  Downloading triton-3.0.0-1-cp311-cp311-manylinux2014_x86_64.manylinux_2_17_x86_64.whl.metadata (1.3 kB)\n",
            "Requirement already satisfied: nvidia-nvjitlink-cu12 in /usr/local/lib/python3.11/dist-packages (from nvidia-cusolver-cu12==11.4.5.107->torch<=2.4.0->dgl) (12.6.85)\n",
            "Requirement already satisfied: python-dateutil>=2.8.2 in /usr/local/lib/python3.11/dist-packages (from pandas->dgl) (2.8.2)\n",
            "Requirement already satisfied: pytz>=2020.1 in /usr/local/lib/python3.11/dist-packages (from pandas->dgl) (2024.2)\n",
            "Requirement already satisfied: tzdata>=2022.7 in /usr/local/lib/python3.11/dist-packages (from pandas->dgl) (2024.2)\n",
            "Requirement already satisfied: six>=1.5 in /usr/local/lib/python3.11/dist-packages (from python-dateutil>=2.8.2->pandas->dgl) (1.17.0)\n",
            "Requirement already satisfied: MarkupSafe>=2.0 in /usr/local/lib/python3.11/dist-packages (from jinja2->torch<=2.4.0->dgl) (3.0.2)\n",
            "Requirement already satisfied: mpmath<1.4,>=1.1.0 in /usr/local/lib/python3.11/dist-packages (from sympy->torch<=2.4.0->dgl) (1.3.0)\n",
            "Downloading torch-2.4.0-cp311-cp311-manylinux1_x86_64.whl (797.3 MB)\n",
            "\u001b[2K   \u001b[90m━━━━━━━━━━━━━━━━━━━━━━━━━━━━━━━━━━━━━━━━\u001b[0m \u001b[32m797.3/797.3 MB\u001b[0m \u001b[31m1.5 MB/s\u001b[0m eta \u001b[36m0:00:00\u001b[0m\n",
            "\u001b[?25hDownloading nvidia_nccl_cu12-2.20.5-py3-none-manylinux2014_x86_64.whl (176.2 MB)\n",
            "\u001b[2K   \u001b[90m━━━━━━━━━━━━━━━━━━━━━━━━━━━━━━━━━━━━━━━━\u001b[0m \u001b[32m176.2/176.2 MB\u001b[0m \u001b[31m13.0 MB/s\u001b[0m eta \u001b[36m0:00:00\u001b[0m\n",
            "\u001b[?25hDownloading triton-3.0.0-1-cp311-cp311-manylinux2014_x86_64.manylinux_2_17_x86_64.whl (209.4 MB)\n",
            "\u001b[2K   \u001b[90m━━━━━━━━━━━━━━━━━━━━━━━━━━━━━━━━━━━━━━━━\u001b[0m \u001b[32m209.4/209.4 MB\u001b[0m \u001b[31m6.1 MB/s\u001b[0m eta \u001b[36m0:00:00\u001b[0m\n",
            "\u001b[?25hInstalling collected packages: triton, nvidia-nccl-cu12, torch, dgl\n",
            "  Attempting uninstall: triton\n",
            "    Found existing installation: triton 3.1.0\n",
            "    Uninstalling triton-3.1.0:\n",
            "      Successfully uninstalled triton-3.1.0\n",
            "  Attempting uninstall: nvidia-nccl-cu12\n",
            "    Found existing installation: nvidia-nccl-cu12 2.21.5\n",
            "    Uninstalling nvidia-nccl-cu12-2.21.5:\n",
            "      Successfully uninstalled nvidia-nccl-cu12-2.21.5\n",
            "  Attempting uninstall: torch\n",
            "    Found existing installation: torch 2.5.1+cu121\n",
            "    Uninstalling torch-2.5.1+cu121:\n",
            "      Successfully uninstalled torch-2.5.1+cu121\n",
            "\u001b[31mERROR: pip's dependency resolver does not currently take into account all the packages that are installed. This behaviour is the source of the following dependency conflicts.\n",
            "torchvision 0.20.1+cu121 requires torch==2.5.1, but you have torch 2.4.0 which is incompatible.\n",
            "torchaudio 2.5.1+cu121 requires torch==2.5.1, but you have torch 2.4.0 which is incompatible.\u001b[0m\u001b[31m\n",
            "\u001b[0mSuccessfully installed dgl-2.4.0 nvidia-nccl-cu12-2.20.5 torch-2.4.0 triton-3.0.0\n"
          ]
        }
      ],
      "source": [
        "!pip install  dgl -f https://data.dgl.ai/wheels/torch-2.3/repo.html"
      ]
    },
    {
      "cell_type": "code",
      "execution_count": 21,
      "metadata": {
        "id": "n6LXIVp_hWik"
      },
      "outputs": [],
      "source": [
        "import dgl\n",
        "import torch\n",
        "import torch.nn as nn\n",
        "import torch.nn.functional as F\n",
        "import itertools\n",
        "import numpy as np\n",
        "import scipy.sparse as sp\n",
        "import pickle"
      ]
    },
    {
      "cell_type": "markdown",
      "metadata": {
        "id": "u4Z1jslRhWil"
      },
      "source": [
        "### 1. Link prediction with GNN\n",
        "Assume we are given a graph g with incomplete data, for example, only 50% of the edges are present.\n",
        "\n",
        "The goal is to predict **whether there is an edge** between any 2 nodes in g."
      ]
    },
    {
      "cell_type": "code",
      "execution_count": 38,
      "metadata": {
        "colab": {
          "base_uri": "https://localhost:8080/"
        },
        "id": "GmHAILS9fLW7",
        "outputId": "5cdc8547-fa8d-429f-d897-337db360efd3"
      },
      "outputs": [
        {
          "output_type": "stream",
          "name": "stdout",
          "text": [
            "Number of nodes: 10934\n",
            "Number of edges: 1025406\n",
            "Edge data keys: dict_keys(['count'])\n"
          ]
        }
      ],
      "source": [
        "import pickle\n",
        "\n",
        "# Load the graph\n",
        "with open('exploratory/graph_directed_month.pkl', 'rb') as f:\n",
        "    g = pickle.load(f)\n",
        "\n",
        "g = dgl.from_networkx(g, edge_attrs=['count'])\n",
        "\n",
        "# Verify the loaded graph\n",
        "print(f\"Number of nodes: {g.number_of_nodes()}\")\n",
        "print(f\"Number of edges: {g.number_of_edges()}\")\n",
        "print(\"Edge data keys:\", g.edata.keys())\n"
      ]
    },
    {
      "cell_type": "markdown",
      "source": [
        "Running model on a subsetted graph"
      ],
      "metadata": {
        "id": "RixkbkJ2E2zV"
      }
    },
    {
      "cell_type": "code",
      "source": [
        "import random\n",
        "\n",
        "def create_subset(g, num_nodes=1000):\n",
        "    \"\"\"\n",
        "    Creates a subgraph with a subset of nodes and their edges.\n",
        "    Args:\n",
        "        g (DGLGraph): The original graph.\n",
        "        num_nodes (int): Number of nodes to include in the subgraph.\n",
        "    Returns:\n",
        "        DGLGraph: The subset graph.\n",
        "    \"\"\"\n",
        "    # Sample nodes\n",
        "    sampled_nodes = list(range(num_nodes))\n",
        "\n",
        "    # Create a subgraph with the sampled nodes\n",
        "    subset_g = g.subgraph(sampled_nodes)\n",
        "    return subset_g\n",
        "\n",
        "# Create the subset\n",
        "g_subset = create_subset(g, num_nodes=1000)\n",
        "\n",
        "# Save the subset graph\n",
        "with open('exploratory/graph_directed_subset.pkl', 'wb') as f:\n",
        "    pickle.dump(g_subset, f)\n",
        "\n",
        "print(f\"Subset Graph - Number of nodes: {g_subset.num_nodes()}\")\n",
        "print(f\"Subset Graph - Number of edges: {g_subset.num_edges()}\")"
      ],
      "metadata": {
        "colab": {
          "base_uri": "https://localhost:8080/"
        },
        "id": "9Z2d4Il3DJh-",
        "outputId": "b55c44d0-320d-4452-a9ff-d62392c56e77"
      },
      "execution_count": 47,
      "outputs": [
        {
          "output_type": "stream",
          "name": "stdout",
          "text": [
            "Subset Graph - Number of nodes: 1000\n",
            "Subset Graph - Number of edges: 9102\n"
          ]
        }
      ]
    },
    {
      "cell_type": "markdown",
      "metadata": {
        "id": "0PKfuYKRRDpg"
      },
      "source": [
        "Transforming Edge features into Node Features"
      ]
    },
    {
      "cell_type": "code",
      "execution_count": 48,
      "metadata": {
        "colab": {
          "base_uri": "https://localhost:8080/"
        },
        "id": "JnR1IFEDSrK9",
        "outputId": "2d93f700-1c4d-4647-d94c-3f4c7ed38da4"
      },
      "outputs": [
        {
          "output_type": "stream",
          "name": "stdout",
          "text": [
            "Node features (aggregated edge counts):\n",
            " tensor([[ 6.],\n",
            "        [34.],\n",
            "        [26.],\n",
            "        ...,\n",
            "        [ 2.],\n",
            "        [ 4.],\n",
            "        [16.]])\n"
          ]
        }
      ],
      "source": [
        "import torch\n",
        "\n",
        "# Initialize node features as zeros\n",
        "num_nodes = g.num_nodes()\n",
        "node_features = torch.zeros((num_nodes, 1))  # One-dimensional node features\n",
        "\n",
        "# Aggregate edge counts into node features\n",
        "for src, dst, edge_data in zip(*g.edges(), g.edata['count']):\n",
        "    node_features[src] += edge_data\n",
        "    node_features[dst] += edge_data  # Assuming undirected graph\n",
        "\n",
        "# Assign aggregated features to nodes\n",
        "g.ndata['feat'] = node_features\n",
        "print(\"Node features (aggregated edge counts):\\n\", g.ndata['feat'])"
      ]
    },
    {
      "cell_type": "markdown",
      "metadata": {
        "id": "tTtTBAtrT6Ij"
      },
      "source": [
        "Train/test split and obtaining positive edges"
      ]
    },
    {
      "cell_type": "code",
      "execution_count": 49,
      "metadata": {
        "id": "R8MWzP1DT-VA"
      },
      "outputs": [],
      "source": [
        "np.random.seed(42)  # For reproducibility\n",
        "edge_ids = np.arange(g.num_edges())\n",
        "edge_ids = np.random.permutation(edge_ids)\n",
        "\n",
        "train_size = int(0.8 * len(edge_ids))\n",
        "train_mask = edge_ids[:train_size]\n",
        "test_mask = edge_ids[train_size:]\n",
        "\n",
        "# Remove test edges to create g_main\n",
        "g_main = dgl.remove_edges(g, test_mask)\n",
        "\n",
        "# Extract edges\n",
        "u, v = g.edges()\n",
        "\n",
        "# Positive edges for training and testing\n",
        "train_pos_u, train_pos_v = u[train_mask], v[train_mask]\n",
        "test_pos_u, test_pos_v = u[test_mask], v[test_mask]"
      ]
    },
    {
      "cell_type": "markdown",
      "metadata": {
        "id": "nt3n2ONLUFS6"
      },
      "source": [
        "Generation of negative edges"
      ]
    },
    {
      "cell_type": "code",
      "execution_count": 50,
      "metadata": {
        "id": "FjIEDTsRUID4"
      },
      "outputs": [],
      "source": [
        "# Create adjacency matrix\n",
        "adj = sp.coo_matrix((np.ones(len(u)), (u.numpy(), v.numpy())))\n",
        "adj = adj.todense() + np.eye(g.num_nodes())  # Add self-loops to avoid sampling them as negatives\n",
        "\n",
        "# Get non-edges\n",
        "u_neg, v_neg = np.where(adj == 0)\n",
        "\n",
        "# Sample negative edges\n",
        "neg_ids = np.random.choice(len(u_neg), len(u))\n",
        "train_neg_u, train_neg_v = u_neg[neg_ids[:train_size]], v_neg[neg_ids[:train_size]]\n",
        "test_neg_u, test_neg_v = u_neg[neg_ids[train_size:]], v_neg[neg_ids[train_size:]]"
      ]
    },
    {
      "cell_type": "markdown",
      "metadata": {
        "id": "iPHOKoYdUKws"
      },
      "source": [
        "Train/test graph creation"
      ]
    },
    {
      "cell_type": "code",
      "execution_count": 51,
      "metadata": {
        "id": "si1qJrHuUNXa"
      },
      "outputs": [],
      "source": [
        "# Training graphs\n",
        "g_train_pos = dgl.graph((train_pos_u, train_pos_v), num_nodes=g.num_nodes())\n",
        "g_train_pos.edata['count'] = g.edata['count'][train_mask]  # Copy 'count' attribute\n",
        "\n",
        "g_train_neg = dgl.graph((train_neg_u, train_neg_v), num_nodes=g.num_nodes())\n",
        "g_train_neg.edata['count'] = torch.zeros(train_neg_u.shape[0])  # No count for negative edges\n",
        "\n",
        "# Testing graphs\n",
        "g_test_pos = dgl.graph((test_pos_u, test_pos_v), num_nodes=g.num_nodes())\n",
        "g_test_pos.edata['count'] = g.edata['count'][test_mask]  # Copy 'count' attribute\n",
        "\n",
        "g_test_neg = dgl.graph((test_neg_u, test_neg_v), num_nodes=g.num_nodes())\n",
        "g_test_neg.edata['count'] = torch.zeros(test_neg_u.shape[0])  # No count for negative edges"
      ]
    },
    {
      "cell_type": "markdown",
      "metadata": {
        "id": "0h6GJgw8hWit"
      },
      "source": [
        "### 2. GNN with SageConv\n",
        "dgl.nn.SAGEConv(in_dim, out_dim) updates in the following way\n",
        "\n",
        "\\begin{align*}\n",
        "h_i^{(l+1)}&= W.\\text{concat}(h_i^{(l)},h_{N(i)}^{(l+1)})+b \\ \\text{with} \\\\ h_{N(i)}^{(l+1)}&=\\text{Mean}\\{h_j^{(l)}, j\\in N(i)\\}\n",
        "\\end{align*}\n",
        "\n",
        "Here is our **model structure**\n",
        "<center>\n",
        "input -> SAGEConv1 -> relu -> SAGEConv2 -> predictor\n",
        "<end><center>\n"
      ]
    },
    {
      "cell_type": "code",
      "execution_count": 52,
      "metadata": {
        "id": "sswZC_Saanus"
      },
      "outputs": [],
      "source": [
        "import dgl.function as fn\n",
        "from dgl.nn import SAGEConv\n",
        "\n",
        "from sklearn.metrics import roc_auc_score # for computing auc metric\n",
        "\n",
        "class GraphSage(nn.Module):\n",
        "    def __init__(self, in_dim, hidden_dim):\n",
        "        super().__init__()\n",
        "        self.conv1 = SAGEConv(in_dim, hidden_dim, aggregator_type=\"mean\")\n",
        "        self.conv2 = SAGEConv(hidden_dim, hidden_dim, aggregator_type=\"mean\")\n",
        "\n",
        "    def forward(self, g, features):\n",
        "        h = self.conv1(g, features)\n",
        "        h = F.relu(h)\n",
        "        h = self.conv2(g, h)\n",
        "        return h\n",
        "\n",
        "    def predict(self, g, h):\n",
        "        with g.local_scope():\n",
        "            g.ndata['h'] = h\n",
        "            g.apply_edges(fn.u_dot_v('h', 'h', 'score'))  # Compute edge scores\n",
        "            return g.edata['score'].squeeze()  # Ensure the result is 1D\n",
        "\n",
        "\n",
        "    def loss(self, pos_scores, neg_scores):\n",
        "        scores = torch.cat([pos_scores, neg_scores])\n",
        "        labels = torch.cat([torch.ones(pos_scores.shape[0]), torch.zeros(neg_scores.shape[0])])\n",
        "        return F.binary_cross_entropy_with_logits(scores, labels)\n",
        "\n",
        "    def auc_score(self, pos_scores, neg_scores):\n",
        "        scores = torch.cat([pos_scores, neg_scores]).detach().numpy()\n",
        "        labels = torch.cat([torch.ones(pos_scores.shape[0]), torch.zeros(neg_scores.shape[0])]).detach().numpy()\n",
        "        return roc_auc_score(labels, scores)"
      ]
    },
    {
      "cell_type": "markdown",
      "metadata": {
        "id": "bE9SkNM3hWiu"
      },
      "source": [
        "### 3. Train and Test"
      ]
    },
    {
      "cell_type": "code",
      "execution_count": 53,
      "metadata": {
        "id": "gVGRqSPKaw-C"
      },
      "outputs": [],
      "source": [
        "from sklearn.metrics import accuracy_score\n",
        "\n",
        "def train(model, g_main, g_train_pos, g_train_neg, optimizer):\n",
        "    model.train()\n",
        "    optimizer.zero_grad()\n",
        "\n",
        "    # Forward pass\n",
        "    h = model(g_main, g_main.ndata['feat'])\n",
        "\n",
        "    # Predict scores for positive and negative training edges\n",
        "    pos_scores = model.predict(g_train_pos, h)\n",
        "    neg_scores = model.predict(g_train_neg, h)\n",
        "\n",
        "    # Calculate loss\n",
        "    loss = model.loss(pos_scores, neg_scores)\n",
        "\n",
        "    # Backward pass and optimization\n",
        "    loss.backward()\n",
        "    optimizer.step()\n",
        "\n",
        "    # Combine scores and labels for AUC and accuracy\n",
        "    scores = torch.cat([pos_scores, neg_scores]).detach().numpy()\n",
        "    labels = torch.cat([torch.ones(pos_scores.shape[0]), torch.zeros(neg_scores.shape[0])]).detach().numpy()\n",
        "\n",
        "    # Compute ROC AUC\n",
        "    auc = roc_auc_score(labels, scores)\n",
        "\n",
        "    # Compute Accuracy (using threshold = 0.5)\n",
        "    predicted_labels = (scores >= 0.5).astype(int)\n",
        "    accuracy = accuracy_score(labels, predicted_labels)\n",
        "\n",
        "    return loss.item(), auc, accuracy\n"
      ]
    },
    {
      "cell_type": "code",
      "execution_count": 54,
      "metadata": {
        "id": "e-MH8uH2ftLK"
      },
      "outputs": [],
      "source": [
        "from sklearn.metrics import accuracy_score\n",
        "\n",
        "@torch.no_grad()\n",
        "def evaluate(model, g_main, g_test_pos, g_test_neg):\n",
        "    model.eval()\n",
        "    h = model(g_main, g_main.ndata['feat'])\n",
        "\n",
        "    # Predict scores for positive and negative test edges\n",
        "    pos_scores = model.predict(g_test_pos, h)\n",
        "    neg_scores = model.predict(g_test_neg, h)\n",
        "\n",
        "    # Calculate loss\n",
        "    loss = model.loss(pos_scores, neg_scores)\n",
        "\n",
        "    # Combine scores and labels for AUC and accuracy\n",
        "    scores = torch.cat([pos_scores, neg_scores]).detach().numpy()\n",
        "    labels = torch.cat([torch.ones(pos_scores.shape[0]), torch.zeros(neg_scores.shape[0])]).detach().numpy()\n",
        "\n",
        "    # Compute ROC AUC\n",
        "    auc = roc_auc_score(labels, scores)\n",
        "\n",
        "    # Compute Accuracy (using threshold = 0.5)\n",
        "    predicted_labels = (scores >= 0.5).astype(int)\n",
        "    accuracy = accuracy_score(labels, predicted_labels)\n",
        "\n",
        "    return loss.item(), auc, accuracy"
      ]
    },
    {
      "cell_type": "code",
      "execution_count": 55,
      "metadata": {
        "id": "VJd75lndbEMW"
      },
      "outputs": [],
      "source": [
        "# Hyperparams and initialization of the model\n",
        "from torch.optim import Adam\n",
        "\n",
        "# Initialize model and optimizer\n",
        "in_dim = g_main.ndata['feat'].shape[1]\n",
        "hidden_dim = 16\n",
        "model = GraphSage(in_dim, hidden_dim)\n",
        "optimizer = Adam(model.parameters(), lr=0.01)"
      ]
    },
    {
      "cell_type": "code",
      "execution_count": 56,
      "metadata": {
        "colab": {
          "base_uri": "https://localhost:8080/"
        },
        "id": "r1gFCrKfd-Pq",
        "outputId": "4c1a0208-8d8f-4026-c2f6-59a57d473c19"
      },
      "outputs": [
        {
          "output_type": "stream",
          "name": "stdout",
          "text": [
            "Edge data in g_main: dict_keys(['count'])\n",
            "Edge data in g_train_pos: dict_keys(['count'])\n",
            "Edge data in g_train_neg: dict_keys(['count'])\n"
          ]
        }
      ],
      "source": [
        "print(\"Edge data in g_main:\", g_main.edata.keys())\n",
        "print(\"Edge data in g_train_pos:\", g_train_pos.edata.keys())\n",
        "print(\"Edge data in g_train_neg:\", g_train_neg.edata.keys())\n"
      ]
    },
    {
      "cell_type": "code",
      "execution_count": 57,
      "metadata": {
        "colab": {
          "base_uri": "https://localhost:8080/"
        },
        "id": "pHrmRg5ZboXA",
        "outputId": "71c2a69c-dcb4-4563-f846-3fe0a29c8c67"
      },
      "outputs": [
        {
          "output_type": "stream",
          "name": "stdout",
          "text": [
            "Epoch 1/50, Loss: 2863241.2500, AUC: 0.3143, Accuracy: 0.5013\n",
            "Epoch 2/50, Loss: 2269236.0000, AUC: 0.2951, Accuracy: 0.5022\n",
            "Epoch 3/50, Loss: 1773165.1250, AUC: 0.2797, Accuracy: 0.5084\n",
            "Epoch 4/50, Loss: 1371081.1250, AUC: 0.2700, Accuracy: 0.5062\n",
            "Epoch 5/50, Loss: 1054974.2500, AUC: 0.2676, Accuracy: 0.5002\n",
            "Epoch 6/50, Loss: 815212.6875, AUC: 0.2722, Accuracy: 0.4881\n",
            "Epoch 7/50, Loss: 637224.7500, AUC: 0.2849, Accuracy: 0.4763\n",
            "Epoch 8/50, Loss: 503733.8125, AUC: 0.3070, Accuracy: 0.4671\n",
            "Epoch 9/50, Loss: 400317.6250, AUC: 0.3402, Accuracy: 0.4629\n",
            "Epoch 10/50, Loss: 317440.6250, AUC: 0.3863, Accuracy: 0.4645\n",
            "Epoch 11/50, Loss: 250078.1094, AUC: 0.4455, Accuracy: 0.4710\n",
            "Epoch 12/50, Loss: 195921.1094, AUC: 0.5141, Accuracy: 0.4833\n",
            "Epoch 13/50, Loss: 153816.7656, AUC: 0.5855, Accuracy: 0.4997\n",
            "Epoch 14/50, Loss: 122742.1094, AUC: 0.6549, Accuracy: 0.5172\n",
            "Epoch 15/50, Loss: 101209.7109, AUC: 0.7198, Accuracy: 0.5332\n",
            "Epoch 16/50, Loss: 87359.4062, AUC: 0.7755, Accuracy: 0.5460\n",
            "Epoch 17/50, Loss: 79291.2188, AUC: 0.8176, Accuracy: 0.5520\n",
            "Epoch 18/50, Loss: 74796.2969, AUC: 0.8454, Accuracy: 0.5529\n",
            "Epoch 19/50, Loss: 72386.1328, AUC: 0.8621, Accuracy: 0.5543\n",
            "Epoch 20/50, Loss: 71281.7891, AUC: 0.8712, Accuracy: 0.5558\n",
            "Epoch 21/50, Loss: 70948.3359, AUC: 0.8752, Accuracy: 0.5573\n",
            "Epoch 22/50, Loss: 70947.6641, AUC: 0.8762, Accuracy: 0.5583\n",
            "Epoch 23/50, Loss: 70901.2266, AUC: 0.8751, Accuracy: 0.5606\n",
            "Epoch 24/50, Loss: 70484.9531, AUC: 0.8724, Accuracy: 0.5643\n",
            "Epoch 25/50, Loss: 69466.2578, AUC: 0.8684, Accuracy: 0.5670\n",
            "Epoch 26/50, Loss: 67716.7969, AUC: 0.8635, Accuracy: 0.5695\n",
            "Epoch 27/50, Loss: 65230.3594, AUC: 0.8577, Accuracy: 0.5721\n",
            "Epoch 28/50, Loss: 62111.1484, AUC: 0.8510, Accuracy: 0.5753\n",
            "Epoch 29/50, Loss: 58553.0195, AUC: 0.8436, Accuracy: 0.5797\n",
            "Epoch 30/50, Loss: 54797.2344, AUC: 0.8354, Accuracy: 0.5854\n",
            "Epoch 31/50, Loss: 51098.6133, AUC: 0.8263, Accuracy: 0.5923\n",
            "Epoch 32/50, Loss: 47665.0703, AUC: 0.8167, Accuracy: 0.5995\n",
            "Epoch 33/50, Loss: 44629.6367, AUC: 0.8066, Accuracy: 0.6057\n",
            "Epoch 34/50, Loss: 42036.6758, AUC: 0.7965, Accuracy: 0.6105\n",
            "Epoch 35/50, Loss: 39851.1523, AUC: 0.7868, Accuracy: 0.6136\n",
            "Epoch 36/50, Loss: 38000.9609, AUC: 0.7778, Accuracy: 0.6153\n",
            "Epoch 37/50, Loss: 36404.0586, AUC: 0.7699, Accuracy: 0.6165\n",
            "Epoch 38/50, Loss: 34982.2305, AUC: 0.7635, Accuracy: 0.6172\n",
            "Epoch 39/50, Loss: 33673.1367, AUC: 0.7586, Accuracy: 0.6178\n",
            "Epoch 40/50, Loss: 32434.5293, AUC: 0.7553, Accuracy: 0.6189\n",
            "Epoch 41/50, Loss: 31243.0781, AUC: 0.7537, Accuracy: 0.6203\n",
            "Epoch 42/50, Loss: 30089.9023, AUC: 0.7537, Accuracy: 0.6221\n",
            "Epoch 43/50, Loss: 28979.0918, AUC: 0.7550, Accuracy: 0.6245\n",
            "Epoch 44/50, Loss: 27918.9336, AUC: 0.7574, Accuracy: 0.6272\n",
            "Epoch 45/50, Loss: 26922.5605, AUC: 0.7608, Accuracy: 0.6304\n",
            "Epoch 46/50, Loss: 26001.1777, AUC: 0.7647, Accuracy: 0.6338\n",
            "Epoch 47/50, Loss: 25162.6855, AUC: 0.7691, Accuracy: 0.6372\n",
            "Epoch 48/50, Loss: 24411.2168, AUC: 0.7736, Accuracy: 0.6407\n",
            "Epoch 49/50, Loss: 23746.1465, AUC: 0.7781, Accuracy: 0.6440\n",
            "Epoch 50/50, Loss: 23161.1895, AUC: 0.7823, Accuracy: 0.6469\n"
          ]
        }
      ],
      "source": [
        "# Training loop\n",
        "num_epochs = 50\n",
        "for epoch in range(num_epochs):\n",
        "    train_loss, train_auc, train_accuracy = train(model, g_main, g_train_pos, g_train_neg, optimizer)\n",
        "    print(f\"Epoch {epoch + 1}/{num_epochs}, Loss: {train_loss:.4f}, AUC: {train_auc:.4f}, Accuracy: {train_accuracy:.4f}\")"
      ]
    },
    {
      "cell_type": "code",
      "execution_count": 58,
      "metadata": {
        "colab": {
          "base_uri": "https://localhost:8080/"
        },
        "id": "50d24M7shWiw",
        "outputId": "96afa231-85e6-4026-813e-b7e960d0aeae"
      },
      "outputs": [
        {
          "output_type": "stream",
          "name": "stdout",
          "text": [
            "Test Loss: 23124.6992 | Test AUC: 0.7803 | Test Accuracy: 0.6463\n"
          ]
        }
      ],
      "source": [
        "# Evaluate on the test graph\n",
        "with torch.no_grad():\n",
        "    test_loss, test_auc, test_accuracy = evaluate(model, g_main, g_test_pos, g_test_neg)\n",
        "    print(f\"Test Loss: {test_loss:.4f} | Test AUC: {test_auc:.4f} | Test Accuracy: {test_accuracy:.4f}\")"
      ]
    },
    {
      "cell_type": "markdown",
      "source": [
        "#### Results Visualization"
      ],
      "metadata": {
        "id": "ZOkGIPsMLP6m"
      }
    },
    {
      "cell_type": "code",
      "source": [
        "import matplotlib.pyplot as plt\n",
        "\n",
        "def visualize_training_with_test(train_roc_auc, train_accuracy, test_roc_auc, test_accuracy, title=\"Training Metrics with Final Test Evaluation\"):\n",
        "    \"\"\"\n",
        "    Visualizes Train ROC AUC and Train Accuracy on the same graph and reports final Test ROC AUC and Accuracy.\n",
        "\n",
        "    Args:\n",
        "        train_roc_auc (list): List of training ROC AUC scores per epoch.\n",
        "        train_accuracy (list): List of training Accuracy scores per epoch.\n",
        "        test_roc_auc (float): Final test ROC AUC score.\n",
        "        test_accuracy (float): Final test Accuracy score.\n",
        "        title (str): Title for the visualization.\n",
        "    \"\"\"\n",
        "    epochs = range(1, len(train_roc_auc) + 1)\n",
        "\n",
        "    plt.figure(figsize=(10, 6))\n",
        "\n",
        "    # Plot Train ROC AUC and Train Accuracy\n",
        "    plt.plot(epochs, train_roc_auc, label='Train ROC AUC', marker='o', linestyle='-')\n",
        "    plt.plot(epochs, train_accuracy, label='Train Accuracy', marker='o', linestyle='--')\n",
        "\n",
        "    plt.title(title, fontsize=14)\n",
        "    plt.xlabel('Epochs', fontsize=12)\n",
        "    plt.ylabel('Score', fontsize=12)\n",
        "    plt.legend()\n",
        "    plt.grid(True)\n",
        "\n",
        "    # Display final test metrics\n",
        "    test_text = f\"Test ROC AUC: {test_roc_auc:.4f}\\nTest Accuracy: {test_accuracy:.4f}\"\n",
        "    plt.text(0.5, 0.1, test_text, fontsize=12, transform=plt.gca().transAxes,\n",
        "             bbox=dict(facecolor='white', alpha=0.8, edgecolor='black'))\n",
        "\n",
        "    plt.tight_layout()\n",
        "    plt.show()\n"
      ],
      "metadata": {
        "id": "xzaB-O7yFtN6"
      },
      "execution_count": 59,
      "outputs": []
    },
    {
      "cell_type": "code",
      "source": [
        "# Initialize lists to store training metrics\n",
        "train_roc_auc = []\n",
        "train_accuracy = []\n",
        "\n",
        "# Training loop\n",
        "for epoch in range(num_epochs):\n",
        "    train_loss, train_auc, train_acc = train(model, g_main, g_train_pos, g_train_neg, optimizer)\n",
        "    train_roc_auc.append(train_auc)\n",
        "    train_accuracy.append(train_acc)\n",
        "\n",
        "    print(f\"Epoch {epoch + 1}/{num_epochs}, Loss: {train_loss:.4f}, AUC: {train_auc:.4f}, Accuracy: {train_acc:.4f}\")\n",
        "\n",
        "# Evaluate on the test set once after training\n",
        "with torch.no_grad():\n",
        "    test_loss, test_auc, test_acc = evaluate(model, g_main, g_test_pos, g_test_neg)\n",
        "\n",
        "print(f\"Final Test Results - Loss: {test_loss:.4f}, ROC AUC: {test_auc:.4f}, Accuracy: {test_acc:.4f}\")\n",
        "\n",
        "# Visualize training metrics with final test evaluation\n",
        "visualize_training_with_test(train_roc_auc, train_accuracy, test_auc, test_acc, title=\"Training and Final Test Metrics\")\n"
      ],
      "metadata": {
        "colab": {
          "base_uri": "https://localhost:8080/",
          "height": 1000
        },
        "id": "c_JZwuHWFwUv",
        "outputId": "5085bf18-7bdc-4e49-956b-23f50e5d12b4"
      },
      "execution_count": 60,
      "outputs": [
        {
          "output_type": "stream",
          "name": "stdout",
          "text": [
            "Epoch 1/50, Loss: 22647.8613, AUC: 0.7862, Accuracy: 0.6497\n",
            "Epoch 2/50, Loss: 22195.1875, AUC: 0.7896, Accuracy: 0.6521\n",
            "Epoch 3/50, Loss: 21792.0098, AUC: 0.7925, Accuracy: 0.6543\n",
            "Epoch 4/50, Loss: 21426.8027, AUC: 0.7949, Accuracy: 0.6561\n",
            "Epoch 5/50, Loss: 21089.4785, AUC: 0.7967, Accuracy: 0.6577\n",
            "Epoch 6/50, Loss: 20772.3301, AUC: 0.7980, Accuracy: 0.6590\n",
            "Epoch 7/50, Loss: 20469.4414, AUC: 0.7988, Accuracy: 0.6602\n",
            "Epoch 8/50, Loss: 20176.8438, AUC: 0.7992, Accuracy: 0.6612\n",
            "Epoch 9/50, Loss: 19892.1191, AUC: 0.7993, Accuracy: 0.6619\n",
            "Epoch 10/50, Loss: 19613.9609, AUC: 0.7990, Accuracy: 0.6625\n",
            "Epoch 11/50, Loss: 19341.7422, AUC: 0.7984, Accuracy: 0.6630\n",
            "Epoch 12/50, Loss: 19075.0488, AUC: 0.7977, Accuracy: 0.6635\n",
            "Epoch 13/50, Loss: 18813.2734, AUC: 0.7969, Accuracy: 0.6639\n",
            "Epoch 14/50, Loss: 18555.9434, AUC: 0.7960, Accuracy: 0.6643\n",
            "Epoch 15/50, Loss: 18302.5449, AUC: 0.7951, Accuracy: 0.6646\n",
            "Epoch 16/50, Loss: 18052.3809, AUC: 0.7943, Accuracy: 0.6650\n",
            "Epoch 17/50, Loss: 17804.6816, AUC: 0.7935, Accuracy: 0.6655\n",
            "Epoch 18/50, Loss: 17558.8848, AUC: 0.7929, Accuracy: 0.6661\n",
            "Epoch 19/50, Loss: 17315.0176, AUC: 0.7924, Accuracy: 0.6669\n",
            "Epoch 20/50, Loss: 17073.0312, AUC: 0.7920, Accuracy: 0.6677\n",
            "Epoch 21/50, Loss: 16833.3164, AUC: 0.7917, Accuracy: 0.6687\n",
            "Epoch 22/50, Loss: 16596.3770, AUC: 0.7915, Accuracy: 0.6697\n",
            "Epoch 23/50, Loss: 16362.9287, AUC: 0.7914, Accuracy: 0.6707\n",
            "Epoch 24/50, Loss: 16133.6533, AUC: 0.7914, Accuracy: 0.6717\n",
            "Epoch 25/50, Loss: 15909.3037, AUC: 0.7914, Accuracy: 0.6726\n",
            "Epoch 26/50, Loss: 15690.4570, AUC: 0.7914, Accuracy: 0.6735\n",
            "Epoch 27/50, Loss: 15477.5508, AUC: 0.7915, Accuracy: 0.6743\n",
            "Epoch 28/50, Loss: 15270.8477, AUC: 0.7915, Accuracy: 0.6750\n",
            "Epoch 29/50, Loss: 15070.5645, AUC: 0.7915, Accuracy: 0.6756\n",
            "Epoch 30/50, Loss: 14876.5557, AUC: 0.7915, Accuracy: 0.6761\n",
            "Epoch 31/50, Loss: 14688.5889, AUC: 0.7914, Accuracy: 0.6764\n",
            "Epoch 32/50, Loss: 14506.3516, AUC: 0.7912, Accuracy: 0.6766\n",
            "Epoch 33/50, Loss: 14329.3604, AUC: 0.7911, Accuracy: 0.6768\n",
            "Epoch 34/50, Loss: 14157.0459, AUC: 0.7908, Accuracy: 0.6769\n",
            "Epoch 35/50, Loss: 13988.8359, AUC: 0.7906, Accuracy: 0.6770\n",
            "Epoch 36/50, Loss: 13824.1240, AUC: 0.7903, Accuracy: 0.6769\n",
            "Epoch 37/50, Loss: 13662.4004, AUC: 0.7900, Accuracy: 0.6769\n",
            "Epoch 38/50, Loss: 13503.2822, AUC: 0.7896, Accuracy: 0.6768\n",
            "Epoch 39/50, Loss: 13346.4053, AUC: 0.7893, Accuracy: 0.6767\n",
            "Epoch 40/50, Loss: 13191.5225, AUC: 0.7890, Accuracy: 0.6767\n",
            "Epoch 41/50, Loss: 13038.5430, AUC: 0.7887, Accuracy: 0.6767\n",
            "Epoch 42/50, Loss: 12887.4746, AUC: 0.7884, Accuracy: 0.6767\n",
            "Epoch 43/50, Loss: 12738.2832, AUC: 0.7882, Accuracy: 0.6767\n",
            "Epoch 44/50, Loss: 12591.0742, AUC: 0.7880, Accuracy: 0.6767\n",
            "Epoch 45/50, Loss: 12445.9023, AUC: 0.7878, Accuracy: 0.6768\n",
            "Epoch 46/50, Loss: 12302.7725, AUC: 0.7877, Accuracy: 0.6769\n",
            "Epoch 47/50, Loss: 12161.7100, AUC: 0.7876, Accuracy: 0.6770\n",
            "Epoch 48/50, Loss: 12022.7598, AUC: 0.7875, Accuracy: 0.6771\n",
            "Epoch 49/50, Loss: 11885.9346, AUC: 0.7873, Accuracy: 0.6772\n",
            "Epoch 50/50, Loss: 11751.0693, AUC: 0.7872, Accuracy: 0.6772\n",
            "Final Test Results - Loss: 11804.8330, ROC AUC: 0.7817, Accuracy: 0.6738\n"
          ]
        },
        {
          "output_type": "display_data",
          "data": {
            "text/plain": [
              "<Figure size 1000x600 with 1 Axes>"
            ],
            "image/png": "[encoded data removed]"
          },
          "metadata": {}
        }
      ]
    },
    {
      "cell_type": "markdown",
      "metadata": {
        "id": "b7lFQzQ_gpaP"
      },
      "source": [
        "#### Save the model"
      ]
    },
    {
      "cell_type": "code",
      "execution_count": null,
      "metadata": {
        "colab": {
          "base_uri": "https://localhost:8080/"
        },
        "id": "kDDrymSDguke",
        "outputId": "3e523e55-92eb-4ae2-e258-5394d4a3c887"
      },
      "outputs": [
        {
          "name": "stdout",
          "output_type": "stream",
          "text": [
            "Model saved as 'graphsage_model.pth'\n"
          ]
        }
      ],
      "source": [
        "# Save the model state\n",
        "torch.save(model.state_dict(), 'graphsage_model.pth')\n",
        "print(\"Model saved as 'graphsage_model.pth'\")"
      ]
    },
    {
      "cell_type": "markdown",
      "metadata": {
        "id": "_thHpZyUhWiw"
      },
      "source": []
    }
  ],
  "metadata": {
    "accelerator": "GPU",
    "colab": {
      "gpuType": "A100",
      "machine_shape": "hm",
      "provenance": []
    },
    "kernelspec": {
      "display_name": "Python 3",
      "name": "python3"
    },
    "language_info": {
      "codemirror_mode": {
        "name": "ipython",
        "version": 3
      },
      "file_extension": ".py",
      "mimetype": "text/x-python",
      "name": "python",
      "nbconvert_exporter": "python",
      "pygments_lexer": "ipython3",
      "version": "3.11.10"
    }
  },
  "nbformat": 4,
  "nbformat_minor": 0
}