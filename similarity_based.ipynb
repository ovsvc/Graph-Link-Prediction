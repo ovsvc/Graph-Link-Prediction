{
 "cells": [
  {
   "cell_type": "code",
   "execution_count": 1,
   "id": "a01b7a39-47b6-4c16-a101-477b9345a892",
   "metadata": {},
   "outputs": [],
   "source": [
    "import pandas as pd\n",
    "import networkx as nx\n",
    "import os\n",
    "from pathlib import Path\n",
    "from sklearn.model_selection import train_test_split\n",
    "from sklearn.linear_model import LogisticRegression\n",
    "from sklearn.metrics import accuracy_score, roc_auc_score\n",
    "import random"
   ]
  },
  {
   "cell_type": "code",
   "execution_count": 2,
   "id": "77b02dd6-59d7-4ee6-af0b-ab83771a354d",
   "metadata": {},
   "outputs": [],
   "source": [
    "folder_path = './data'"
   ]
  },
  {
   "cell_type": "code",
   "execution_count": 3,
   "id": "f44afac8-596b-46ef-a338-818b0e410bcd",
   "metadata": {},
   "outputs": [
    {
     "name": "stdout",
     "output_type": "stream",
     "text": [
      "Reading file: df_edge_list_undirected_users_votes_to_postings_net\n",
      "Reading file: df_edge_list_directed_users_votes_to_postings_net\n",
      "dict_keys(['df_edge_list_undirected_users_votes_to_postings_net', 'df_edge_list_directed_users_votes_to_postings_net'])\n"
     ]
    }
   ],
   "source": [
    "# Directory containing your Parquet files\n",
    "relative_path_to_data = folder_path\n",
    "data_directory = os.path.abspath(relative_path_to_data)\n",
    "\n",
    "# Desired file stems to load\n",
    "# desired_files = {\n",
    "#     \"df_edge_list_undirected_users_postings_replies\",\n",
    "#     \"df_edge_list_directed_users_postings_replies\",\n",
    "# }\n",
    "\n",
    "# Dictionary to store DataFrames with stem names as keys\n",
    "dataframes = {}\n",
    "\n",
    "# Iterate over all Parquet files in the directory\n",
    "for file_path in Path(data_directory).glob(\"*.parquet\"):\n",
    "\n",
    "    # Extract the file stem (name without extension)\n",
    "    file_stem = file_path.stem\n",
    "    \n",
    "    # Check if the file stem is in the desired list\n",
    "    # if file_stem in desired_files:\n",
    "    print(f\"Reading file: {file_stem}\")\n",
    "        \n",
    "        # Read the Parquet file into a DataFrame\n",
    "    df = pd.read_parquet(file_path)\n",
    "        \n",
    "        # Store the DataFrame in the dictionary with the stem as the key\n",
    "    dataframes[file_stem] = df\n",
    "        \n",
    "        # Optionally, break if all desired files are loaded\n",
    "        # if len(dataframes) == len(desired_files):\n",
    "        #     break\n",
    "\n",
    "# Access DataFrames by their file stem\n",
    "print(dataframes.keys())  # Prints the stems of all loaded files"
   ]
  },
  {
   "cell_type": "code",
   "execution_count": 4,
   "id": "1e008eda-cf77-4ffa-8c48-56d569ff3354",
   "metadata": {},
   "outputs": [],
   "source": [
    "undirected_votes = dataframes[\"df_edge_list_undirected_users_votes_to_postings_net\"]\n",
    "directed_votes = dataframes[\"df_edge_list_directed_users_votes_to_postings_net\"]"
   ]
  },
  {
   "cell_type": "code",
   "execution_count": 5,
   "id": "8bd6c3e3-c30f-4dcc-a327-a8a820443c04",
   "metadata": {},
   "outputs": [
    {
     "name": "stdout",
     "output_type": "stream",
     "text": [
      "Undirected Replies DataFrame Info:\n",
      "<class 'pandas.core.frame.DataFrame'>\n",
      "RangeIndex: 5535637 entries, 0 to 5535636\n",
      "Data columns (total 3 columns):\n",
      " #   Column                       Dtype\n",
      "---  ------                       -----\n",
      " 0   ID_CommunityIdentity_min     int64\n",
      " 1   ID_CommunityIdentity_max     int64\n",
      " 2   count_votes_to_postings_net  int64\n",
      "dtypes: int64(3)\n",
      "memory usage: 126.7 MB\n",
      "None \n",
      "\n",
      "Directed Replies DataFrame Info:\n",
      "<class 'pandas.core.frame.DataFrame'>\n",
      "RangeIndex: 6105250 entries, 0 to 6105249\n",
      "Data columns (total 3 columns):\n",
      " #   Column                       Dtype\n",
      "---  ------                       -----\n",
      " 0   ID_CommunityIdentity_Source  int64\n",
      " 1   ID_CommunityIdentity_Target  int64\n",
      " 2   count_votes_to_postings_net  int64\n",
      "dtypes: int64(3)\n",
      "memory usage: 139.7 MB\n",
      "None \n",
      "\n"
     ]
    }
   ],
   "source": [
    "print(\"Undirected Replies DataFrame Info:\")\n",
    "print(undirected_votes.info(), \"\\n\")\n",
    "\n",
    "print(\"Directed Replies DataFrame Info:\")\n",
    "print(directed_votes.info(), \"\\n\")"
   ]
  },
  {
   "cell_type": "markdown",
   "id": "d9f7d2a3-9623-4e41-a6c5-e1d12da5c3d3",
   "metadata": {},
   "source": [
    "Creating a graph"
   ]
  },
  {
   "cell_type": "code",
   "execution_count": 6,
   "id": "564ad2bd-49c9-41e1-b234-127c8924d11d",
   "metadata": {},
   "outputs": [],
   "source": [
    "G_directed = nx.from_pandas_edgelist(\n",
    "    directed_votes,  # Replace with your DataFrame variable\n",
    "    source=\"ID_CommunityIdentity_Source\",\n",
    "    target=\"ID_CommunityIdentity_Target\",\n",
    "    edge_attr=\"count_votes_to_postings_net\",  # Optional: edge weights\n",
    "    create_using=nx.DiGraph()\n",
    ")\n",
    "\n",
    "G_undirected = nx.from_pandas_edgelist(\n",
    "    undirected_votes,\n",
    "    source='ID_CommunityIdentity_min',\n",
    "    target='ID_CommunityIdentity_max',\n",
    "    edge_attr=\"count_votes_to_postings_net\",\n",
    "    create_using=nx.Graph()\n",
    ")"
   ]
  },
  {
   "cell_type": "code",
   "execution_count": 1,
   "id": "35a2aa06-ed66-40ad-929d-8535ac0251a4",
   "metadata": {},
   "outputs": [
    {
     "ename": "NameError",
     "evalue": "name 'G_directed' is not defined",
     "output_type": "error",
     "traceback": [
      "\u001b[0;31m---------------------------------------------------------------------------\u001b[0m",
      "\u001b[0;31mNameError\u001b[0m                                 Traceback (most recent call last)",
      "Cell \u001b[0;32mIn[1], line 2\u001b[0m\n\u001b[1;32m      1\u001b[0m \u001b[38;5;66;03m# Step 1: Extract edges\u001b[39;00m\n\u001b[0;32m----> 2\u001b[0m edges \u001b[38;5;241m=\u001b[39m \u001b[38;5;28mlist\u001b[39m(\u001b[43mG_directed\u001b[49m\u001b[38;5;241m.\u001b[39medges())\n\u001b[1;32m      4\u001b[0m \u001b[38;5;28;01mdef\u001b[39;00m \u001b[38;5;21mgenerate_negative_edges\u001b[39m(G, num_samples):\n\u001b[1;32m      5\u001b[0m     negative_edges \u001b[38;5;241m=\u001b[39m []\n",
      "\u001b[0;31mNameError\u001b[0m: name 'G_directed' is not defined"
     ]
    }
   ],
   "source": [
    "# Step 1: Extract edges\n",
    "edges = list(G_directed.edges())\n",
    "\n",
    "def generate_negative_edges(G, num_samples):\n",
    "    negative_edges = []\n",
    "    nodes = list(G.nodes())\n",
    "    while len(negative_edges) < num_samples:\n",
    "        u, v = random.sample(nodes, 2)\n",
    "        if not G.has_edge(u, v) and not G.has_edge(v, u) and (u, v) not in negative_edges:\n",
    "            negative_edges.append((u, v))\n",
    "    return negative_edges\n",
    "\n",
    "# Step 2: Train-test split\n",
    "train_edges, test_edges = train_test_split(edges, test_size=0.3, random_state=42)\n",
    "train_edges, val_edges = train_test_split(train_edges, test_size=0.1, random_state=42)\n",
    "\n",
    "# Step 3: Generate negative edges (non-edges)\n",
    "nodes = list(G_directed.nodes())\n",
    "all_possible_edges = set((u, v) for u in nodes for v in nodes if u != v)\n",
    "existing_edges = set(G_directed.edges()) | set((v, u) for u, v in G_directed.edges())\n",
    "non_edges = list(all_possible_edges - existing_edges)\n",
    "\n",
    "# Randomly sample from the non-edges\n",
    "random.seed(42)\n",
    "negative_edges = random.sample(non_edges, len(test_edges) + len(val_edges))\n",
    "\n",
    "# Split negative edges into validation and test\n",
    "val_edges_false = generate_negative_edges(G_directed, len(val_edges))\n",
    "test_edges_false = generate_negative_edges(G_directed, len(test_edges))\n",
    "\n",
    "# Step 4: Create the training graph\n",
    "G_train = nx.DiGraph()\n",
    "G_train.add_edges_from(train_edges)\n",
    "\n",
    "# Print summary\n",
    "print(f\"Total nodes: {G_directed.number_of_nodes()}\")\n",
    "print(f\"Total edges in original graph: {len(edges)}\")\n",
    "print(f\"Training edges: {len(train_edges)}\")\n",
    "print(f\"Validation edges (positive): {len(val_edges)}, Validation edges (negative): {len(val_edges_false)}\")\n",
    "print(f\"Test edges (positive): {len(test_edges)}, Test edges (negative): {len(test_edges_false)}\")\n"
   ]
  },
  {
   "cell_type": "code",
   "execution_count": null,
   "id": "afb2cd9f-e9cf-417a-b36d-74d858b2ae91",
   "metadata": {},
   "outputs": [],
   "source": [
    "def compute_scores(graph, edges, method):\n",
    "    if method == 'common_neighbors':\n",
    "        return [(u, v, len(list(nx.common_neighbors(graph, u, v)))) for u, v in edges]\n",
    "    elif method == 'jaccard':\n",
    "        return [(u, v, p) for u, v, p in nx.jaccard_coefficient(graph, edges)]\n",
    "    elif method == 'katz':\n",
    "        katz_dict = nx.katz_similarity(graph, alpha=0.005)  # alpha needs to be tuned\n",
    "        return [(u, v, katz_dict.get((u, v), 0)) for u, v in edges]\n",
    "    elif method == 'simrank':\n",
    "        simrank_dict = nx.simrank_similarity(graph)  # consider using a decay factor\n",
    "        return [(u, v, simrank_dict[u].get(v, 0)) for u, v in edges]\n",
    "    else:\n",
    "        raise ValueError(\"Unknown method\")\n",
    "\n",
    "# Function to calculate AUC scores for predictions\n",
    "def calculate_auc(graph, edges_pos, edges_neg, method):\n",
    "    scores_pos = compute_scores(graph, edges_pos, method)\n",
    "    scores_neg = compute_scores(graph, edges_neg, method)\n",
    "    labels = [1] * len(scores_pos) + [0] * len(scores_neg)\n",
    "    scores = [score for _, _, score in scores_pos] + [score for _, _, score in scores_neg]\n",
    "    return roc_auc_score(labels, scores)\n",
    "\n",
    "# Example usage\n",
    "methods = ['common_neighbors', 'jaccard', 'katz', 'simrank']\n",
    "results = {}\n",
    "for method in methods:\n",
    "    auc_val = calculate_auc(G_train, val_edges, val_edges_false, method)\n",
    "    results[method] = auc_val\n",
    "\n",
    "# Print results\n",
    "for method, auc_score in results.items():\n",
    "    print(f\"{method} Validation AUC: {auc_score}\")"
   ]
  }
 ],
 "metadata": {
  "kernelspec": {
   "display_name": "Python 3 (ipykernel)",
   "language": "python",
   "name": "python3"
  },
  "language_info": {
   "codemirror_mode": {
    "name": "ipython",
    "version": 3
   },
   "file_extension": ".py",
   "mimetype": "text/x-python",
   "name": "python",
   "nbconvert_exporter": "python",
   "pygments_lexer": "ipython3",
   "version": "3.11.10"
  }
 },
 "nbformat": 4,
 "nbformat_minor": 5
}
